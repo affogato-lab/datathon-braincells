{
 "cells": [
  {
   "cell_type": "code",
   "execution_count": 1,
   "metadata": {},
   "outputs": [],
   "source": [
    "import pandas as pd \n",
    "import numpy as np"
   ]
  },
  {
   "cell_type": "code",
   "execution_count": 9,
   "metadata": {},
   "outputs": [],
   "source": [
    "visitors = pd.read_excel('predicted_visitations.xlsx')\n",
    "visitors = visitors.rename(columns={'Unnamed: 0': 'week_num'})"
   ]
  },
  {
   "cell_type": "code",
   "execution_count": 12,
   "metadata": {},
   "outputs": [],
   "source": [
    "visitors = visitors.melt(id_vars=['week_num'], var_name='Resort')\n",
    "visitors = visitors.rename(columns={'value':'n_visits'})"
   ]
  },
  {
   "cell_type": "code",
   "execution_count": 14,
   "metadata": {},
   "outputs": [],
   "source": [
    "visitors['n_visits'] = visitors['n_visits'].apply(lambda x: int(x))"
   ]
  },
  {
   "cell_type": "code",
   "execution_count": 16,
   "metadata": {},
   "outputs": [],
   "source": [
    "visitors['Year'] = [2026]*visitors.shape[0]"
   ]
  },
  {
   "cell_type": "code",
   "execution_count": 18,
   "metadata": {},
   "outputs": [
    {
     "data": {
      "text/plain": [
       "Index(['week_num', 'Resort', 'n_visits', 'Year'], dtype='object')"
      ]
     },
     "execution_count": 18,
     "metadata": {},
     "output_type": "execute_result"
    }
   ],
   "source": [
    "visitors.columns"
   ]
  },
  {
   "cell_type": "code",
   "execution_count": 38,
   "metadata": {},
   "outputs": [],
   "source": [
    "prices = pd.read_excel(\"Price and Distance Data.xlsx\")"
   ]
  },
  {
   "cell_type": "code",
   "execution_count": 39,
   "metadata": {},
   "outputs": [],
   "source": [
    "prices = prices.loc[0]"
   ]
  },
  {
   "cell_type": "code",
   "execution_count": 33,
   "metadata": {},
   "outputs": [
    {
     "data": {
      "text/plain": [
       "{'Unnamed: 0': 'Price (AUD)',\n",
       " 'Mt Baw Baw': 302,\n",
       " 'Mt. Stirling': 186,\n",
       " 'Mt. Hotham': 942,\n",
       " 'Falls Creek': 942,\n",
       " 'Mt. Buller': 573,\n",
       " 'Selwyn': 733,\n",
       " 'Thredbo': 819,\n",
       " 'Perisher': 1029,\n",
       " 'Charlotte Pass': 927}"
      ]
     },
     "execution_count": 33,
     "metadata": {},
     "output_type": "execute_result"
    }
   ],
   "source": [
    "prices.to_dict()"
   ]
  },
  {
   "cell_type": "code",
   "execution_count": 40,
   "metadata": {},
   "outputs": [],
   "source": [
    "prices = prices.to_dict()\n",
    "del prices['Unnamed: 0']"
   ]
  },
  {
   "cell_type": "code",
   "execution_count": 41,
   "metadata": {},
   "outputs": [
    {
     "data": {
      "text/plain": [
       "{'Mt Baw Baw': 302,\n",
       " 'Mt. Stirling': 186,\n",
       " 'Mt. Hotham': 942,\n",
       " 'Falls Creek': 942,\n",
       " 'Mt. Buller': 573,\n",
       " 'Selwyn': 733,\n",
       " 'Thredbo': 819,\n",
       " 'Perisher': 1029,\n",
       " 'Charlotte Pass': 927}"
      ]
     },
     "execution_count": 41,
     "metadata": {},
     "output_type": "execute_result"
    }
   ],
   "source": [
    "prices"
   ]
  },
  {
   "cell_type": "code",
   "execution_count": 45,
   "metadata": {},
   "outputs": [],
   "source": [
    "prices['Mt. Baw Baw'] = prices['Mt Baw Baw']"
   ]
  },
  {
   "cell_type": "code",
   "execution_count": 46,
   "metadata": {},
   "outputs": [],
   "source": [
    "visitors['Price'] = visitors['Resort'].map(prices)"
   ]
  },
  {
   "cell_type": "code",
   "execution_count": 47,
   "metadata": {},
   "outputs": [
    {
     "data": {
      "text/html": [
       "<div>\n",
       "<style scoped>\n",
       "    .dataframe tbody tr th:only-of-type {\n",
       "        vertical-align: middle;\n",
       "    }\n",
       "\n",
       "    .dataframe tbody tr th {\n",
       "        vertical-align: top;\n",
       "    }\n",
       "\n",
       "    .dataframe thead th {\n",
       "        text-align: right;\n",
       "    }\n",
       "</style>\n",
       "<table border=\"1\" class=\"dataframe\">\n",
       "  <thead>\n",
       "    <tr style=\"text-align: right;\">\n",
       "      <th></th>\n",
       "      <th>week_num</th>\n",
       "      <th>Resort</th>\n",
       "      <th>n_visits</th>\n",
       "      <th>Year</th>\n",
       "      <th>Price</th>\n",
       "    </tr>\n",
       "  </thead>\n",
       "  <tbody>\n",
       "    <tr>\n",
       "      <th>0</th>\n",
       "      <td>1</td>\n",
       "      <td>Mt. Baw Baw</td>\n",
       "      <td>5707</td>\n",
       "      <td>2026</td>\n",
       "      <td>302</td>\n",
       "    </tr>\n",
       "    <tr>\n",
       "      <th>1</th>\n",
       "      <td>2</td>\n",
       "      <td>Mt. Baw Baw</td>\n",
       "      <td>3371</td>\n",
       "      <td>2026</td>\n",
       "      <td>302</td>\n",
       "    </tr>\n",
       "    <tr>\n",
       "      <th>2</th>\n",
       "      <td>3</td>\n",
       "      <td>Mt. Baw Baw</td>\n",
       "      <td>7585</td>\n",
       "      <td>2026</td>\n",
       "      <td>302</td>\n",
       "    </tr>\n",
       "    <tr>\n",
       "      <th>3</th>\n",
       "      <td>4</td>\n",
       "      <td>Mt. Baw Baw</td>\n",
       "      <td>16836</td>\n",
       "      <td>2026</td>\n",
       "      <td>302</td>\n",
       "    </tr>\n",
       "    <tr>\n",
       "      <th>4</th>\n",
       "      <td>5</td>\n",
       "      <td>Mt. Baw Baw</td>\n",
       "      <td>14058</td>\n",
       "      <td>2026</td>\n",
       "      <td>302</td>\n",
       "    </tr>\n",
       "    <tr>\n",
       "      <th>...</th>\n",
       "      <td>...</td>\n",
       "      <td>...</td>\n",
       "      <td>...</td>\n",
       "      <td>...</td>\n",
       "      <td>...</td>\n",
       "    </tr>\n",
       "    <tr>\n",
       "      <th>130</th>\n",
       "      <td>11</td>\n",
       "      <td>Charlotte Pass</td>\n",
       "      <td>3226</td>\n",
       "      <td>2026</td>\n",
       "      <td>927</td>\n",
       "    </tr>\n",
       "    <tr>\n",
       "      <th>131</th>\n",
       "      <td>12</td>\n",
       "      <td>Charlotte Pass</td>\n",
       "      <td>3725</td>\n",
       "      <td>2026</td>\n",
       "      <td>927</td>\n",
       "    </tr>\n",
       "    <tr>\n",
       "      <th>132</th>\n",
       "      <td>13</td>\n",
       "      <td>Charlotte Pass</td>\n",
       "      <td>2989</td>\n",
       "      <td>2026</td>\n",
       "      <td>927</td>\n",
       "    </tr>\n",
       "    <tr>\n",
       "      <th>133</th>\n",
       "      <td>14</td>\n",
       "      <td>Charlotte Pass</td>\n",
       "      <td>2444</td>\n",
       "      <td>2026</td>\n",
       "      <td>927</td>\n",
       "    </tr>\n",
       "    <tr>\n",
       "      <th>134</th>\n",
       "      <td>15</td>\n",
       "      <td>Charlotte Pass</td>\n",
       "      <td>1803</td>\n",
       "      <td>2026</td>\n",
       "      <td>927</td>\n",
       "    </tr>\n",
       "  </tbody>\n",
       "</table>\n",
       "<p>135 rows × 5 columns</p>\n",
       "</div>"
      ],
      "text/plain": [
       "     week_num          Resort  n_visits  Year  Price\n",
       "0           1     Mt. Baw Baw      5707  2026    302\n",
       "1           2     Mt. Baw Baw      3371  2026    302\n",
       "2           3     Mt. Baw Baw      7585  2026    302\n",
       "3           4     Mt. Baw Baw     16836  2026    302\n",
       "4           5     Mt. Baw Baw     14058  2026    302\n",
       "..        ...             ...       ...   ...    ...\n",
       "130        11  Charlotte Pass      3226  2026    927\n",
       "131        12  Charlotte Pass      3725  2026    927\n",
       "132        13  Charlotte Pass      2989  2026    927\n",
       "133        14  Charlotte Pass      2444  2026    927\n",
       "134        15  Charlotte Pass      1803  2026    927\n",
       "\n",
       "[135 rows x 5 columns]"
      ]
     },
     "execution_count": 47,
     "metadata": {},
     "output_type": "execute_result"
    }
   ],
   "source": [
    "visitors"
   ]
  },
  {
   "cell_type": "code",
   "execution_count": 48,
   "metadata": {},
   "outputs": [],
   "source": [
    "visitors.to_csv('test_ratings.csv')"
   ]
  },
  {
   "cell_type": "code",
   "execution_count": 49,
   "metadata": {},
   "outputs": [
    {
     "data": {
      "text/plain": [
       "0.7451149957666873"
      ]
     },
     "execution_count": 49,
     "metadata": {},
     "output_type": "execute_result"
    }
   ],
   "source": [
    "0.8632004377702129**2"
   ]
  },
  {
   "cell_type": "code",
   "execution_count": 19,
   "metadata": {},
   "outputs": [
    {
     "data": {
      "text/html": [
       "<div>\n",
       "<style scoped>\n",
       "    .dataframe tbody tr th:only-of-type {\n",
       "        vertical-align: middle;\n",
       "    }\n",
       "\n",
       "    .dataframe tbody tr th {\n",
       "        vertical-align: top;\n",
       "    }\n",
       "\n",
       "    .dataframe thead th {\n",
       "        text-align: right;\n",
       "    }\n",
       "</style>\n",
       "<table border=\"1\" class=\"dataframe\">\n",
       "  <thead>\n",
       "    <tr style=\"text-align: right;\">\n",
       "      <th></th>\n",
       "      <th>Week</th>\n",
       "      <th>Maximum temperature (Degree C)</th>\n",
       "      <th>Minimum temperature (Degree C)</th>\n",
       "      <th>Rainfall amount (millimetres)</th>\n",
       "      <th>Mean temperature (Degree C)</th>\n",
       "    </tr>\n",
       "  </thead>\n",
       "  <tbody>\n",
       "    <tr>\n",
       "      <th>0</th>\n",
       "      <td>Week1 (2010-05-30)</td>\n",
       "      <td>5.351429</td>\n",
       "      <td>1.740000</td>\n",
       "      <td>309.6</td>\n",
       "      <td>3.545714</td>\n",
       "    </tr>\n",
       "    <tr>\n",
       "      <th>1</th>\n",
       "      <td>Week2 (2010-06-06)</td>\n",
       "      <td>5.612245</td>\n",
       "      <td>-0.351020</td>\n",
       "      <td>245.4</td>\n",
       "      <td>2.630612</td>\n",
       "    </tr>\n",
       "    <tr>\n",
       "      <th>2</th>\n",
       "      <td>Week3 (2010-06-13)</td>\n",
       "      <td>0.469388</td>\n",
       "      <td>-4.375510</td>\n",
       "      <td>121.0</td>\n",
       "      <td>-1.953061</td>\n",
       "    </tr>\n",
       "    <tr>\n",
       "      <th>3</th>\n",
       "      <td>Week4 (2010-06-20)</td>\n",
       "      <td>2.171429</td>\n",
       "      <td>-1.857143</td>\n",
       "      <td>368.8</td>\n",
       "      <td>0.157143</td>\n",
       "    </tr>\n",
       "    <tr>\n",
       "      <th>4</th>\n",
       "      <td>Week5 (2010-06-27)</td>\n",
       "      <td>2.907143</td>\n",
       "      <td>-1.830233</td>\n",
       "      <td>287.4</td>\n",
       "      <td>0.538455</td>\n",
       "    </tr>\n",
       "    <tr>\n",
       "      <th>...</th>\n",
       "      <td>...</td>\n",
       "      <td>...</td>\n",
       "      <td>...</td>\n",
       "      <td>...</td>\n",
       "      <td>...</td>\n",
       "    </tr>\n",
       "    <tr>\n",
       "      <th>788</th>\n",
       "      <td>Week789 (2025-07-06)</td>\n",
       "      <td>3.044898</td>\n",
       "      <td>-1.583673</td>\n",
       "      <td>204.2</td>\n",
       "      <td>0.730612</td>\n",
       "    </tr>\n",
       "    <tr>\n",
       "      <th>789</th>\n",
       "      <td>Week790 (2025-07-13)</td>\n",
       "      <td>0.879592</td>\n",
       "      <td>-2.606122</td>\n",
       "      <td>318.8</td>\n",
       "      <td>-0.863265</td>\n",
       "    </tr>\n",
       "    <tr>\n",
       "      <th>790</th>\n",
       "      <td>Week791 (2025-07-20)</td>\n",
       "      <td>0.234694</td>\n",
       "      <td>-3.887755</td>\n",
       "      <td>149.8</td>\n",
       "      <td>-1.826531</td>\n",
       "    </tr>\n",
       "    <tr>\n",
       "      <th>791</th>\n",
       "      <td>Week792 (2025-07-27)</td>\n",
       "      <td>1.545652</td>\n",
       "      <td>-2.748936</td>\n",
       "      <td>417.8</td>\n",
       "      <td>-0.601642</td>\n",
       "    </tr>\n",
       "    <tr>\n",
       "      <th>792</th>\n",
       "      <td>Week793 (2025-08-03)</td>\n",
       "      <td>0.700000</td>\n",
       "      <td>-0.883333</td>\n",
       "      <td>223.6</td>\n",
       "      <td>-0.091667</td>\n",
       "    </tr>\n",
       "  </tbody>\n",
       "</table>\n",
       "<p>793 rows × 5 columns</p>\n",
       "</div>"
      ],
      "text/plain": [
       "                     Week  Maximum temperature (Degree C)  \\\n",
       "0      Week1 (2010-05-30)                        5.351429   \n",
       "1      Week2 (2010-06-06)                        5.612245   \n",
       "2      Week3 (2010-06-13)                        0.469388   \n",
       "3      Week4 (2010-06-20)                        2.171429   \n",
       "4      Week5 (2010-06-27)                        2.907143   \n",
       "..                    ...                             ...   \n",
       "788  Week789 (2025-07-06)                        3.044898   \n",
       "789  Week790 (2025-07-13)                        0.879592   \n",
       "790  Week791 (2025-07-20)                        0.234694   \n",
       "791  Week792 (2025-07-27)                        1.545652   \n",
       "792  Week793 (2025-08-03)                        0.700000   \n",
       "\n",
       "     Minimum temperature (Degree C)  Rainfall amount (millimetres)  \\\n",
       "0                          1.740000                          309.6   \n",
       "1                         -0.351020                          245.4   \n",
       "2                         -4.375510                          121.0   \n",
       "3                         -1.857143                          368.8   \n",
       "4                         -1.830233                          287.4   \n",
       "..                              ...                            ...   \n",
       "788                       -1.583673                          204.2   \n",
       "789                       -2.606122                          318.8   \n",
       "790                       -3.887755                          149.8   \n",
       "791                       -2.748936                          417.8   \n",
       "792                       -0.883333                          223.6   \n",
       "\n",
       "     Mean temperature (Degree C)  \n",
       "0                       3.545714  \n",
       "1                       2.630612  \n",
       "2                      -1.953061  \n",
       "3                       0.157143  \n",
       "4                       0.538455  \n",
       "..                           ...  \n",
       "788                     0.730612  \n",
       "789                    -0.863265  \n",
       "790                    -1.826531  \n",
       "791                    -0.601642  \n",
       "792                    -0.091667  \n",
       "\n",
       "[793 rows x 5 columns]"
      ]
     },
     "execution_count": 19,
     "metadata": {},
     "output_type": "execute_result"
    }
   ],
   "source": [
    "file_path = \"2025 Allianz Datathon Dataset.xlsx\"\n",
    "df = pd.read_excel(file_path, sheet_name=\"Climate Data\")\n",
    "\n",
    "df[\"Date\"] = pd.to_datetime(df[[\"Year\", \"Month\", \"Day\"]])\n",
    "cols = [\"Maximum temperature (Degree C)\", \"Minimum temperature (Degree C)\", \"Rainfall amount (millimetres)\"]\n",
    "df = df[[\"Date\"] + cols].replace([\"M\", \"T\", \"-\", \"--\", \"\"], np.nan)\n",
    "df[cols] = df[cols].apply(pd.to_numeric, errors=\"coerce\")\n",
    "df = df[df[\"Date\"] >= \"2010-05-26\"]\n",
    "\n",
    "weekly = df.set_index(\"Date\").resample(\"W-SUN\").agg({\n",
    "    \"Maximum temperature (Degree C)\": \"mean\",\n",
    "    \"Minimum temperature (Degree C)\": \"mean\",\n",
    "    \"Rainfall amount (millimetres)\": \"sum\"\n",
    "})\n",
    "\n",
    "temp_cols = [\"Maximum temperature (Degree C)\", \"Minimum temperature (Degree C)\"]\n",
    "for col in temp_cols:\n",
    "    weekly[col] = weekly[col].interpolate(method=\"linear\")\n",
    "\n",
    "weekly = weekly.dropna(how=\"all\").reset_index()\n",
    "weekly[\"Mean temperature (Degree C)\"] = weekly[[\"Maximum temperature (Degree C)\", \"Minimum temperature (Degree C)\"]].mean(axis=1)\n",
    "weekly[\"Week\"] = [f\"Week{i+1} ({d.strftime('%Y-%m-%d')})\" for i, d in enumerate(weekly[\"Date\"])]\n",
    "\n",
    "final = weekly[[\"Week\"] + cols + [\"Mean temperature (Degree C)\"]]\n",
    "final"
   ]
  },
  {
   "cell_type": "code",
   "execution_count": null,
   "metadata": {},
   "outputs": [],
   "source": []
  }
 ],
 "metadata": {
  "kernelspec": {
   "display_name": "Python 3",
   "language": "python",
   "name": "python3"
  },
  "language_info": {
   "codemirror_mode": {
    "name": "ipython",
    "version": 3
   },
   "file_extension": ".py",
   "mimetype": "text/x-python",
   "name": "python",
   "nbconvert_exporter": "python",
   "pygments_lexer": "ipython3",
   "version": "3.10.11"
  },
  "orig_nbformat": 4
 },
 "nbformat": 4,
 "nbformat_minor": 2
}
