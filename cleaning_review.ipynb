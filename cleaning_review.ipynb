{
 "cells": [
  {
   "cell_type": "markdown",
   "metadata": {},
   "source": [
    "# library imports"
   ]
  },
  {
   "cell_type": "code",
   "execution_count": 1485,
   "metadata": {},
   "outputs": [],
   "source": [
    "import pandas as pd \n",
    "import numpy as np\n",
    "import os\n",
    "from datetime import datetime\n",
    "from matplotlib import pyplot as plt\n",
    "from scipy.stats import pearsonr, kruskal\n",
    "from scikit_posthocs import posthoc_dunn\n",
    "import itertools\n",
    "import seaborn as sns\n",
    "import optuna\n",
    "from optuna.pruners import MedianPruner\n",
    "from catboost import CatBoostRegressor, Pool\n",
    "from sklearn.model_selection import KFold"
   ]
  },
  {
   "cell_type": "markdown",
   "metadata": {},
   "source": [
    "# Load our data"
   ]
  },
  {
   "cell_type": "code",
   "execution_count": 1486,
   "metadata": {},
   "outputs": [],
   "source": [
    "ratings = {'Rating': [], 'Date': [], 'Resort': []}\n",
    "n_comment = {}\n",
    "ratings = pd.DataFrame(ratings)\n",
    "for file in os.listdir('comments/'):\n",
    "    filepath = os.path.join('comments/', file)\n",
    "    df = pd.read_csv(filepath)\n",
    "    date = df['Date']\n",
    "    rating = df['Rating']\n",
    "    resort = file.split('.')\n",
    "    if len(resort)==2: resort = resort[0]\n",
    "    else: \n",
    "        resort = resort[0]+'.'+resort[1]\n",
    "    df_tmp = pd.DataFrame({\n",
    "        'Rating': rating,\n",
    "        'Date': date,\n",
    "        'Resort': [resort]*df.shape[0]\n",
    "    })\n",
    "    ratings =  pd.concat([ratings, df_tmp])\n",
    "    n_comment[resort] = df.shape[0]"
   ]
  },
  {
   "cell_type": "code",
   "execution_count": 1487,
   "metadata": {},
   "outputs": [
    {
     "data": {
      "text/html": [
       "<div>\n",
       "<style scoped>\n",
       "    .dataframe tbody tr th:only-of-type {\n",
       "        vertical-align: middle;\n",
       "    }\n",
       "\n",
       "    .dataframe tbody tr th {\n",
       "        vertical-align: top;\n",
       "    }\n",
       "\n",
       "    .dataframe thead th {\n",
       "        text-align: right;\n",
       "    }\n",
       "</style>\n",
       "<table border=\"1\" class=\"dataframe\">\n",
       "  <thead>\n",
       "    <tr style=\"text-align: right;\">\n",
       "      <th></th>\n",
       "      <th>Rating</th>\n",
       "      <th>Date</th>\n",
       "      <th>Resort</th>\n",
       "    </tr>\n",
       "  </thead>\n",
       "  <tbody>\n",
       "    <tr>\n",
       "      <th>0</th>\n",
       "      <td>4.0</td>\n",
       "      <td>2017-04-22 03:53:09</td>\n",
       "      <td>Charlotte</td>\n",
       "    </tr>\n",
       "    <tr>\n",
       "      <th>1</th>\n",
       "      <td>5.0</td>\n",
       "      <td>2017-06-11 03:54:51</td>\n",
       "      <td>Charlotte</td>\n",
       "    </tr>\n",
       "    <tr>\n",
       "      <th>2</th>\n",
       "      <td>5.0</td>\n",
       "      <td>2017-10-18 07:23:51</td>\n",
       "      <td>Charlotte</td>\n",
       "    </tr>\n",
       "    <tr>\n",
       "      <th>3</th>\n",
       "      <td>4.0</td>\n",
       "      <td>2017-12-04 09:57:32</td>\n",
       "      <td>Charlotte</td>\n",
       "    </tr>\n",
       "    <tr>\n",
       "      <th>4</th>\n",
       "      <td>4.0</td>\n",
       "      <td>2017-12-08 06:26:21</td>\n",
       "      <td>Charlotte</td>\n",
       "    </tr>\n",
       "    <tr>\n",
       "      <th>...</th>\n",
       "      <td>...</td>\n",
       "      <td>...</td>\n",
       "      <td>...</td>\n",
       "    </tr>\n",
       "    <tr>\n",
       "      <th>2635</th>\n",
       "      <td>2.0</td>\n",
       "      <td>2025-08-27 11:34:04</td>\n",
       "      <td>Thredbo</td>\n",
       "    </tr>\n",
       "    <tr>\n",
       "      <th>2636</th>\n",
       "      <td>4.0</td>\n",
       "      <td>2025-08-27 12:16:21</td>\n",
       "      <td>Thredbo</td>\n",
       "    </tr>\n",
       "    <tr>\n",
       "      <th>2637</th>\n",
       "      <td>5.0</td>\n",
       "      <td>2025-08-29 04:46:27</td>\n",
       "      <td>Thredbo</td>\n",
       "    </tr>\n",
       "    <tr>\n",
       "      <th>2638</th>\n",
       "      <td>5.0</td>\n",
       "      <td>2025-08-29 12:18:15</td>\n",
       "      <td>Thredbo</td>\n",
       "    </tr>\n",
       "    <tr>\n",
       "      <th>2639</th>\n",
       "      <td>1.0</td>\n",
       "      <td>2025-08-30 01:19:21</td>\n",
       "      <td>Thredbo</td>\n",
       "    </tr>\n",
       "  </tbody>\n",
       "</table>\n",
       "<p>10491 rows × 3 columns</p>\n",
       "</div>"
      ],
      "text/plain": [
       "      Rating                 Date     Resort\n",
       "0        4.0  2017-04-22 03:53:09  Charlotte\n",
       "1        5.0  2017-06-11 03:54:51  Charlotte\n",
       "2        5.0  2017-10-18 07:23:51  Charlotte\n",
       "3        4.0  2017-12-04 09:57:32  Charlotte\n",
       "4        4.0  2017-12-08 06:26:21  Charlotte\n",
       "...      ...                  ...        ...\n",
       "2635     2.0  2025-08-27 11:34:04    Thredbo\n",
       "2636     4.0  2025-08-27 12:16:21    Thredbo\n",
       "2637     5.0  2025-08-29 04:46:27    Thredbo\n",
       "2638     5.0  2025-08-29 12:18:15    Thredbo\n",
       "2639     1.0  2025-08-30 01:19:21    Thredbo\n",
       "\n",
       "[10491 rows x 3 columns]"
      ]
     },
     "execution_count": 1487,
     "metadata": {},
     "output_type": "execute_result"
    }
   ],
   "source": [
    "ratings"
   ]
  },
  {
   "cell_type": "code",
   "execution_count": 1488,
   "metadata": {},
   "outputs": [
    {
     "data": {
      "text/html": [
       "<div>\n",
       "<style scoped>\n",
       "    .dataframe tbody tr th:only-of-type {\n",
       "        vertical-align: middle;\n",
       "    }\n",
       "\n",
       "    .dataframe tbody tr th {\n",
       "        vertical-align: top;\n",
       "    }\n",
       "\n",
       "    .dataframe thead th {\n",
       "        text-align: right;\n",
       "    }\n",
       "</style>\n",
       "<table border=\"1\" class=\"dataframe\">\n",
       "  <thead>\n",
       "    <tr style=\"text-align: right;\">\n",
       "      <th></th>\n",
       "      <th>Rating</th>\n",
       "      <th>Date</th>\n",
       "      <th>Resort</th>\n",
       "    </tr>\n",
       "  </thead>\n",
       "  <tbody>\n",
       "    <tr>\n",
       "      <th>0</th>\n",
       "      <td>4.0</td>\n",
       "      <td>2017-04-22 03:53:09</td>\n",
       "      <td>Charlotte</td>\n",
       "    </tr>\n",
       "    <tr>\n",
       "      <th>1</th>\n",
       "      <td>5.0</td>\n",
       "      <td>2017-06-11 03:54:51</td>\n",
       "      <td>Charlotte</td>\n",
       "    </tr>\n",
       "    <tr>\n",
       "      <th>2</th>\n",
       "      <td>5.0</td>\n",
       "      <td>2017-10-18 07:23:51</td>\n",
       "      <td>Charlotte</td>\n",
       "    </tr>\n",
       "    <tr>\n",
       "      <th>3</th>\n",
       "      <td>4.0</td>\n",
       "      <td>2017-12-04 09:57:32</td>\n",
       "      <td>Charlotte</td>\n",
       "    </tr>\n",
       "    <tr>\n",
       "      <th>4</th>\n",
       "      <td>4.0</td>\n",
       "      <td>2017-12-08 06:26:21</td>\n",
       "      <td>Charlotte</td>\n",
       "    </tr>\n",
       "  </tbody>\n",
       "</table>\n",
       "</div>"
      ],
      "text/plain": [
       "   Rating                 Date     Resort\n",
       "0     4.0  2017-04-22 03:53:09  Charlotte\n",
       "1     5.0  2017-06-11 03:54:51  Charlotte\n",
       "2     5.0  2017-10-18 07:23:51  Charlotte\n",
       "3     4.0  2017-12-04 09:57:32  Charlotte\n",
       "4     4.0  2017-12-08 06:26:21  Charlotte"
      ]
     },
     "execution_count": 1488,
     "metadata": {},
     "output_type": "execute_result"
    }
   ],
   "source": [
    "ratings = pd.DataFrame(ratings)\n",
    "ratings.head()"
   ]
  },
  {
   "cell_type": "code",
   "execution_count": 1489,
   "metadata": {},
   "outputs": [
    {
     "data": {
      "text/plain": [
       "array(['Charlotte', 'Falls Creek', 'Mt. Baw Baw', 'Mt. Buller',\n",
       "       'Mt. Hotham', 'Mt. Stirling', 'Perisher', 'Selwyn', 'Thredbo'],\n",
       "      dtype=object)"
      ]
     },
     "execution_count": 1489,
     "metadata": {},
     "output_type": "execute_result"
    }
   ],
   "source": [
    "ratings['Resort'].unique()"
   ]
  },
  {
   "cell_type": "code",
   "execution_count": 1490,
   "metadata": {},
   "outputs": [],
   "source": [
    "ratings['Resort']=ratings['Resort'].map(lambda x: 'Charlotte Pass' if x=='Charlotte' else x)"
   ]
  },
  {
   "cell_type": "markdown",
   "metadata": {},
   "source": [
    "# Data transformations"
   ]
  },
  {
   "cell_type": "code",
   "execution_count": 1491,
   "metadata": {},
   "outputs": [],
   "source": [
    "# These are artificial dates for the ratings\n",
    "# If a rating is made at week1 in a year, it is marked to be on the first date of the week\n",
    "def compute_custom_week(date):\n",
    "    date = datetime.strptime(date,\"%Y-%m-%d %H:%M:%S\")\n",
    "    week1_start = pd.to_datetime(f\"{date.year}-06-09\")\n",
    "    days_diff = (date - week1_start).days\n",
    "\n",
    "    week_num = (days_diff // 7) + 1\n",
    "\n",
    "    return 'week'+str(week_num) if week_num >= 1 and week_num<=15 else None  "
   ]
  },
  {
   "cell_type": "code",
   "execution_count": 1492,
   "metadata": {},
   "outputs": [],
   "source": [
    "compute_custom_week(ratings['Date'].values[0])"
   ]
  },
  {
   "cell_type": "code",
   "execution_count": 1493,
   "metadata": {},
   "outputs": [],
   "source": [
    "ratings['Week'] = ratings['Date'].apply(lambda x:compute_custom_week(x))"
   ]
  },
  {
   "cell_type": "code",
   "execution_count": 1494,
   "metadata": {},
   "outputs": [],
   "source": [
    "ratings = ratings[~ratings['Week'].isnull()]"
   ]
  },
  {
   "cell_type": "code",
   "execution_count": 1495,
   "metadata": {},
   "outputs": [
    {
     "data": {
      "text/html": [
       "<div>\n",
       "<style scoped>\n",
       "    .dataframe tbody tr th:only-of-type {\n",
       "        vertical-align: middle;\n",
       "    }\n",
       "\n",
       "    .dataframe tbody tr th {\n",
       "        vertical-align: top;\n",
       "    }\n",
       "\n",
       "    .dataframe thead th {\n",
       "        text-align: right;\n",
       "    }\n",
       "</style>\n",
       "<table border=\"1\" class=\"dataframe\">\n",
       "  <thead>\n",
       "    <tr style=\"text-align: right;\">\n",
       "      <th></th>\n",
       "      <th>Rating</th>\n",
       "      <th>Date</th>\n",
       "      <th>Resort</th>\n",
       "      <th>Week</th>\n",
       "    </tr>\n",
       "  </thead>\n",
       "  <tbody>\n",
       "    <tr>\n",
       "      <th>1</th>\n",
       "      <td>5.0</td>\n",
       "      <td>2017-06-11 03:54:51</td>\n",
       "      <td>Charlotte Pass</td>\n",
       "      <td>week1</td>\n",
       "    </tr>\n",
       "    <tr>\n",
       "      <th>19</th>\n",
       "      <td>1.0</td>\n",
       "      <td>2018-08-19 05:10:19</td>\n",
       "      <td>Charlotte Pass</td>\n",
       "      <td>week11</td>\n",
       "    </tr>\n",
       "    <tr>\n",
       "      <th>20</th>\n",
       "      <td>1.0</td>\n",
       "      <td>2018-08-26 00:55:01</td>\n",
       "      <td>Charlotte Pass</td>\n",
       "      <td>week12</td>\n",
       "    </tr>\n",
       "    <tr>\n",
       "      <th>35</th>\n",
       "      <td>5.0</td>\n",
       "      <td>2019-06-09 11:49:33</td>\n",
       "      <td>Charlotte Pass</td>\n",
       "      <td>week1</td>\n",
       "    </tr>\n",
       "    <tr>\n",
       "      <th>36</th>\n",
       "      <td>5.0</td>\n",
       "      <td>2019-06-20 11:50:03</td>\n",
       "      <td>Charlotte Pass</td>\n",
       "      <td>week2</td>\n",
       "    </tr>\n",
       "    <tr>\n",
       "      <th>...</th>\n",
       "      <td>...</td>\n",
       "      <td>...</td>\n",
       "      <td>...</td>\n",
       "      <td>...</td>\n",
       "    </tr>\n",
       "    <tr>\n",
       "      <th>2635</th>\n",
       "      <td>2.0</td>\n",
       "      <td>2025-08-27 11:34:04</td>\n",
       "      <td>Thredbo</td>\n",
       "      <td>week12</td>\n",
       "    </tr>\n",
       "    <tr>\n",
       "      <th>2636</th>\n",
       "      <td>4.0</td>\n",
       "      <td>2025-08-27 12:16:21</td>\n",
       "      <td>Thredbo</td>\n",
       "      <td>week12</td>\n",
       "    </tr>\n",
       "    <tr>\n",
       "      <th>2637</th>\n",
       "      <td>5.0</td>\n",
       "      <td>2025-08-29 04:46:27</td>\n",
       "      <td>Thredbo</td>\n",
       "      <td>week12</td>\n",
       "    </tr>\n",
       "    <tr>\n",
       "      <th>2638</th>\n",
       "      <td>5.0</td>\n",
       "      <td>2025-08-29 12:18:15</td>\n",
       "      <td>Thredbo</td>\n",
       "      <td>week12</td>\n",
       "    </tr>\n",
       "    <tr>\n",
       "      <th>2639</th>\n",
       "      <td>1.0</td>\n",
       "      <td>2025-08-30 01:19:21</td>\n",
       "      <td>Thredbo</td>\n",
       "      <td>week12</td>\n",
       "    </tr>\n",
       "  </tbody>\n",
       "</table>\n",
       "<p>7663 rows × 4 columns</p>\n",
       "</div>"
      ],
      "text/plain": [
       "      Rating                 Date          Resort    Week\n",
       "1        5.0  2017-06-11 03:54:51  Charlotte Pass   week1\n",
       "19       1.0  2018-08-19 05:10:19  Charlotte Pass  week11\n",
       "20       1.0  2018-08-26 00:55:01  Charlotte Pass  week12\n",
       "35       5.0  2019-06-09 11:49:33  Charlotte Pass   week1\n",
       "36       5.0  2019-06-20 11:50:03  Charlotte Pass   week2\n",
       "...      ...                  ...             ...     ...\n",
       "2635     2.0  2025-08-27 11:34:04         Thredbo  week12\n",
       "2636     4.0  2025-08-27 12:16:21         Thredbo  week12\n",
       "2637     5.0  2025-08-29 04:46:27         Thredbo  week12\n",
       "2638     5.0  2025-08-29 12:18:15         Thredbo  week12\n",
       "2639     1.0  2025-08-30 01:19:21         Thredbo  week12\n",
       "\n",
       "[7663 rows x 4 columns]"
      ]
     },
     "execution_count": 1495,
     "metadata": {},
     "output_type": "execute_result"
    }
   ],
   "source": [
    "ratings"
   ]
  },
  {
   "cell_type": "code",
   "execution_count": 1496,
   "metadata": {},
   "outputs": [],
   "source": [
    "# Make Year as a feature for the ease of data processing later\n",
    "ratings['Year'] = ratings['Date'].apply(lambda x: datetime.strptime(x,\"%Y-%m-%d %H:%M:%S\").year)"
   ]
  },
  {
   "cell_type": "code",
   "execution_count": 1497,
   "metadata": {},
   "outputs": [],
   "source": [
    "ratings = ratings.groupby(['Resort','Week', 'Year'])['Rating'].mean()"
   ]
  },
  {
   "cell_type": "code",
   "execution_count": 1498,
   "metadata": {},
   "outputs": [],
   "source": [
    "# Generate the dataset\n",
    "ratings.reset_index().to_csv('ratings.csv')"
   ]
  },
  {
   "cell_type": "markdown",
   "metadata": {},
   "source": [
    "# More Analysis on the ratings\n",
    "## Visualization on ratings changement"
   ]
  },
  {
   "cell_type": "code",
   "execution_count": 1499,
   "metadata": {},
   "outputs": [],
   "source": [
    "ratings = pd.DataFrame(ratings.reset_index())\n",
    "ratings['week_num'] = ratings['Week'].apply(lambda x: int(x[-1]))\n",
    "ratings = ratings.sort_values(['Resort', 'week_num', 'Year'])"
   ]
  },
  {
   "cell_type": "code",
   "execution_count": 1500,
   "metadata": {},
   "outputs": [
    {
     "data": {
      "text/plain": [
       "Resort      0\n",
       "Week        0\n",
       "Year        0\n",
       "Rating      0\n",
       "week_num    0\n",
       "dtype: int64"
      ]
     },
     "execution_count": 1500,
     "metadata": {},
     "output_type": "execute_result"
    }
   ],
   "source": [
    "ratings.isnull().sum()"
   ]
  },
  {
   "cell_type": "code",
   "execution_count": 1501,
   "metadata": {},
   "outputs": [
    {
     "data": {
      "text/html": [
       "<div>\n",
       "<style scoped>\n",
       "    .dataframe tbody tr th:only-of-type {\n",
       "        vertical-align: middle;\n",
       "    }\n",
       "\n",
       "    .dataframe tbody tr th {\n",
       "        vertical-align: top;\n",
       "    }\n",
       "\n",
       "    .dataframe thead th {\n",
       "        text-align: right;\n",
       "    }\n",
       "</style>\n",
       "<table border=\"1\" class=\"dataframe\">\n",
       "  <thead>\n",
       "    <tr style=\"text-align: right;\">\n",
       "      <th></th>\n",
       "      <th>Resort</th>\n",
       "      <th>Week</th>\n",
       "      <th>Year</th>\n",
       "      <th>Rating</th>\n",
       "      <th>week_num</th>\n",
       "    </tr>\n",
       "  </thead>\n",
       "  <tbody>\n",
       "    <tr>\n",
       "      <th>3</th>\n",
       "      <td>Charlotte Pass</td>\n",
       "      <td>week10</td>\n",
       "      <td>2020</td>\n",
       "      <td>5.000000</td>\n",
       "      <td>0</td>\n",
       "    </tr>\n",
       "    <tr>\n",
       "      <th>4</th>\n",
       "      <td>Charlotte Pass</td>\n",
       "      <td>week10</td>\n",
       "      <td>2021</td>\n",
       "      <td>5.000000</td>\n",
       "      <td>0</td>\n",
       "    </tr>\n",
       "    <tr>\n",
       "      <th>5</th>\n",
       "      <td>Charlotte Pass</td>\n",
       "      <td>week10</td>\n",
       "      <td>2022</td>\n",
       "      <td>3.500000</td>\n",
       "      <td>0</td>\n",
       "    </tr>\n",
       "    <tr>\n",
       "      <th>6</th>\n",
       "      <td>Charlotte Pass</td>\n",
       "      <td>week10</td>\n",
       "      <td>2025</td>\n",
       "      <td>5.000000</td>\n",
       "      <td>0</td>\n",
       "    </tr>\n",
       "    <tr>\n",
       "      <th>0</th>\n",
       "      <td>Charlotte Pass</td>\n",
       "      <td>week1</td>\n",
       "      <td>2017</td>\n",
       "      <td>5.000000</td>\n",
       "      <td>1</td>\n",
       "    </tr>\n",
       "    <tr>\n",
       "      <th>...</th>\n",
       "      <td>...</td>\n",
       "      <td>...</td>\n",
       "      <td>...</td>\n",
       "      <td>...</td>\n",
       "      <td>...</td>\n",
       "    </tr>\n",
       "    <tr>\n",
       "      <th>708</th>\n",
       "      <td>Thredbo</td>\n",
       "      <td>week9</td>\n",
       "      <td>2021</td>\n",
       "      <td>3.800000</td>\n",
       "      <td>9</td>\n",
       "    </tr>\n",
       "    <tr>\n",
       "      <th>709</th>\n",
       "      <td>Thredbo</td>\n",
       "      <td>week9</td>\n",
       "      <td>2022</td>\n",
       "      <td>4.692308</td>\n",
       "      <td>9</td>\n",
       "    </tr>\n",
       "    <tr>\n",
       "      <th>710</th>\n",
       "      <td>Thredbo</td>\n",
       "      <td>week9</td>\n",
       "      <td>2023</td>\n",
       "      <td>4.625000</td>\n",
       "      <td>9</td>\n",
       "    </tr>\n",
       "    <tr>\n",
       "      <th>711</th>\n",
       "      <td>Thredbo</td>\n",
       "      <td>week9</td>\n",
       "      <td>2024</td>\n",
       "      <td>4.600000</td>\n",
       "      <td>9</td>\n",
       "    </tr>\n",
       "    <tr>\n",
       "      <th>712</th>\n",
       "      <td>Thredbo</td>\n",
       "      <td>week9</td>\n",
       "      <td>2025</td>\n",
       "      <td>4.000000</td>\n",
       "      <td>9</td>\n",
       "    </tr>\n",
       "  </tbody>\n",
       "</table>\n",
       "<p>713 rows × 5 columns</p>\n",
       "</div>"
      ],
      "text/plain": [
       "             Resort    Week  Year    Rating  week_num\n",
       "3    Charlotte Pass  week10  2020  5.000000         0\n",
       "4    Charlotte Pass  week10  2021  5.000000         0\n",
       "5    Charlotte Pass  week10  2022  3.500000         0\n",
       "6    Charlotte Pass  week10  2025  5.000000         0\n",
       "0    Charlotte Pass   week1  2017  5.000000         1\n",
       "..              ...     ...   ...       ...       ...\n",
       "708         Thredbo   week9  2021  3.800000         9\n",
       "709         Thredbo   week9  2022  4.692308         9\n",
       "710         Thredbo   week9  2023  4.625000         9\n",
       "711         Thredbo   week9  2024  4.600000         9\n",
       "712         Thredbo   week9  2025  4.000000         9\n",
       "\n",
       "[713 rows x 5 columns]"
      ]
     },
     "execution_count": 1501,
     "metadata": {},
     "output_type": "execute_result"
    }
   ],
   "source": [
    "ratings"
   ]
  },
  {
   "cell_type": "code",
   "execution_count": 1502,
   "metadata": {},
   "outputs": [
    {
     "data": {
      "text/plain": [
       "Resort       object\n",
       "Week         object\n",
       "Year          int64\n",
       "Rating      float64\n",
       "week_num      int64\n",
       "dtype: object"
      ]
     },
     "execution_count": 1502,
     "metadata": {},
     "output_type": "execute_result"
    }
   ],
   "source": [
    "ratings.dtypes"
   ]
  },
  {
   "cell_type": "code",
   "execution_count": 1503,
   "metadata": {},
   "outputs": [],
   "source": [
    "ratings = ratings[ratings['Year']>2013]"
   ]
  },
  {
   "cell_type": "code",
   "execution_count": 1504,
   "metadata": {},
   "outputs": [
    {
     "data": {
      "text/html": [
       "<div>\n",
       "<style scoped>\n",
       "    .dataframe tbody tr th:only-of-type {\n",
       "        vertical-align: middle;\n",
       "    }\n",
       "\n",
       "    .dataframe tbody tr th {\n",
       "        vertical-align: top;\n",
       "    }\n",
       "\n",
       "    .dataframe thead th {\n",
       "        text-align: right;\n",
       "    }\n",
       "</style>\n",
       "<table border=\"1\" class=\"dataframe\">\n",
       "  <thead>\n",
       "    <tr style=\"text-align: right;\">\n",
       "      <th></th>\n",
       "      <th>Resort</th>\n",
       "      <th>Week</th>\n",
       "      <th>Year</th>\n",
       "      <th>Rating</th>\n",
       "      <th>week_num</th>\n",
       "    </tr>\n",
       "  </thead>\n",
       "  <tbody>\n",
       "    <tr>\n",
       "      <th>3</th>\n",
       "      <td>Charlotte Pass</td>\n",
       "      <td>week10</td>\n",
       "      <td>2020</td>\n",
       "      <td>5.0</td>\n",
       "      <td>0</td>\n",
       "    </tr>\n",
       "    <tr>\n",
       "      <th>4</th>\n",
       "      <td>Charlotte Pass</td>\n",
       "      <td>week10</td>\n",
       "      <td>2021</td>\n",
       "      <td>5.0</td>\n",
       "      <td>0</td>\n",
       "    </tr>\n",
       "    <tr>\n",
       "      <th>5</th>\n",
       "      <td>Charlotte Pass</td>\n",
       "      <td>week10</td>\n",
       "      <td>2022</td>\n",
       "      <td>3.5</td>\n",
       "      <td>0</td>\n",
       "    </tr>\n",
       "    <tr>\n",
       "      <th>6</th>\n",
       "      <td>Charlotte Pass</td>\n",
       "      <td>week10</td>\n",
       "      <td>2025</td>\n",
       "      <td>5.0</td>\n",
       "      <td>0</td>\n",
       "    </tr>\n",
       "    <tr>\n",
       "      <th>0</th>\n",
       "      <td>Charlotte Pass</td>\n",
       "      <td>week1</td>\n",
       "      <td>2017</td>\n",
       "      <td>5.0</td>\n",
       "      <td>1</td>\n",
       "    </tr>\n",
       "  </tbody>\n",
       "</table>\n",
       "</div>"
      ],
      "text/plain": [
       "           Resort    Week  Year  Rating  week_num\n",
       "3  Charlotte Pass  week10  2020     5.0         0\n",
       "4  Charlotte Pass  week10  2021     5.0         0\n",
       "5  Charlotte Pass  week10  2022     3.5         0\n",
       "6  Charlotte Pass  week10  2025     5.0         0\n",
       "0  Charlotte Pass   week1  2017     5.0         1"
      ]
     },
     "execution_count": 1504,
     "metadata": {},
     "output_type": "execute_result"
    }
   ],
   "source": [
    "ratings.head()"
   ]
  },
  {
   "cell_type": "code",
   "execution_count": 1505,
   "metadata": {},
   "outputs": [
    {
     "name": "stderr",
     "output_type": "stream",
     "text": [
      "C:\\Users\\Huawei\\AppData\\Local\\Temp\\ipykernel_74076\\2824894695.py:1: SettingWithCopyWarning: \n",
      "A value is trying to be set on a copy of a slice from a DataFrame.\n",
      "Try using .loc[row_indexer,col_indexer] = value instead\n",
      "\n",
      "See the caveats in the documentation: https://pandas.pydata.org/pandas-docs/stable/user_guide/indexing.html#returning-a-view-versus-a-copy\n",
      "  ratings['Date'] = pd.to_datetime(ratings['Year'].astype(str) + '-06-09') + pd.to_timedelta((ratings['week_num']) * 7, unit='D')\n"
     ]
    }
   ],
   "source": [
    "ratings['Date'] = pd.to_datetime(ratings['Year'].astype(str) + '-06-09') + pd.to_timedelta((ratings['week_num']) * 7, unit='D')"
   ]
  },
  {
   "cell_type": "code",
   "execution_count": 1506,
   "metadata": {},
   "outputs": [
    {
     "data": {
      "text/html": [
       "<div>\n",
       "<style scoped>\n",
       "    .dataframe tbody tr th:only-of-type {\n",
       "        vertical-align: middle;\n",
       "    }\n",
       "\n",
       "    .dataframe tbody tr th {\n",
       "        vertical-align: top;\n",
       "    }\n",
       "\n",
       "    .dataframe thead th {\n",
       "        text-align: right;\n",
       "    }\n",
       "</style>\n",
       "<table border=\"1\" class=\"dataframe\">\n",
       "  <thead>\n",
       "    <tr style=\"text-align: right;\">\n",
       "      <th></th>\n",
       "      <th>Resort</th>\n",
       "      <th>Week</th>\n",
       "      <th>Year</th>\n",
       "      <th>Rating</th>\n",
       "      <th>week_num</th>\n",
       "      <th>Date</th>\n",
       "    </tr>\n",
       "  </thead>\n",
       "  <tbody>\n",
       "    <tr>\n",
       "      <th>708</th>\n",
       "      <td>Thredbo</td>\n",
       "      <td>week9</td>\n",
       "      <td>2021</td>\n",
       "      <td>3.800000</td>\n",
       "      <td>9</td>\n",
       "      <td>2021-08-11</td>\n",
       "    </tr>\n",
       "    <tr>\n",
       "      <th>709</th>\n",
       "      <td>Thredbo</td>\n",
       "      <td>week9</td>\n",
       "      <td>2022</td>\n",
       "      <td>4.692308</td>\n",
       "      <td>9</td>\n",
       "      <td>2022-08-11</td>\n",
       "    </tr>\n",
       "    <tr>\n",
       "      <th>710</th>\n",
       "      <td>Thredbo</td>\n",
       "      <td>week9</td>\n",
       "      <td>2023</td>\n",
       "      <td>4.625000</td>\n",
       "      <td>9</td>\n",
       "      <td>2023-08-11</td>\n",
       "    </tr>\n",
       "    <tr>\n",
       "      <th>711</th>\n",
       "      <td>Thredbo</td>\n",
       "      <td>week9</td>\n",
       "      <td>2024</td>\n",
       "      <td>4.600000</td>\n",
       "      <td>9</td>\n",
       "      <td>2024-08-11</td>\n",
       "    </tr>\n",
       "    <tr>\n",
       "      <th>712</th>\n",
       "      <td>Thredbo</td>\n",
       "      <td>week9</td>\n",
       "      <td>2025</td>\n",
       "      <td>4.000000</td>\n",
       "      <td>9</td>\n",
       "      <td>2025-08-11</td>\n",
       "    </tr>\n",
       "  </tbody>\n",
       "</table>\n",
       "</div>"
      ],
      "text/plain": [
       "      Resort   Week  Year    Rating  week_num       Date\n",
       "708  Thredbo  week9  2021  3.800000         9 2021-08-11\n",
       "709  Thredbo  week9  2022  4.692308         9 2022-08-11\n",
       "710  Thredbo  week9  2023  4.625000         9 2023-08-11\n",
       "711  Thredbo  week9  2024  4.600000         9 2024-08-11\n",
       "712  Thredbo  week9  2025  4.000000         9 2025-08-11"
      ]
     },
     "execution_count": 1506,
     "metadata": {},
     "output_type": "execute_result"
    }
   ],
   "source": [
    "ratings.tail()"
   ]
  },
  {
   "cell_type": "code",
   "execution_count": 1507,
   "metadata": {},
   "outputs": [
    {
     "data": {
      "text/plain": [
       "<matplotlib.legend.Legend at 0x247fd187610>"
      ]
     },
     "execution_count": 1507,
     "metadata": {},
     "output_type": "execute_result"
    },
    {
     "data": {
      "image/png": "[encoded data removed]",
      "text/plain": [
       "<Figure size 640x480 with 1 Axes>"
      ]
     },
     "metadata": {},
     "output_type": "display_data"
    }
   ],
   "source": [
    "fig, ax= plt.subplots(1,1)\n",
    "for x in ratings.Resort.unique():\n",
    "    data = ratings.loc[ratings['Resort']==x]\n",
    "    data = data.sort_values('Date')\n",
    "    data = data.sort_values(['week_num', 'Year'])\n",
    "    ax.scatter(data['Date'], data['Rating'], label = x)\n",
    "plt.xticks(rotation=90)\n",
    "plt.legend()"
   ]
  },
  {
   "cell_type": "markdown",
   "metadata": {},
   "source": [
    "## Aggregate ratings with visitation dataset"
   ]
  },
  {
   "cell_type": "code",
   "execution_count": 1508,
   "metadata": {},
   "outputs": [],
   "source": [
    "visit_aus = pd.read_excel('2025 Allianz Datathon Dataset.xlsx', sheet_name='Visitation Data')"
   ]
  },
  {
   "cell_type": "code",
   "execution_count": 1509,
   "metadata": {},
   "outputs": [],
   "source": [
    "visit_aus = visit_aus.melt(value_vars=['Mt. Baw Baw', 'Mt. Stirling', 'Mt. Hotham', 'Falls Creek', \t'Mt. Buller',  'Selwyn',\n",
    "\t                       'Thredbo', 'Perisher',  'Charlotte Pass'], id_vars=['Year', 'Week'])"
   ]
  },
  {
   "cell_type": "code",
   "execution_count": 1510,
   "metadata": {},
   "outputs": [
    {
     "data": {
      "text/plain": [
       "array(['Mt. Baw Baw', 'Mt. Stirling', 'Mt. Hotham', 'Falls Creek',\n",
       "       'Mt. Buller', 'Selwyn', 'Thredbo', 'Perisher', 'Charlotte Pass'],\n",
       "      dtype=object)"
      ]
     },
     "execution_count": 1510,
     "metadata": {},
     "output_type": "execute_result"
    }
   ],
   "source": [
    "visit_aus['variable'].unique()"
   ]
  },
  {
   "cell_type": "code",
   "execution_count": 1511,
   "metadata": {},
   "outputs": [],
   "source": [
    "visit_aus_mu = visit_aus.groupby(['variable', 'Week', 'Year']).value.mean().reset_index()"
   ]
  },
  {
   "cell_type": "code",
   "execution_count": 1512,
   "metadata": {},
   "outputs": [
    {
     "data": {
      "text/html": [
       "<div>\n",
       "<style scoped>\n",
       "    .dataframe tbody tr th:only-of-type {\n",
       "        vertical-align: middle;\n",
       "    }\n",
       "\n",
       "    .dataframe tbody tr th {\n",
       "        vertical-align: top;\n",
       "    }\n",
       "\n",
       "    .dataframe thead th {\n",
       "        text-align: right;\n",
       "    }\n",
       "</style>\n",
       "<table border=\"1\" class=\"dataframe\">\n",
       "  <thead>\n",
       "    <tr style=\"text-align: right;\">\n",
       "      <th></th>\n",
       "      <th>variable</th>\n",
       "      <th>Week</th>\n",
       "      <th>Year</th>\n",
       "      <th>value</th>\n",
       "    </tr>\n",
       "  </thead>\n",
       "  <tbody>\n",
       "    <tr>\n",
       "      <th>22</th>\n",
       "      <td>Charlotte Pass</td>\n",
       "      <td>3</td>\n",
       "      <td>2014</td>\n",
       "      <td>230.0</td>\n",
       "    </tr>\n",
       "    <tr>\n",
       "      <th>23</th>\n",
       "      <td>Charlotte Pass</td>\n",
       "      <td>3</td>\n",
       "      <td>2015</td>\n",
       "      <td>501.0</td>\n",
       "    </tr>\n",
       "    <tr>\n",
       "      <th>24</th>\n",
       "      <td>Charlotte Pass</td>\n",
       "      <td>3</td>\n",
       "      <td>2016</td>\n",
       "      <td>1096.0</td>\n",
       "    </tr>\n",
       "    <tr>\n",
       "      <th>25</th>\n",
       "      <td>Charlotte Pass</td>\n",
       "      <td>3</td>\n",
       "      <td>2017</td>\n",
       "      <td>842.0</td>\n",
       "    </tr>\n",
       "    <tr>\n",
       "      <th>26</th>\n",
       "      <td>Charlotte Pass</td>\n",
       "      <td>3</td>\n",
       "      <td>2018</td>\n",
       "      <td>1264.0</td>\n",
       "    </tr>\n",
       "    <tr>\n",
       "      <th>27</th>\n",
       "      <td>Charlotte Pass</td>\n",
       "      <td>3</td>\n",
       "      <td>2019</td>\n",
       "      <td>992.0</td>\n",
       "    </tr>\n",
       "    <tr>\n",
       "      <th>28</th>\n",
       "      <td>Charlotte Pass</td>\n",
       "      <td>3</td>\n",
       "      <td>2020</td>\n",
       "      <td>133.0</td>\n",
       "    </tr>\n",
       "    <tr>\n",
       "      <th>29</th>\n",
       "      <td>Charlotte Pass</td>\n",
       "      <td>3</td>\n",
       "      <td>2021</td>\n",
       "      <td>1307.0</td>\n",
       "    </tr>\n",
       "    <tr>\n",
       "      <th>30</th>\n",
       "      <td>Charlotte Pass</td>\n",
       "      <td>3</td>\n",
       "      <td>2022</td>\n",
       "      <td>2385.0</td>\n",
       "    </tr>\n",
       "    <tr>\n",
       "      <th>31</th>\n",
       "      <td>Charlotte Pass</td>\n",
       "      <td>3</td>\n",
       "      <td>2023</td>\n",
       "      <td>1607.0</td>\n",
       "    </tr>\n",
       "    <tr>\n",
       "      <th>32</th>\n",
       "      <td>Charlotte Pass</td>\n",
       "      <td>3</td>\n",
       "      <td>2024</td>\n",
       "      <td>677.0</td>\n",
       "    </tr>\n",
       "  </tbody>\n",
       "</table>\n",
       "</div>"
      ],
      "text/plain": [
       "          variable  Week  Year   value\n",
       "22  Charlotte Pass     3  2014   230.0\n",
       "23  Charlotte Pass     3  2015   501.0\n",
       "24  Charlotte Pass     3  2016  1096.0\n",
       "25  Charlotte Pass     3  2017   842.0\n",
       "26  Charlotte Pass     3  2018  1264.0\n",
       "27  Charlotte Pass     3  2019   992.0\n",
       "28  Charlotte Pass     3  2020   133.0\n",
       "29  Charlotte Pass     3  2021  1307.0\n",
       "30  Charlotte Pass     3  2022  2385.0\n",
       "31  Charlotte Pass     3  2023  1607.0\n",
       "32  Charlotte Pass     3  2024   677.0"
      ]
     },
     "execution_count": 1512,
     "metadata": {},
     "output_type": "execute_result"
    }
   ],
   "source": [
    "visit_aus_mu[(visit_aus_mu['variable']=='Charlotte Pass') & (visit_aus_mu['Week']==3)]"
   ]
  },
  {
   "cell_type": "code",
   "execution_count": 1513,
   "metadata": {},
   "outputs": [
    {
     "name": "stderr",
     "output_type": "stream",
     "text": [
      "C:\\Users\\Huawei\\AppData\\Local\\Temp\\ipykernel_74076\\1530316642.py:1: SettingWithCopyWarning: \n",
      "A value is trying to be set on a copy of a slice from a DataFrame.\n",
      "Try using .loc[row_indexer,col_indexer] = value instead\n",
      "\n",
      "See the caveats in the documentation: https://pandas.pydata.org/pandas-docs/stable/user_guide/indexing.html#returning-a-view-versus-a-copy\n",
      "  ratings['week_num'] = ratings['week_num']+1\n"
     ]
    }
   ],
   "source": [
    "ratings['week_num'] = ratings['week_num']+1\n",
    "combined_visit_ratings = visit_aus.merge(ratings, left_on=['variable', 'Week', 'Year'], right_on=['Resort', 'week_num', 'Year'])"
   ]
  },
  {
   "cell_type": "code",
   "execution_count": 1514,
   "metadata": {},
   "outputs": [
    {
     "name": "stdout",
     "output_type": "stream",
     "text": [
      "Pearson Correlation on n_visits and Ratings at resort Mt. Baw Baw has a stats of 0.003 with pval of 0.976\n",
      "Pearson Correlation on n_visits and Ratings at resort Mt. Stirling has a stats of -0.097 with pval of 0.731\n",
      "Pearson Correlation on n_visits and Ratings at resort Mt. Hotham has a stats of 0.001 with pval of 0.993\n",
      "Pearson Correlation on n_visits and Ratings at resort Falls Creek has a stats of 0.019 with pval of 0.856\n",
      "Pearson Correlation on n_visits and Ratings at resort Mt. Buller has a stats of 0.055 with pval of 0.812\n",
      "Pearson Correlation on n_visits and Ratings at resort Selwyn has a stats of -0.18 with pval of 0.094\n",
      "Pearson Correlation on n_visits and Ratings at resort Thredbo has a stats of -0.077 with pval of 0.475\n",
      "Pearson Correlation on n_visits and Ratings at resort Perisher has a stats of 0.122 with pval of 0.228\n",
      "Pearson Correlation on n_visits and Ratings at resort Charlotte Pass has a stats of 0.015 with pval of 0.944\n"
     ]
    }
   ],
   "source": [
    "for x in combined_visit_ratings['Resort'].unique():\n",
    "    data = combined_visit_ratings[combined_visit_ratings['Resort']==x]\n",
    "    data = data.sort_values(by=['Date'])\n",
    "    result = pearsonr(data['value'], data['Rating'])\n",
    "    print(f'Pearson Correlation on n_visits and Ratings at resort {x} has a stats of {round(result.statistic, 3)} with pval of {round(result.pvalue, 3)}')"
   ]
  },
  {
   "cell_type": "code",
   "execution_count": 1515,
   "metadata": {},
   "outputs": [],
   "source": [
    "v = visit_aus.groupby('variable')['value'].sum()"
   ]
  },
  {
   "cell_type": "code",
   "execution_count": 1516,
   "metadata": {},
   "outputs": [],
   "source": [
    "r = ratings.groupby('Resort')['Rating'].mean()"
   ]
  },
  {
   "cell_type": "code",
   "execution_count": 1517,
   "metadata": {},
   "outputs": [
    {
     "data": {
      "text/plain": [
       "Resort\n",
       "Charlotte Pass    3.850000\n",
       "Falls Creek       4.286550\n",
       "Mt. Baw Baw       3.932335\n",
       "Mt. Buller        4.409056\n",
       "Mt. Hotham        4.622528\n",
       "Mt. Stirling      4.154762\n",
       "Perisher          4.416697\n",
       "Selwyn            3.823568\n",
       "Thredbo           4.450554\n",
       "Name: Rating, dtype: float64"
      ]
     },
     "execution_count": 1517,
     "metadata": {},
     "output_type": "execute_result"
    }
   ],
   "source": [
    "r"
   ]
  },
  {
   "cell_type": "code",
   "execution_count": 1518,
   "metadata": {},
   "outputs": [
    {
     "data": {
      "text/plain": [
       "[169, 446, 481, 276, 579, 72, 5000, 828, 2640]"
      ]
     },
     "execution_count": 1518,
     "metadata": {},
     "output_type": "execute_result"
    }
   ],
   "source": [
    "list(n_comment.values())"
   ]
  },
  {
   "cell_type": "code",
   "execution_count": 1519,
   "metadata": {},
   "outputs": [
    {
     "data": {
      "image/png": "[encoded data removed]",
      "text/plain": [
       "<Figure size 2000x500 with 4 Axes>"
      ]
     },
     "metadata": {},
     "output_type": "display_data"
    }
   ],
   "source": [
    "fig, ax = plt.subplots(1, 4, figsize = (20, 5))\n",
    "ax[0].bar(x = v.index, height = v, align='edge')\n",
    "ax[0].tick_params(axis='x', labelrotation=90)\n",
    "ax[0].set_title('Total Number of Visitors By Resorts')\n",
    "ax[1].bar(x=r.index, height = r)\n",
    "ax[1].tick_params(axis='x', labelrotation=90)\n",
    "ax[1].set_title('Mean Ratings on Resorts')\n",
    "ax[2].bar(x = list(n_comment.keys()), height = list(n_comment.values()))\n",
    "ax[2].tick_params(axis='x', labelrotation=90)\n",
    "ax[2].set_title('Number of Comments in Each Resorts')\n",
    "ax[3].bar(x = list(n_comment.keys()), height = list(n_comment.values())/v, align='edge')\n",
    "ax[3].tick_params(axis='x', labelrotation=90)\n",
    "ax[3].set_title('Numver of Comments/Total number of visitors by Resrots')\n",
    "plt.tight_layout()\n",
    "plt.show()"
   ]
  },
  {
   "cell_type": "code",
   "execution_count": 1520,
   "metadata": {},
   "outputs": [
    {
     "data": {
      "text/plain": [
       "PearsonRResult(statistic=0.7786250429899373, pvalue=0.013431407051695257)"
      ]
     },
     "execution_count": 1520,
     "metadata": {},
     "output_type": "execute_result"
    }
   ],
   "source": [
    "pearsonr(v, r)"
   ]
  },
  {
   "cell_type": "code",
   "execution_count": 1521,
   "metadata": {},
   "outputs": [
    {
     "data": {
      "text/plain": [
       "PearsonRResult(statistic=0.7083797163355615, pvalue=0.03268914318218075)"
      ]
     },
     "execution_count": 1521,
     "metadata": {},
     "output_type": "execute_result"
    }
   ],
   "source": [
    "pearsonr(list(n_comment.values()), v)"
   ]
  },
  {
   "cell_type": "code",
   "execution_count": 1522,
   "metadata": {},
   "outputs": [
    {
     "data": {
      "text/plain": [
       "PearsonRResult(statistic=-0.5071151083931277, pvalue=0.1634934129747951)"
      ]
     },
     "execution_count": 1522,
     "metadata": {},
     "output_type": "execute_result"
    }
   ],
   "source": [
    "pearsonr(list(n_comment.values())/v, r)"
   ]
  },
  {
   "cell_type": "markdown",
   "metadata": {},
   "source": [
    "# checking how different our ratings in the fields are"
   ]
  },
  {
   "cell_type": "code",
   "execution_count": 1523,
   "metadata": {},
   "outputs": [
    {
     "data": {
      "image/png": "[encoded data removed]",
      "text/plain": [
       "<Figure size 640x480 with 1 Axes>"
      ]
     },
     "metadata": {},
     "output_type": "display_data"
    }
   ],
   "source": [
    "plt.boxplot(rating_matrix)\n",
    "plt.xticks(range(1, 10),locs, rotation = 90)\n",
    "plt.title('Boxplot on Ratings in Ski Resorts')\n",
    "plt.show()"
   ]
  },
  {
   "cell_type": "code",
   "execution_count": 1524,
   "metadata": {},
   "outputs": [
    {
     "data": {
      "text/plain": [
       "KruskalResult(statistic=70.5621494351013, pvalue=3.797693651195761e-12)"
      ]
     },
     "execution_count": 1524,
     "metadata": {},
     "output_type": "execute_result"
    }
   ],
   "source": [
    "rating_matrix = []\n",
    "locs = ratings.Resort.unique()\n",
    "for x in locs:\n",
    "    data = ratings[ratings['Resort']==x]\n",
    "    data = data.sort_values(by='Date') \n",
    "    rating_matrix.append(data['Rating'].values)\n",
    "\n",
    "kruskal(rating_matrix[0], rating_matrix[1], rating_matrix[2], rating_matrix[3], rating_matrix[4], rating_matrix[5], \n",
    "        rating_matrix[6], rating_matrix[7], rating_matrix[8])"
   ]
  },
  {
   "cell_type": "code",
   "execution_count": 1525,
   "metadata": {},
   "outputs": [
    {
     "data": {
      "text/html": [
       "<div>\n",
       "<style scoped>\n",
       "    .dataframe tbody tr th:only-of-type {\n",
       "        vertical-align: middle;\n",
       "    }\n",
       "\n",
       "    .dataframe tbody tr th {\n",
       "        vertical-align: top;\n",
       "    }\n",
       "\n",
       "    .dataframe thead th {\n",
       "        text-align: right;\n",
       "    }\n",
       "</style>\n",
       "<table border=\"1\" class=\"dataframe\">\n",
       "  <thead>\n",
       "    <tr style=\"text-align: right;\">\n",
       "      <th></th>\n",
       "      <th>Charlotte Pass</th>\n",
       "      <th>Falls Creek</th>\n",
       "      <th>Mt. Baw Baw</th>\n",
       "      <th>Mt. Buller</th>\n",
       "      <th>Mt. Hotham</th>\n",
       "      <th>Mt. Stirling</th>\n",
       "      <th>Perisher</th>\n",
       "      <th>Selwyn</th>\n",
       "      <th>Thredbo</th>\n",
       "    </tr>\n",
       "  </thead>\n",
       "  <tbody>\n",
       "    <tr>\n",
       "      <th>Charlotte Pass</th>\n",
       "      <td>1.000000</td>\n",
       "      <td>0.983111</td>\n",
       "      <td>7.657865e-02</td>\n",
       "      <td>0.889005</td>\n",
       "      <td>2.003758e-02</td>\n",
       "      <td>0.285726</td>\n",
       "      <td>0.393973</td>\n",
       "      <td>7.831837e-03</td>\n",
       "      <td>0.652483</td>\n",
       "    </tr>\n",
       "    <tr>\n",
       "      <th>Falls Creek</th>\n",
       "      <td>0.983111</td>\n",
       "      <td>1.000000</td>\n",
       "      <td>7.679880e-03</td>\n",
       "      <td>0.877250</td>\n",
       "      <td>5.036484e-04</td>\n",
       "      <td>0.210460</td>\n",
       "      <td>0.186062</td>\n",
       "      <td>6.521556e-05</td>\n",
       "      <td>0.481893</td>\n",
       "    </tr>\n",
       "    <tr>\n",
       "      <th>Mt. Baw Baw</th>\n",
       "      <td>0.076579</td>\n",
       "      <td>0.007680</td>\n",
       "      <td>1.000000e+00</td>\n",
       "      <td>0.044299</td>\n",
       "      <td>9.251073e-10</td>\n",
       "      <td>0.005103</td>\n",
       "      <td>0.159994</td>\n",
       "      <td>1.931603e-01</td>\n",
       "      <td>0.051471</td>\n",
       "    </tr>\n",
       "    <tr>\n",
       "      <th>Mt. Buller</th>\n",
       "      <td>0.889005</td>\n",
       "      <td>0.877250</td>\n",
       "      <td>4.429899e-02</td>\n",
       "      <td>1.000000</td>\n",
       "      <td>2.534835e-02</td>\n",
       "      <td>0.336059</td>\n",
       "      <td>0.288013</td>\n",
       "      <td>3.359588e-03</td>\n",
       "      <td>0.520508</td>\n",
       "    </tr>\n",
       "    <tr>\n",
       "      <th>Mt. Hotham</th>\n",
       "      <td>0.020038</td>\n",
       "      <td>0.000504</td>\n",
       "      <td>9.251073e-10</td>\n",
       "      <td>0.025348</td>\n",
       "      <td>1.000000e+00</td>\n",
       "      <td>0.461713</td>\n",
       "      <td>0.000001</td>\n",
       "      <td>7.822873e-14</td>\n",
       "      <td>0.000032</td>\n",
       "    </tr>\n",
       "    <tr>\n",
       "      <th>Mt. Stirling</th>\n",
       "      <td>0.285726</td>\n",
       "      <td>0.210460</td>\n",
       "      <td>5.103060e-03</td>\n",
       "      <td>0.336059</td>\n",
       "      <td>4.617131e-01</td>\n",
       "      <td>1.000000</td>\n",
       "      <td>0.043985</td>\n",
       "      <td>3.549342e-04</td>\n",
       "      <td>0.097546</td>\n",
       "    </tr>\n",
       "    <tr>\n",
       "      <th>Perisher</th>\n",
       "      <td>0.393973</td>\n",
       "      <td>0.186062</td>\n",
       "      <td>1.599941e-01</td>\n",
       "      <td>0.288013</td>\n",
       "      <td>1.094126e-06</td>\n",
       "      <td>0.043985</td>\n",
       "      <td>1.000000</td>\n",
       "      <td>5.962842e-03</td>\n",
       "      <td>0.552033</td>\n",
       "    </tr>\n",
       "    <tr>\n",
       "      <th>Selwyn</th>\n",
       "      <td>0.007832</td>\n",
       "      <td>0.000065</td>\n",
       "      <td>1.931603e-01</td>\n",
       "      <td>0.003360</td>\n",
       "      <td>7.822873e-14</td>\n",
       "      <td>0.000355</td>\n",
       "      <td>0.005963</td>\n",
       "      <td>1.000000e+00</td>\n",
       "      <td>0.001113</td>\n",
       "    </tr>\n",
       "    <tr>\n",
       "      <th>Thredbo</th>\n",
       "      <td>0.652483</td>\n",
       "      <td>0.481893</td>\n",
       "      <td>5.147079e-02</td>\n",
       "      <td>0.520508</td>\n",
       "      <td>3.248293e-05</td>\n",
       "      <td>0.097546</td>\n",
       "      <td>0.552033</td>\n",
       "      <td>1.113024e-03</td>\n",
       "      <td>1.000000</td>\n",
       "    </tr>\n",
       "  </tbody>\n",
       "</table>\n",
       "</div>"
      ],
      "text/plain": [
       "                Charlotte Pass  Falls Creek   Mt. Baw Baw  Mt. Buller  \\\n",
       "Charlotte Pass        1.000000     0.983111  7.657865e-02    0.889005   \n",
       "Falls Creek           0.983111     1.000000  7.679880e-03    0.877250   \n",
       "Mt. Baw Baw           0.076579     0.007680  1.000000e+00    0.044299   \n",
       "Mt. Buller            0.889005     0.877250  4.429899e-02    1.000000   \n",
       "Mt. Hotham            0.020038     0.000504  9.251073e-10    0.025348   \n",
       "Mt. Stirling          0.285726     0.210460  5.103060e-03    0.336059   \n",
       "Perisher              0.393973     0.186062  1.599941e-01    0.288013   \n",
       "Selwyn                0.007832     0.000065  1.931603e-01    0.003360   \n",
       "Thredbo               0.652483     0.481893  5.147079e-02    0.520508   \n",
       "\n",
       "                  Mt. Hotham  Mt. Stirling  Perisher        Selwyn   Thredbo  \n",
       "Charlotte Pass  2.003758e-02      0.285726  0.393973  7.831837e-03  0.652483  \n",
       "Falls Creek     5.036484e-04      0.210460  0.186062  6.521556e-05  0.481893  \n",
       "Mt. Baw Baw     9.251073e-10      0.005103  0.159994  1.931603e-01  0.051471  \n",
       "Mt. Buller      2.534835e-02      0.336059  0.288013  3.359588e-03  0.520508  \n",
       "Mt. Hotham      1.000000e+00      0.461713  0.000001  7.822873e-14  0.000032  \n",
       "Mt. Stirling    4.617131e-01      1.000000  0.043985  3.549342e-04  0.097546  \n",
       "Perisher        1.094126e-06      0.043985  1.000000  5.962842e-03  0.552033  \n",
       "Selwyn          7.822873e-14      0.000355  0.005963  1.000000e+00  0.001113  \n",
       "Thredbo         3.248293e-05      0.097546  0.552033  1.113024e-03  1.000000  "
      ]
     },
     "execution_count": 1525,
     "metadata": {},
     "output_type": "execute_result"
    }
   ],
   "source": [
    "dunn_result = posthoc_dunn(rating_matrix)\n",
    "rename = {i+1:locs[i] for i in range(9)}\n",
    "dunn_result = dunn_result.rename(columns=rename, index= rename)\n",
    "dunn_result"
   ]
  },
  {
   "cell_type": "code",
   "execution_count": 1526,
   "metadata": {},
   "outputs": [
    {
     "data": {
      "text/plain": [
       "Text(0.5, 1.0, 'Highlighted Significant Difference in Ratings of Ski Resorts compared to each other')"
      ]
     },
     "execution_count": 1526,
     "metadata": {},
     "output_type": "execute_result"
    },
    {
     "data": {
      "image/png": "[encoded data removed]",
      "text/plain": [
       "<Figure size 640x480 with 2 Axes>"
      ]
     },
     "metadata": {},
     "output_type": "display_data"
    }
   ],
   "source": [
    "mask = dunn_result>0.05\n",
    "sns.heatmap(dunn_result, annot=True, fmt='.2f', mask = mask)\n",
    "plt.title('Highlighted Significant Difference in Ratings of Ski Resorts compared to each other')"
   ]
  },
  {
   "cell_type": "markdown",
   "metadata": {},
   "source": [
    "# Check if review is related to fares"
   ]
  },
  {
   "cell_type": "code",
   "execution_count": 1527,
   "metadata": {},
   "outputs": [
    {
     "data": {
      "text/html": [
       "<div>\n",
       "<style scoped>\n",
       "    .dataframe tbody tr th:only-of-type {\n",
       "        vertical-align: middle;\n",
       "    }\n",
       "\n",
       "    .dataframe tbody tr th {\n",
       "        vertical-align: top;\n",
       "    }\n",
       "\n",
       "    .dataframe thead th {\n",
       "        text-align: right;\n",
       "    }\n",
       "</style>\n",
       "<table border=\"1\" class=\"dataframe\">\n",
       "  <thead>\n",
       "    <tr style=\"text-align: right;\">\n",
       "      <th></th>\n",
       "      <th>Unnamed: 0</th>\n",
       "      <th>Mt Baw Baw</th>\n",
       "      <th>Mt. Stirling</th>\n",
       "      <th>Mt. Hotham</th>\n",
       "      <th>Falls Creek</th>\n",
       "      <th>Mt. Buller</th>\n",
       "      <th>Selwyn</th>\n",
       "      <th>Thredbo</th>\n",
       "      <th>Perisher</th>\n",
       "      <th>Charlotte Pass</th>\n",
       "    </tr>\n",
       "  </thead>\n",
       "  <tbody>\n",
       "    <tr>\n",
       "      <th>0</th>\n",
       "      <td>Price (AUD)</td>\n",
       "      <td>302</td>\n",
       "      <td>186</td>\n",
       "      <td>942</td>\n",
       "      <td>942</td>\n",
       "      <td>573</td>\n",
       "      <td>733</td>\n",
       "      <td>819</td>\n",
       "      <td>1029</td>\n",
       "      <td>927</td>\n",
       "    </tr>\n",
       "    <tr>\n",
       "      <th>1</th>\n",
       "      <td>Distance to CBD (km)</td>\n",
       "      <td>177</td>\n",
       "      <td>237</td>\n",
       "      <td>376</td>\n",
       "      <td>386</td>\n",
       "      <td>232</td>\n",
       "      <td>537</td>\n",
       "      <td>548</td>\n",
       "      <td>605</td>\n",
       "      <td>616</td>\n",
       "    </tr>\n",
       "  </tbody>\n",
       "</table>\n",
       "</div>"
      ],
      "text/plain": [
       "             Unnamed: 0  Mt Baw Baw  Mt. Stirling  Mt. Hotham  Falls Creek  \\\n",
       "0           Price (AUD)         302           186         942          942   \n",
       "1  Distance to CBD (km)         177           237         376          386   \n",
       "\n",
       "   Mt. Buller  Selwyn  Thredbo  Perisher  Charlotte Pass  \n",
       "0         573     733      819      1029             927  \n",
       "1         232     537      548       605             616  "
      ]
     },
     "execution_count": 1527,
     "metadata": {},
     "output_type": "execute_result"
    }
   ],
   "source": [
    "price = pd.read_excel('Price and Distance Data.xlsx')\n",
    "price.head()"
   ]
  },
  {
   "cell_type": "code",
   "execution_count": 1528,
   "metadata": {},
   "outputs": [],
   "source": [
    "price = price.rename(columns={'Mt Baw Baw': 'Mt. Baw Baw'})"
   ]
  },
  {
   "cell_type": "code",
   "execution_count": 1529,
   "metadata": {},
   "outputs": [
    {
     "data": {
      "text/html": [
       "<div>\n",
       "<style scoped>\n",
       "    .dataframe tbody tr th:only-of-type {\n",
       "        vertical-align: middle;\n",
       "    }\n",
       "\n",
       "    .dataframe tbody tr th {\n",
       "        vertical-align: top;\n",
       "    }\n",
       "\n",
       "    .dataframe thead th {\n",
       "        text-align: right;\n",
       "    }\n",
       "</style>\n",
       "<table border=\"1\" class=\"dataframe\">\n",
       "  <thead>\n",
       "    <tr style=\"text-align: right;\">\n",
       "      <th></th>\n",
       "      <th>Unnamed: 0</th>\n",
       "      <th>Mt. Baw Baw</th>\n",
       "      <th>Mt. Stirling</th>\n",
       "      <th>Mt. Hotham</th>\n",
       "      <th>Falls Creek</th>\n",
       "      <th>Mt. Buller</th>\n",
       "      <th>Selwyn</th>\n",
       "      <th>Thredbo</th>\n",
       "      <th>Perisher</th>\n",
       "      <th>Charlotte Pass</th>\n",
       "    </tr>\n",
       "  </thead>\n",
       "  <tbody>\n",
       "    <tr>\n",
       "      <th>0</th>\n",
       "      <td>Price (AUD)</td>\n",
       "      <td>302</td>\n",
       "      <td>186</td>\n",
       "      <td>942</td>\n",
       "      <td>942</td>\n",
       "      <td>573</td>\n",
       "      <td>733</td>\n",
       "      <td>819</td>\n",
       "      <td>1029</td>\n",
       "      <td>927</td>\n",
       "    </tr>\n",
       "    <tr>\n",
       "      <th>1</th>\n",
       "      <td>Distance to CBD (km)</td>\n",
       "      <td>177</td>\n",
       "      <td>237</td>\n",
       "      <td>376</td>\n",
       "      <td>386</td>\n",
       "      <td>232</td>\n",
       "      <td>537</td>\n",
       "      <td>548</td>\n",
       "      <td>605</td>\n",
       "      <td>616</td>\n",
       "    </tr>\n",
       "  </tbody>\n",
       "</table>\n",
       "</div>"
      ],
      "text/plain": [
       "             Unnamed: 0  Mt. Baw Baw  Mt. Stirling  Mt. Hotham  Falls Creek  \\\n",
       "0           Price (AUD)          302           186         942          942   \n",
       "1  Distance to CBD (km)          177           237         376          386   \n",
       "\n",
       "   Mt. Buller  Selwyn  Thredbo  Perisher  Charlotte Pass  \n",
       "0         573     733      819      1029             927  \n",
       "1         232     537      548       605             616  "
      ]
     },
     "execution_count": 1529,
     "metadata": {},
     "output_type": "execute_result"
    }
   ],
   "source": [
    "price"
   ]
  },
  {
   "cell_type": "code",
   "execution_count": 1530,
   "metadata": {},
   "outputs": [
    {
     "data": {
      "text/plain": [
       "array(['Charlotte Pass', 'Falls Creek', 'Mt. Baw Baw', 'Mt. Buller',\n",
       "       'Mt. Hotham', 'Mt. Stirling', 'Perisher', 'Selwyn', 'Thredbo'],\n",
       "      dtype=object)"
      ]
     },
     "execution_count": 1530,
     "metadata": {},
     "output_type": "execute_result"
    }
   ],
   "source": [
    "locs"
   ]
  },
  {
   "cell_type": "code",
   "execution_count": 1531,
   "metadata": {},
   "outputs": [],
   "source": [
    "prices = [price.loc[0, x] for x in locs]\n",
    "distance = [price.loc[1, x] for x in locs]"
   ]
  },
  {
   "cell_type": "code",
   "execution_count": 1532,
   "metadata": {},
   "outputs": [
    {
     "data": {
      "text/plain": [
       "PearsonRResult(statistic=0.33258598251528604, pvalue=0.38184813328716233)"
      ]
     },
     "execution_count": 1532,
     "metadata": {},
     "output_type": "execute_result"
    }
   ],
   "source": [
    "pearsonr(prices, r)"
   ]
  },
  {
   "cell_type": "code",
   "execution_count": 1533,
   "metadata": {},
   "outputs": [
    {
     "data": {
      "text/plain": [
       "PearsonRResult(statistic=-0.06786940133909562, pvalue=0.8622672181131338)"
      ]
     },
     "execution_count": 1533,
     "metadata": {},
     "output_type": "execute_result"
    }
   ],
   "source": [
    "pearsonr(distance, r)"
   ]
  },
  {
   "cell_type": "markdown",
   "metadata": {},
   "source": [
    "# cleaning combined ratings data"
   ]
  },
  {
   "cell_type": "code",
   "execution_count": 1534,
   "metadata": {},
   "outputs": [],
   "source": [
    "combined_visit_ratings= combined_visit_ratings.drop(['variable', 'Week_x', 'Week_y'], axis=1)"
   ]
  },
  {
   "cell_type": "code",
   "execution_count": 1535,
   "metadata": {},
   "outputs": [],
   "source": [
    "combined_visit_ratings = combined_visit_ratings.rename(columns={'value': 'n_visits'})"
   ]
  },
  {
   "cell_type": "code",
   "execution_count": 1536,
   "metadata": {},
   "outputs": [
    {
     "data": {
      "text/html": [
       "<div>\n",
       "<style scoped>\n",
       "    .dataframe tbody tr th:only-of-type {\n",
       "        vertical-align: middle;\n",
       "    }\n",
       "\n",
       "    .dataframe tbody tr th {\n",
       "        vertical-align: top;\n",
       "    }\n",
       "\n",
       "    .dataframe thead th {\n",
       "        text-align: right;\n",
       "    }\n",
       "</style>\n",
       "<table border=\"1\" class=\"dataframe\">\n",
       "  <thead>\n",
       "    <tr style=\"text-align: right;\">\n",
       "      <th></th>\n",
       "      <th>Year</th>\n",
       "      <th>n_visits</th>\n",
       "      <th>Resort</th>\n",
       "      <th>Rating</th>\n",
       "      <th>week_num</th>\n",
       "      <th>Date</th>\n",
       "    </tr>\n",
       "  </thead>\n",
       "  <tbody>\n",
       "    <tr>\n",
       "      <th>0</th>\n",
       "      <td>2016</td>\n",
       "      <td>8796</td>\n",
       "      <td>Mt. Baw Baw</td>\n",
       "      <td>5.0</td>\n",
       "      <td>4</td>\n",
       "      <td>2016-06-30</td>\n",
       "    </tr>\n",
       "    <tr>\n",
       "      <th>1</th>\n",
       "      <td>2017</td>\n",
       "      <td>3569</td>\n",
       "      <td>Mt. Baw Baw</td>\n",
       "      <td>5.0</td>\n",
       "      <td>1</td>\n",
       "      <td>2017-06-09</td>\n",
       "    </tr>\n",
       "    <tr>\n",
       "      <th>2</th>\n",
       "      <td>2017</td>\n",
       "      <td>3486</td>\n",
       "      <td>Mt. Baw Baw</td>\n",
       "      <td>3.0</td>\n",
       "      <td>4</td>\n",
       "      <td>2017-06-30</td>\n",
       "    </tr>\n",
       "    <tr>\n",
       "      <th>3</th>\n",
       "      <td>2017</td>\n",
       "      <td>5981</td>\n",
       "      <td>Mt. Baw Baw</td>\n",
       "      <td>5.0</td>\n",
       "      <td>5</td>\n",
       "      <td>2017-07-07</td>\n",
       "    </tr>\n",
       "    <tr>\n",
       "      <th>4</th>\n",
       "      <td>2017</td>\n",
       "      <td>7286</td>\n",
       "      <td>Mt. Baw Baw</td>\n",
       "      <td>1.0</td>\n",
       "      <td>7</td>\n",
       "      <td>2017-07-21</td>\n",
       "    </tr>\n",
       "    <tr>\n",
       "      <th>...</th>\n",
       "      <td>...</td>\n",
       "      <td>...</td>\n",
       "      <td>...</td>\n",
       "      <td>...</td>\n",
       "      <td>...</td>\n",
       "      <td>...</td>\n",
       "    </tr>\n",
       "    <tr>\n",
       "      <th>615</th>\n",
       "      <td>2023</td>\n",
       "      <td>3165</td>\n",
       "      <td>Charlotte Pass</td>\n",
       "      <td>3.0</td>\n",
       "      <td>7</td>\n",
       "      <td>2023-07-21</td>\n",
       "    </tr>\n",
       "    <tr>\n",
       "      <th>616</th>\n",
       "      <td>2023</td>\n",
       "      <td>3090</td>\n",
       "      <td>Charlotte Pass</td>\n",
       "      <td>5.0</td>\n",
       "      <td>8</td>\n",
       "      <td>2023-07-28</td>\n",
       "    </tr>\n",
       "    <tr>\n",
       "      <th>617</th>\n",
       "      <td>2024</td>\n",
       "      <td>1460</td>\n",
       "      <td>Charlotte Pass</td>\n",
       "      <td>5.0</td>\n",
       "      <td>4</td>\n",
       "      <td>2024-06-30</td>\n",
       "    </tr>\n",
       "    <tr>\n",
       "      <th>618</th>\n",
       "      <td>2024</td>\n",
       "      <td>1460</td>\n",
       "      <td>Charlotte Pass</td>\n",
       "      <td>5.0</td>\n",
       "      <td>4</td>\n",
       "      <td>2024-06-30</td>\n",
       "    </tr>\n",
       "    <tr>\n",
       "      <th>619</th>\n",
       "      <td>2024</td>\n",
       "      <td>3602</td>\n",
       "      <td>Charlotte Pass</td>\n",
       "      <td>4.0</td>\n",
       "      <td>6</td>\n",
       "      <td>2024-07-14</td>\n",
       "    </tr>\n",
       "  </tbody>\n",
       "</table>\n",
       "<p>620 rows × 6 columns</p>\n",
       "</div>"
      ],
      "text/plain": [
       "     Year  n_visits          Resort  Rating  week_num       Date\n",
       "0    2016      8796     Mt. Baw Baw     5.0         4 2016-06-30\n",
       "1    2017      3569     Mt. Baw Baw     5.0         1 2017-06-09\n",
       "2    2017      3486     Mt. Baw Baw     3.0         4 2017-06-30\n",
       "3    2017      5981     Mt. Baw Baw     5.0         5 2017-07-07\n",
       "4    2017      7286     Mt. Baw Baw     1.0         7 2017-07-21\n",
       "..    ...       ...             ...     ...       ...        ...\n",
       "615  2023      3165  Charlotte Pass     3.0         7 2023-07-21\n",
       "616  2023      3090  Charlotte Pass     5.0         8 2023-07-28\n",
       "617  2024      1460  Charlotte Pass     5.0         4 2024-06-30\n",
       "618  2024      1460  Charlotte Pass     5.0         4 2024-06-30\n",
       "619  2024      3602  Charlotte Pass     4.0         6 2024-07-14\n",
       "\n",
       "[620 rows x 6 columns]"
      ]
     },
     "execution_count": 1536,
     "metadata": {},
     "output_type": "execute_result"
    }
   ],
   "source": [
    "combined_visit_ratings"
   ]
  },
  {
   "cell_type": "markdown",
   "metadata": {},
   "source": [
    "## Merge Price with ratings"
   ]
  },
  {
   "cell_type": "code",
   "execution_count": 1537,
   "metadata": {},
   "outputs": [
    {
     "data": {
      "text/plain": [
       "{'Charlotte Pass': 927,\n",
       " 'Falls Creek': 942,\n",
       " 'Mt. Baw Baw': 302,\n",
       " 'Mt. Buller': 573,\n",
       " 'Mt. Hotham': 942,\n",
       " 'Mt. Stirling': 186,\n",
       " 'Perisher': 1029,\n",
       " 'Selwyn': 733,\n",
       " 'Thredbo': 819}"
      ]
     },
     "execution_count": 1537,
     "metadata": {},
     "output_type": "execute_result"
    }
   ],
   "source": [
    "price_dict = {locs[i]: prices[i] for i in range(len(locs))}\n",
    "price_dict"
   ]
  },
  {
   "cell_type": "code",
   "execution_count": 1538,
   "metadata": {},
   "outputs": [],
   "source": [
    "combined_visit_ratings['Price'] = combined_visit_ratings['Resort'].map(price_dict)"
   ]
  },
  {
   "cell_type": "code",
   "execution_count": 1539,
   "metadata": {},
   "outputs": [],
   "source": [
    "combined_visit_ratings['Resort'] = combined_visit_ratings.Resort.astype('category')\n",
    "combined_visit_ratings['week_num'] = combined_visit_ratings.week_num.astype('category')\n",
    "combined_visit_ratings['Price'] = combined_visit_ratings.Price.astype('category')"
   ]
  },
  {
   "cell_type": "code",
   "execution_count": null,
   "metadata": {},
   "outputs": [],
   "source": []
  },
  {
   "cell_type": "markdown",
   "metadata": {},
   "source": [
    "# Forecasting with reviews and ratings\n",
    "with catboost"
   ]
  },
  {
   "cell_type": "code",
   "execution_count": 1540,
   "metadata": {},
   "outputs": [],
   "source": [
    "X = combined_visit_ratings"
   ]
  },
  {
   "cell_type": "code",
   "execution_count": 1541,
   "metadata": {},
   "outputs": [
    {
     "data": {
      "text/html": [
       "<div>\n",
       "<style scoped>\n",
       "    .dataframe tbody tr th:only-of-type {\n",
       "        vertical-align: middle;\n",
       "    }\n",
       "\n",
       "    .dataframe tbody tr th {\n",
       "        vertical-align: top;\n",
       "    }\n",
       "\n",
       "    .dataframe thead th {\n",
       "        text-align: right;\n",
       "    }\n",
       "</style>\n",
       "<table border=\"1\" class=\"dataframe\">\n",
       "  <thead>\n",
       "    <tr style=\"text-align: right;\">\n",
       "      <th></th>\n",
       "      <th>Year</th>\n",
       "      <th>n_visits</th>\n",
       "      <th>Resort</th>\n",
       "      <th>Rating</th>\n",
       "      <th>week_num</th>\n",
       "      <th>Date</th>\n",
       "      <th>Price</th>\n",
       "    </tr>\n",
       "  </thead>\n",
       "  <tbody>\n",
       "    <tr>\n",
       "      <th>0</th>\n",
       "      <td>2016</td>\n",
       "      <td>8796</td>\n",
       "      <td>Mt. Baw Baw</td>\n",
       "      <td>5.0</td>\n",
       "      <td>4</td>\n",
       "      <td>2016-06-30</td>\n",
       "      <td>302</td>\n",
       "    </tr>\n",
       "    <tr>\n",
       "      <th>1</th>\n",
       "      <td>2017</td>\n",
       "      <td>3569</td>\n",
       "      <td>Mt. Baw Baw</td>\n",
       "      <td>5.0</td>\n",
       "      <td>1</td>\n",
       "      <td>2017-06-09</td>\n",
       "      <td>302</td>\n",
       "    </tr>\n",
       "    <tr>\n",
       "      <th>2</th>\n",
       "      <td>2017</td>\n",
       "      <td>3486</td>\n",
       "      <td>Mt. Baw Baw</td>\n",
       "      <td>3.0</td>\n",
       "      <td>4</td>\n",
       "      <td>2017-06-30</td>\n",
       "      <td>302</td>\n",
       "    </tr>\n",
       "    <tr>\n",
       "      <th>3</th>\n",
       "      <td>2017</td>\n",
       "      <td>5981</td>\n",
       "      <td>Mt. Baw Baw</td>\n",
       "      <td>5.0</td>\n",
       "      <td>5</td>\n",
       "      <td>2017-07-07</td>\n",
       "      <td>302</td>\n",
       "    </tr>\n",
       "    <tr>\n",
       "      <th>4</th>\n",
       "      <td>2017</td>\n",
       "      <td>7286</td>\n",
       "      <td>Mt. Baw Baw</td>\n",
       "      <td>1.0</td>\n",
       "      <td>7</td>\n",
       "      <td>2017-07-21</td>\n",
       "      <td>302</td>\n",
       "    </tr>\n",
       "    <tr>\n",
       "      <th>...</th>\n",
       "      <td>...</td>\n",
       "      <td>...</td>\n",
       "      <td>...</td>\n",
       "      <td>...</td>\n",
       "      <td>...</td>\n",
       "      <td>...</td>\n",
       "      <td>...</td>\n",
       "    </tr>\n",
       "    <tr>\n",
       "      <th>615</th>\n",
       "      <td>2023</td>\n",
       "      <td>3165</td>\n",
       "      <td>Charlotte Pass</td>\n",
       "      <td>3.0</td>\n",
       "      <td>7</td>\n",
       "      <td>2023-07-21</td>\n",
       "      <td>927</td>\n",
       "    </tr>\n",
       "    <tr>\n",
       "      <th>616</th>\n",
       "      <td>2023</td>\n",
       "      <td>3090</td>\n",
       "      <td>Charlotte Pass</td>\n",
       "      <td>5.0</td>\n",
       "      <td>8</td>\n",
       "      <td>2023-07-28</td>\n",
       "      <td>927</td>\n",
       "    </tr>\n",
       "    <tr>\n",
       "      <th>617</th>\n",
       "      <td>2024</td>\n",
       "      <td>1460</td>\n",
       "      <td>Charlotte Pass</td>\n",
       "      <td>5.0</td>\n",
       "      <td>4</td>\n",
       "      <td>2024-06-30</td>\n",
       "      <td>927</td>\n",
       "    </tr>\n",
       "    <tr>\n",
       "      <th>618</th>\n",
       "      <td>2024</td>\n",
       "      <td>1460</td>\n",
       "      <td>Charlotte Pass</td>\n",
       "      <td>5.0</td>\n",
       "      <td>4</td>\n",
       "      <td>2024-06-30</td>\n",
       "      <td>927</td>\n",
       "    </tr>\n",
       "    <tr>\n",
       "      <th>619</th>\n",
       "      <td>2024</td>\n",
       "      <td>3602</td>\n",
       "      <td>Charlotte Pass</td>\n",
       "      <td>4.0</td>\n",
       "      <td>6</td>\n",
       "      <td>2024-07-14</td>\n",
       "      <td>927</td>\n",
       "    </tr>\n",
       "  </tbody>\n",
       "</table>\n",
       "<p>620 rows × 7 columns</p>\n",
       "</div>"
      ],
      "text/plain": [
       "     Year  n_visits          Resort  Rating week_num       Date Price\n",
       "0    2016      8796     Mt. Baw Baw     5.0        4 2016-06-30   302\n",
       "1    2017      3569     Mt. Baw Baw     5.0        1 2017-06-09   302\n",
       "2    2017      3486     Mt. Baw Baw     3.0        4 2017-06-30   302\n",
       "3    2017      5981     Mt. Baw Baw     5.0        5 2017-07-07   302\n",
       "4    2017      7286     Mt. Baw Baw     1.0        7 2017-07-21   302\n",
       "..    ...       ...             ...     ...      ...        ...   ...\n",
       "615  2023      3165  Charlotte Pass     3.0        7 2023-07-21   927\n",
       "616  2023      3090  Charlotte Pass     5.0        8 2023-07-28   927\n",
       "617  2024      1460  Charlotte Pass     5.0        4 2024-06-30   927\n",
       "618  2024      1460  Charlotte Pass     5.0        4 2024-06-30   927\n",
       "619  2024      3602  Charlotte Pass     4.0        6 2024-07-14   927\n",
       "\n",
       "[620 rows x 7 columns]"
      ]
     },
     "execution_count": 1541,
     "metadata": {},
     "output_type": "execute_result"
    }
   ],
   "source": [
    "X"
   ]
  },
  {
   "cell_type": "markdown",
   "metadata": {},
   "source": [
    "# Aggregate X with Climate Data"
   ]
  },
  {
   "cell_type": "code",
   "execution_count": 1542,
   "metadata": {},
   "outputs": [],
   "source": [
    "climate = pd.read_excel(\"2025 Allianz Datathon Dataset.xlsx\", sheet_name='Climate Data')"
   ]
  },
  {
   "cell_type": "code",
   "execution_count": 1543,
   "metadata": {},
   "outputs": [
    {
     "data": {
      "text/plain": [
       "array(['Charlotte Pass', 'Falls Creek', 'Mt. Baw Baw', 'Mt. Buller',\n",
       "       'Mt. Hotham', 'Mt. Stirling', 'Perisher', 'Selwyn', 'Thredbo'],\n",
       "      dtype=object)"
      ]
     },
     "execution_count": 1543,
     "metadata": {},
     "output_type": "execute_result"
    }
   ],
   "source": [
    "locs"
   ]
  },
  {
   "cell_type": "code",
   "execution_count": 1544,
   "metadata": {},
   "outputs": [],
   "source": [
    "stations = {\n",
    "     'Thredbo': 71032,\n",
    "     'Perisher': 71075,\n",
    "     'Charlotte Pass': 71032,\n",
    "     'Mt. Buller': 83024, \n",
    "     'Mt. Stirling': 83024,\n",
    "     'Falls Creek': 83084,\n",
    "     'Mt. Hotham': 83085,\n",
    "     'Mt. Baw Baw': 85291,\n",
    "     'Selwyn': 72161\n",
    "}"
   ]
  },
  {
   "cell_type": "code",
   "execution_count": 1545,
   "metadata": {},
   "outputs": [],
   "source": [
    "X['Weather_station'] = X['Resort'].map(stations)"
   ]
  },
  {
   "cell_type": "code",
   "execution_count": 1551,
   "metadata": {},
   "outputs": [],
   "source": [
    "climate['Date'] = climate.apply(lambda x: str(x['Year'])+'-'+str(x['Month'])+'-'+str(x['Day']), axis = 1)"
   ]
  },
  {
   "cell_type": "code",
   "execution_count": 1552,
   "metadata": {},
   "outputs": [
    {
     "data": {
      "text/html": [
       "<div>\n",
       "<style scoped>\n",
       "    .dataframe tbody tr th:only-of-type {\n",
       "        vertical-align: middle;\n",
       "    }\n",
       "\n",
       "    .dataframe tbody tr th {\n",
       "        vertical-align: top;\n",
       "    }\n",
       "\n",
       "    .dataframe thead th {\n",
       "        text-align: right;\n",
       "    }\n",
       "</style>\n",
       "<table border=\"1\" class=\"dataframe\">\n",
       "  <thead>\n",
       "    <tr style=\"text-align: right;\">\n",
       "      <th></th>\n",
       "      <th>Bureau of Meteorology station number</th>\n",
       "      <th>Year</th>\n",
       "      <th>Month</th>\n",
       "      <th>Day</th>\n",
       "      <th>Maximum temperature (Degree C)</th>\n",
       "      <th>Minimum temperature (Degree C)</th>\n",
       "      <th>Rainfall amount (millimetres)</th>\n",
       "      <th>Date</th>\n",
       "    </tr>\n",
       "  </thead>\n",
       "  <tbody>\n",
       "    <tr>\n",
       "      <th>0</th>\n",
       "      <td>71075</td>\n",
       "      <td>2010</td>\n",
       "      <td>1</td>\n",
       "      <td>1</td>\n",
       "      <td>NaN</td>\n",
       "      <td>NaN</td>\n",
       "      <td>NaN</td>\n",
       "      <td>2010-1-1</td>\n",
       "    </tr>\n",
       "    <tr>\n",
       "      <th>1</th>\n",
       "      <td>71075</td>\n",
       "      <td>2010</td>\n",
       "      <td>1</td>\n",
       "      <td>2</td>\n",
       "      <td>NaN</td>\n",
       "      <td>NaN</td>\n",
       "      <td>NaN</td>\n",
       "      <td>2010-1-2</td>\n",
       "    </tr>\n",
       "    <tr>\n",
       "      <th>2</th>\n",
       "      <td>71075</td>\n",
       "      <td>2010</td>\n",
       "      <td>1</td>\n",
       "      <td>3</td>\n",
       "      <td>NaN</td>\n",
       "      <td>NaN</td>\n",
       "      <td>NaN</td>\n",
       "      <td>2010-1-3</td>\n",
       "    </tr>\n",
       "    <tr>\n",
       "      <th>3</th>\n",
       "      <td>71075</td>\n",
       "      <td>2010</td>\n",
       "      <td>1</td>\n",
       "      <td>4</td>\n",
       "      <td>NaN</td>\n",
       "      <td>NaN</td>\n",
       "      <td>NaN</td>\n",
       "      <td>2010-1-4</td>\n",
       "    </tr>\n",
       "    <tr>\n",
       "      <th>4</th>\n",
       "      <td>71075</td>\n",
       "      <td>2010</td>\n",
       "      <td>1</td>\n",
       "      <td>5</td>\n",
       "      <td>NaN</td>\n",
       "      <td>NaN</td>\n",
       "      <td>NaN</td>\n",
       "      <td>2010-1-5</td>\n",
       "    </tr>\n",
       "    <tr>\n",
       "      <th>...</th>\n",
       "      <td>...</td>\n",
       "      <td>...</td>\n",
       "      <td>...</td>\n",
       "      <td>...</td>\n",
       "      <td>...</td>\n",
       "      <td>...</td>\n",
       "      <td>...</td>\n",
       "      <td>...</td>\n",
       "    </tr>\n",
       "    <tr>\n",
       "      <th>39808</th>\n",
       "      <td>72161</td>\n",
       "      <td>2025</td>\n",
       "      <td>7</td>\n",
       "      <td>24</td>\n",
       "      <td>3.0</td>\n",
       "      <td>-2.7</td>\n",
       "      <td>4.2</td>\n",
       "      <td>2025-7-24</td>\n",
       "    </tr>\n",
       "    <tr>\n",
       "      <th>39809</th>\n",
       "      <td>72161</td>\n",
       "      <td>2025</td>\n",
       "      <td>7</td>\n",
       "      <td>25</td>\n",
       "      <td>6.0</td>\n",
       "      <td>-2.4</td>\n",
       "      <td>0.2</td>\n",
       "      <td>2025-7-25</td>\n",
       "    </tr>\n",
       "    <tr>\n",
       "      <th>39810</th>\n",
       "      <td>72161</td>\n",
       "      <td>2025</td>\n",
       "      <td>7</td>\n",
       "      <td>26</td>\n",
       "      <td>2.7</td>\n",
       "      <td>0.0</td>\n",
       "      <td>10.2</td>\n",
       "      <td>2025-7-26</td>\n",
       "    </tr>\n",
       "    <tr>\n",
       "      <th>39811</th>\n",
       "      <td>72161</td>\n",
       "      <td>2025</td>\n",
       "      <td>7</td>\n",
       "      <td>27</td>\n",
       "      <td>2.5</td>\n",
       "      <td>1.3</td>\n",
       "      <td>15.6</td>\n",
       "      <td>2025-7-27</td>\n",
       "    </tr>\n",
       "    <tr>\n",
       "      <th>39812</th>\n",
       "      <td>72161</td>\n",
       "      <td>2025</td>\n",
       "      <td>7</td>\n",
       "      <td>28</td>\n",
       "      <td>2.2</td>\n",
       "      <td>-0.1</td>\n",
       "      <td>54.4</td>\n",
       "      <td>2025-7-28</td>\n",
       "    </tr>\n",
       "  </tbody>\n",
       "</table>\n",
       "<p>39813 rows × 8 columns</p>\n",
       "</div>"
      ],
      "text/plain": [
       "       Bureau of Meteorology station number  Year  Month  Day  \\\n",
       "0                                     71075  2010      1    1   \n",
       "1                                     71075  2010      1    2   \n",
       "2                                     71075  2010      1    3   \n",
       "3                                     71075  2010      1    4   \n",
       "4                                     71075  2010      1    5   \n",
       "...                                     ...   ...    ...  ...   \n",
       "39808                                 72161  2025      7   24   \n",
       "39809                                 72161  2025      7   25   \n",
       "39810                                 72161  2025      7   26   \n",
       "39811                                 72161  2025      7   27   \n",
       "39812                                 72161  2025      7   28   \n",
       "\n",
       "       Maximum temperature (Degree C)  Minimum temperature (Degree C)  \\\n",
       "0                                 NaN                             NaN   \n",
       "1                                 NaN                             NaN   \n",
       "2                                 NaN                             NaN   \n",
       "3                                 NaN                             NaN   \n",
       "4                                 NaN                             NaN   \n",
       "...                               ...                             ...   \n",
       "39808                             3.0                            -2.7   \n",
       "39809                             6.0                            -2.4   \n",
       "39810                             2.7                             0.0   \n",
       "39811                             2.5                             1.3   \n",
       "39812                             2.2                            -0.1   \n",
       "\n",
       "       Rainfall amount (millimetres)       Date  \n",
       "0                                NaN   2010-1-1  \n",
       "1                                NaN   2010-1-2  \n",
       "2                                NaN   2010-1-3  \n",
       "3                                NaN   2010-1-4  \n",
       "4                                NaN   2010-1-5  \n",
       "...                              ...        ...  \n",
       "39808                            4.2  2025-7-24  \n",
       "39809                            0.2  2025-7-25  \n",
       "39810                           10.2  2025-7-26  \n",
       "39811                           15.6  2025-7-27  \n",
       "39812                           54.4  2025-7-28  \n",
       "\n",
       "[39813 rows x 8 columns]"
      ]
     },
     "execution_count": 1552,
     "metadata": {},
     "output_type": "execute_result"
    }
   ],
   "source": [
    "climate"
   ]
  },
  {
   "cell_type": "code",
   "execution_count": 1553,
   "metadata": {},
   "outputs": [],
   "source": [
    "def compute_custom_week(date):\n",
    "    date = datetime.strptime(date,\"%Y-%m-%d\")\n",
    "    week1_start = pd.to_datetime(f\"{date.year}-06-09\")\n",
    "    days_diff = (date - week1_start).days\n",
    "\n",
    "    week_num = (days_diff // 7) + 1\n",
    "\n",
    "    return 'week'+str(week_num) if week_num >= 1 and week_num<=15 else None  "
   ]
  },
  {
   "cell_type": "code",
   "execution_count": 1554,
   "metadata": {},
   "outputs": [],
   "source": [
    "climate['week'] = climate['Date'].apply(lambda x: compute_custom_week(x))"
   ]
  },
  {
   "cell_type": "code",
   "execution_count": 1555,
   "metadata": {},
   "outputs": [],
   "source": [
    "climate = climate.dropna()"
   ]
  },
  {
   "cell_type": "code",
   "execution_count": 1556,
   "metadata": {},
   "outputs": [
    {
     "name": "stderr",
     "output_type": "stream",
     "text": [
      "C:\\Users\\Huawei\\AppData\\Local\\Temp\\ipykernel_74076\\3895289876.py:1: SettingWithCopyWarning: \n",
      "A value is trying to be set on a copy of a slice from a DataFrame.\n",
      "Try using .loc[row_indexer,col_indexer] = value instead\n",
      "\n",
      "See the caveats in the documentation: https://pandas.pydata.org/pandas-docs/stable/user_guide/indexing.html#returning-a-view-versus-a-copy\n",
      "  climate['week'] = climate['week'].apply(lambda x: int(x[-1]))\n"
     ]
    }
   ],
   "source": [
    "climate['week'] = climate['week'].apply(lambda x: int(x[-1]))"
   ]
  },
  {
   "cell_type": "code",
   "execution_count": 1557,
   "metadata": {},
   "outputs": [
    {
     "name": "stderr",
     "output_type": "stream",
     "text": [
      "C:\\Users\\Huawei\\AppData\\Local\\Temp\\ipykernel_74076\\458562676.py:1: SettingWithCopyWarning: \n",
      "A value is trying to be set on a copy of a slice from a DataFrame.\n",
      "Try using .loc[row_indexer,col_indexer] = value instead\n",
      "\n",
      "See the caveats in the documentation: https://pandas.pydata.org/pandas-docs/stable/user_guide/indexing.html#returning-a-view-versus-a-copy\n",
      "  climate['week'] = climate['week']+1\n"
     ]
    }
   ],
   "source": [
    "climate['week'] = climate['week']+1"
   ]
  },
  {
   "cell_type": "code",
   "execution_count": 1558,
   "metadata": {},
   "outputs": [],
   "source": [
    "updated_climate = climate.groupby(['Bureau of Meteorology station number', 'Year', 'week'])[['Maximum temperature (Degree C)', 'Minimum temperature (Degree C)', 'Rainfall amount (millimetres)']].mean().reset_index()"
   ]
  },
  {
   "cell_type": "code",
   "execution_count": 1559,
   "metadata": {},
   "outputs": [],
   "source": [
    "X = combined_visit_ratings.merge(updated_climate, left_on=['Weather_station', 'Year', 'week_num'], right_on=['Bureau of Meteorology station number', 'Year', 'week'])"
   ]
  },
  {
   "cell_type": "code",
   "execution_count": 1560,
   "metadata": {},
   "outputs": [],
   "source": [
    "y =X.pop('Rating')"
   ]
  },
  {
   "cell_type": "code",
   "execution_count": 1561,
   "metadata": {},
   "outputs": [
    {
     "data": {
      "text/html": [
       "<div>\n",
       "<style scoped>\n",
       "    .dataframe tbody tr th:only-of-type {\n",
       "        vertical-align: middle;\n",
       "    }\n",
       "\n",
       "    .dataframe tbody tr th {\n",
       "        vertical-align: top;\n",
       "    }\n",
       "\n",
       "    .dataframe thead th {\n",
       "        text-align: right;\n",
       "    }\n",
       "</style>\n",
       "<table border=\"1\" class=\"dataframe\">\n",
       "  <thead>\n",
       "    <tr style=\"text-align: right;\">\n",
       "      <th></th>\n",
       "      <th>Year</th>\n",
       "      <th>n_visits</th>\n",
       "      <th>Resort</th>\n",
       "      <th>week_num</th>\n",
       "      <th>Date</th>\n",
       "      <th>Price</th>\n",
       "      <th>Weather_station</th>\n",
       "      <th>Bureau of Meteorology station number</th>\n",
       "      <th>week</th>\n",
       "      <th>Maximum temperature (Degree C)</th>\n",
       "      <th>Minimum temperature (Degree C)</th>\n",
       "      <th>Rainfall amount (millimetres)</th>\n",
       "    </tr>\n",
       "  </thead>\n",
       "  <tbody>\n",
       "    <tr>\n",
       "      <th>0</th>\n",
       "      <td>2016</td>\n",
       "      <td>8796</td>\n",
       "      <td>Mt. Baw Baw</td>\n",
       "      <td>4</td>\n",
       "      <td>2016-06-30</td>\n",
       "      <td>302</td>\n",
       "      <td>85291</td>\n",
       "      <td>85291</td>\n",
       "      <td>4</td>\n",
       "      <td>3.735714</td>\n",
       "      <td>-0.878571</td>\n",
       "      <td>5.042857</td>\n",
       "    </tr>\n",
       "    <tr>\n",
       "      <th>1</th>\n",
       "      <td>2017</td>\n",
       "      <td>3569</td>\n",
       "      <td>Mt. Baw Baw</td>\n",
       "      <td>1</td>\n",
       "      <td>2017-06-09</td>\n",
       "      <td>302</td>\n",
       "      <td>85291</td>\n",
       "      <td>85291</td>\n",
       "      <td>1</td>\n",
       "      <td>3.457143</td>\n",
       "      <td>-0.057143</td>\n",
       "      <td>6.742857</td>\n",
       "    </tr>\n",
       "    <tr>\n",
       "      <th>2</th>\n",
       "      <td>2017</td>\n",
       "      <td>3486</td>\n",
       "      <td>Mt. Baw Baw</td>\n",
       "      <td>4</td>\n",
       "      <td>2017-06-30</td>\n",
       "      <td>302</td>\n",
       "      <td>85291</td>\n",
       "      <td>85291</td>\n",
       "      <td>4</td>\n",
       "      <td>1.292857</td>\n",
       "      <td>-2.157143</td>\n",
       "      <td>3.771429</td>\n",
       "    </tr>\n",
       "    <tr>\n",
       "      <th>3</th>\n",
       "      <td>2017</td>\n",
       "      <td>5981</td>\n",
       "      <td>Mt. Baw Baw</td>\n",
       "      <td>5</td>\n",
       "      <td>2017-07-07</td>\n",
       "      <td>302</td>\n",
       "      <td>85291</td>\n",
       "      <td>85291</td>\n",
       "      <td>5</td>\n",
       "      <td>2.430769</td>\n",
       "      <td>-1.915385</td>\n",
       "      <td>11.338462</td>\n",
       "    </tr>\n",
       "    <tr>\n",
       "      <th>4</th>\n",
       "      <td>2017</td>\n",
       "      <td>7286</td>\n",
       "      <td>Mt. Baw Baw</td>\n",
       "      <td>7</td>\n",
       "      <td>2017-07-21</td>\n",
       "      <td>302</td>\n",
       "      <td>85291</td>\n",
       "      <td>85291</td>\n",
       "      <td>7</td>\n",
       "      <td>1.028571</td>\n",
       "      <td>-2.171429</td>\n",
       "      <td>6.542857</td>\n",
       "    </tr>\n",
       "  </tbody>\n",
       "</table>\n",
       "</div>"
      ],
      "text/plain": [
       "   Year  n_visits       Resort  week_num       Date Price  Weather_station  \\\n",
       "0  2016      8796  Mt. Baw Baw         4 2016-06-30   302            85291   \n",
       "1  2017      3569  Mt. Baw Baw         1 2017-06-09   302            85291   \n",
       "2  2017      3486  Mt. Baw Baw         4 2017-06-30   302            85291   \n",
       "3  2017      5981  Mt. Baw Baw         5 2017-07-07   302            85291   \n",
       "4  2017      7286  Mt. Baw Baw         7 2017-07-21   302            85291   \n",
       "\n",
       "   Bureau of Meteorology station number  week  Maximum temperature (Degree C)  \\\n",
       "0                                 85291     4                        3.735714   \n",
       "1                                 85291     1                        3.457143   \n",
       "2                                 85291     4                        1.292857   \n",
       "3                                 85291     5                        2.430769   \n",
       "4                                 85291     7                        1.028571   \n",
       "\n",
       "   Minimum temperature (Degree C)  Rainfall amount (millimetres)  \n",
       "0                       -0.878571                       5.042857  \n",
       "1                       -0.057143                       6.742857  \n",
       "2                       -2.157143                       3.771429  \n",
       "3                       -1.915385                      11.338462  \n",
       "4                       -2.171429                       6.542857  "
      ]
     },
     "execution_count": 1561,
     "metadata": {},
     "output_type": "execute_result"
    }
   ],
   "source": [
    "X.head()"
   ]
  },
  {
   "cell_type": "code",
   "execution_count": 1562,
   "metadata": {},
   "outputs": [],
   "source": [
    "X = X.drop(columns=['Weather_station', 'Bureau of Meteorology station number', 'week'])"
   ]
  },
  {
   "cell_type": "code",
   "execution_count": 1563,
   "metadata": {},
   "outputs": [],
   "source": [
    "X = X[['week_num', 'Resort', 'n_visits', 'Year', 'Price']]"
   ]
  },
  {
   "cell_type": "markdown",
   "metadata": {},
   "source": [
    "# Hypertuning"
   ]
  },
  {
   "cell_type": "code",
   "execution_count": 1480,
   "metadata": {},
   "outputs": [
    {
     "name": "stderr",
     "output_type": "stream",
     "text": [
      "[I 2025-08-31 15:08:46,140] A new study created in memory with name: no-name-8519dd22-3391-47fd-9966-4b265b00ea03\n"
     ]
    },
    {
     "name": "stderr",
     "output_type": "stream",
     "text": [
      "[I 2025-08-31 15:09:06,564] Trial 0 finished with value: 0.8878522741030327 and parameters: {'iterations': 63, 'learning_rate': 0.13514518617992918, 'depth': 5, 'l2_leaf_reg': 10.632137398116331, 'bagging_temperature': 0.1111526675752158, 'random_strength': 0.030733672939154112, 'grow_policy': 'Depthwise'}. Best is trial 0 with value: 0.8878522741030327.\n",
      "[W 2025-08-31 15:11:14,122] Trial 1 failed with parameters: {'iterations': 405, 'learning_rate': 0.05022446022417267, 'depth': 4, 'l2_leaf_reg': 19.05513481705272, 'bagging_temperature': 0.3707123297460806, 'random_strength': 0.04703667782890756, 'grow_policy': 'SymmetricTree'} because of the following error: KeyboardInterrupt('').\n",
      "Traceback (most recent call last):\n",
      "  File \"C:\\Users\\Huawei\\AppData\\Local\\Packages\\PythonSoftwareFoundation.Python.3.10_qbz5n2kfra8p0\\LocalCache\\local-packages\\Python310\\site-packages\\optuna\\study\\_optimize.py\", line 197, in _run_trial\n",
      "    value_or_values = func(trial)\n",
      "  File \"C:\\Users\\Huawei\\AppData\\Local\\Temp\\ipykernel_74076\\769155024.py\", line 29, in objective\n",
      "    model.fit(train_pool, eval_set=val_pool, use_best_model=True, verbose=False)\n",
      "  File \"C:\\Users\\Huawei\\AppData\\Local\\Packages\\PythonSoftwareFoundation.Python.3.10_qbz5n2kfra8p0\\LocalCache\\local-packages\\Python310\\site-packages\\catboost\\core.py\", line 5873, in fit\n",
      "    return self._fit(X, y, cat_features, text_features, embedding_features, None, graph, sample_weight, None, None, None, None, baseline,\n",
      "  File \"C:\\Users\\Huawei\\AppData\\Local\\Packages\\PythonSoftwareFoundation.Python.3.10_qbz5n2kfra8p0\\LocalCache\\local-packages\\Python310\\site-packages\\catboost\\core.py\", line 2410, in _fit\n",
      "    self._train(\n",
      "  File \"C:\\Users\\Huawei\\AppData\\Local\\Packages\\PythonSoftwareFoundation.Python.3.10_qbz5n2kfra8p0\\LocalCache\\local-packages\\Python310\\site-packages\\catboost\\core.py\", line 1790, in _train\n",
      "    self._object._train(train_pool, test_pool, params, allow_clear_pool, init_model._object if init_model else None)\n",
      "  File \"_catboost.pyx\", line 5017, in _catboost._CatBoost._train\n",
      "  File \"_catboost.pyx\", line 5066, in _catboost._CatBoost._train\n",
      "KeyboardInterrupt\n",
      "[W 2025-08-31 15:11:14,124] Trial 1 failed with value None.\n"
     ]
    },
    {
     "ename": "KeyboardInterrupt",
     "evalue": "",
     "output_type": "error",
     "traceback": [
      "\u001b[1;31m---------------------------------------------------------------------------\u001b[0m",
      "\u001b[1;31mKeyboardInterrupt\u001b[0m                         Traceback (most recent call last)",
      "Cell \u001b[1;32mIn[1480], line 43\u001b[0m\n\u001b[0;32m     36\u001b[0m     \u001b[39mreturn\u001b[39;00m rmse_mean  \n\u001b[0;32m     38\u001b[0m study \u001b[39m=\u001b[39m optuna\u001b[39m.\u001b[39mcreate_study(\n\u001b[0;32m     39\u001b[0m     direction\u001b[39m=\u001b[39m\u001b[39m'\u001b[39m\u001b[39mminimize\u001b[39m\u001b[39m'\u001b[39m,\n\u001b[0;32m     40\u001b[0m     pruner \u001b[39m=\u001b[39m MedianPruner()\n\u001b[0;32m     41\u001b[0m )\n\u001b[1;32m---> 43\u001b[0m study\u001b[39m.\u001b[39;49moptimize(objective, n_trials\u001b[39m=\u001b[39;49m\u001b[39m50\u001b[39;49m)  \n",
      "File \u001b[1;32m~\\AppData\\Local\\Packages\\PythonSoftwareFoundation.Python.3.10_qbz5n2kfra8p0\\LocalCache\\local-packages\\Python310\\site-packages\\optuna\\study\\study.py:475\u001b[0m, in \u001b[0;36mStudy.optimize\u001b[1;34m(self, func, n_trials, timeout, n_jobs, catch, callbacks, gc_after_trial, show_progress_bar)\u001b[0m\n\u001b[0;32m    373\u001b[0m \u001b[39mdef\u001b[39;00m \u001b[39moptimize\u001b[39m(\n\u001b[0;32m    374\u001b[0m     \u001b[39mself\u001b[39m,\n\u001b[0;32m    375\u001b[0m     func: ObjectiveFuncType,\n\u001b[1;32m   (...)\u001b[0m\n\u001b[0;32m    382\u001b[0m     show_progress_bar: \u001b[39mbool\u001b[39m \u001b[39m=\u001b[39m \u001b[39mFalse\u001b[39;00m,\n\u001b[0;32m    383\u001b[0m ) \u001b[39m-\u001b[39m\u001b[39m>\u001b[39m \u001b[39mNone\u001b[39;00m:\n\u001b[0;32m    384\u001b[0m \u001b[39m    \u001b[39m\u001b[39m\"\"\"Optimize an objective function.\u001b[39;00m\n\u001b[0;32m    385\u001b[0m \n\u001b[0;32m    386\u001b[0m \u001b[39m    Optimization is done by choosing a suitable set of hyperparameter values from a given\u001b[39;00m\n\u001b[1;32m   (...)\u001b[0m\n\u001b[0;32m    473\u001b[0m \u001b[39m            If nested invocation of this method occurs.\u001b[39;00m\n\u001b[0;32m    474\u001b[0m \u001b[39m    \"\"\"\u001b[39;00m\n\u001b[1;32m--> 475\u001b[0m     _optimize(\n\u001b[0;32m    476\u001b[0m         study\u001b[39m=\u001b[39;49m\u001b[39mself\u001b[39;49m,\n\u001b[0;32m    477\u001b[0m         func\u001b[39m=\u001b[39;49mfunc,\n\u001b[0;32m    478\u001b[0m         n_trials\u001b[39m=\u001b[39;49mn_trials,\n\u001b[0;32m    479\u001b[0m         timeout\u001b[39m=\u001b[39;49mtimeout,\n\u001b[0;32m    480\u001b[0m         n_jobs\u001b[39m=\u001b[39;49mn_jobs,\n\u001b[0;32m    481\u001b[0m         catch\u001b[39m=\u001b[39;49m\u001b[39mtuple\u001b[39;49m(catch) \u001b[39mif\u001b[39;49;00m \u001b[39misinstance\u001b[39;49m(catch, Iterable) \u001b[39melse\u001b[39;49;00m (catch,),\n\u001b[0;32m    482\u001b[0m         callbacks\u001b[39m=\u001b[39;49mcallbacks,\n\u001b[0;32m    483\u001b[0m         gc_after_trial\u001b[39m=\u001b[39;49mgc_after_trial,\n\u001b[0;32m    484\u001b[0m         show_progress_bar\u001b[39m=\u001b[39;49mshow_progress_bar,\n\u001b[0;32m    485\u001b[0m     )\n",
      "File \u001b[1;32m~\\AppData\\Local\\Packages\\PythonSoftwareFoundation.Python.3.10_qbz5n2kfra8p0\\LocalCache\\local-packages\\Python310\\site-packages\\optuna\\study\\_optimize.py:63\u001b[0m, in \u001b[0;36m_optimize\u001b[1;34m(study, func, n_trials, timeout, n_jobs, catch, callbacks, gc_after_trial, show_progress_bar)\u001b[0m\n\u001b[0;32m     61\u001b[0m \u001b[39mtry\u001b[39;00m:\n\u001b[0;32m     62\u001b[0m     \u001b[39mif\u001b[39;00m n_jobs \u001b[39m==\u001b[39m \u001b[39m1\u001b[39m:\n\u001b[1;32m---> 63\u001b[0m         _optimize_sequential(\n\u001b[0;32m     64\u001b[0m             study,\n\u001b[0;32m     65\u001b[0m             func,\n\u001b[0;32m     66\u001b[0m             n_trials,\n\u001b[0;32m     67\u001b[0m             timeout,\n\u001b[0;32m     68\u001b[0m             catch,\n\u001b[0;32m     69\u001b[0m             callbacks,\n\u001b[0;32m     70\u001b[0m             gc_after_trial,\n\u001b[0;32m     71\u001b[0m             reseed_sampler_rng\u001b[39m=\u001b[39;49m\u001b[39mFalse\u001b[39;49;00m,\n\u001b[0;32m     72\u001b[0m             time_start\u001b[39m=\u001b[39;49m\u001b[39mNone\u001b[39;49;00m,\n\u001b[0;32m     73\u001b[0m             progress_bar\u001b[39m=\u001b[39;49mprogress_bar,\n\u001b[0;32m     74\u001b[0m         )\n\u001b[0;32m     75\u001b[0m     \u001b[39melse\u001b[39;00m:\n\u001b[0;32m     76\u001b[0m         \u001b[39mif\u001b[39;00m n_jobs \u001b[39m==\u001b[39m \u001b[39m-\u001b[39m\u001b[39m1\u001b[39m:\n",
      "File \u001b[1;32m~\\AppData\\Local\\Packages\\PythonSoftwareFoundation.Python.3.10_qbz5n2kfra8p0\\LocalCache\\local-packages\\Python310\\site-packages\\optuna\\study\\_optimize.py:160\u001b[0m, in \u001b[0;36m_optimize_sequential\u001b[1;34m(study, func, n_trials, timeout, catch, callbacks, gc_after_trial, reseed_sampler_rng, time_start, progress_bar)\u001b[0m\n\u001b[0;32m    157\u001b[0m         \u001b[39mbreak\u001b[39;00m\n\u001b[0;32m    159\u001b[0m \u001b[39mtry\u001b[39;00m:\n\u001b[1;32m--> 160\u001b[0m     frozen_trial \u001b[39m=\u001b[39m _run_trial(study, func, catch)\n\u001b[0;32m    161\u001b[0m \u001b[39mfinally\u001b[39;00m:\n\u001b[0;32m    162\u001b[0m     \u001b[39m# The following line mitigates memory problems that can be occurred in some\u001b[39;00m\n\u001b[0;32m    163\u001b[0m     \u001b[39m# environments (e.g., services that use computing containers such as GitHub Actions).\u001b[39;00m\n\u001b[0;32m    164\u001b[0m     \u001b[39m# Please refer to the following PR for further details:\u001b[39;00m\n\u001b[0;32m    165\u001b[0m     \u001b[39m# https://github.com/optuna/optuna/pull/325.\u001b[39;00m\n\u001b[0;32m    166\u001b[0m     \u001b[39mif\u001b[39;00m gc_after_trial:\n",
      "File \u001b[1;32m~\\AppData\\Local\\Packages\\PythonSoftwareFoundation.Python.3.10_qbz5n2kfra8p0\\LocalCache\\local-packages\\Python310\\site-packages\\optuna\\study\\_optimize.py:248\u001b[0m, in \u001b[0;36m_run_trial\u001b[1;34m(study, func, catch)\u001b[0m\n\u001b[0;32m    241\u001b[0m         \u001b[39massert\u001b[39;00m \u001b[39mFalse\u001b[39;00m, \u001b[39m\"\u001b[39m\u001b[39mShould not reach.\u001b[39m\u001b[39m\"\u001b[39m\n\u001b[0;32m    243\u001b[0m \u001b[39mif\u001b[39;00m (\n\u001b[0;32m    244\u001b[0m     frozen_trial\u001b[39m.\u001b[39mstate \u001b[39m==\u001b[39m TrialState\u001b[39m.\u001b[39mFAIL\n\u001b[0;32m    245\u001b[0m     \u001b[39mand\u001b[39;00m func_err \u001b[39mis\u001b[39;00m \u001b[39mnot\u001b[39;00m \u001b[39mNone\u001b[39;00m\n\u001b[0;32m    246\u001b[0m     \u001b[39mand\u001b[39;00m \u001b[39mnot\u001b[39;00m \u001b[39misinstance\u001b[39m(func_err, catch)\n\u001b[0;32m    247\u001b[0m ):\n\u001b[1;32m--> 248\u001b[0m     \u001b[39mraise\u001b[39;00m func_err\n\u001b[0;32m    249\u001b[0m \u001b[39mreturn\u001b[39;00m frozen_trial\n",
      "File \u001b[1;32m~\\AppData\\Local\\Packages\\PythonSoftwareFoundation.Python.3.10_qbz5n2kfra8p0\\LocalCache\\local-packages\\Python310\\site-packages\\optuna\\study\\_optimize.py:197\u001b[0m, in \u001b[0;36m_run_trial\u001b[1;34m(study, func, catch)\u001b[0m\n\u001b[0;32m    195\u001b[0m \u001b[39mwith\u001b[39;00m get_heartbeat_thread(trial\u001b[39m.\u001b[39m_trial_id, study\u001b[39m.\u001b[39m_storage):\n\u001b[0;32m    196\u001b[0m     \u001b[39mtry\u001b[39;00m:\n\u001b[1;32m--> 197\u001b[0m         value_or_values \u001b[39m=\u001b[39m func(trial)\n\u001b[0;32m    198\u001b[0m     \u001b[39mexcept\u001b[39;00m exceptions\u001b[39m.\u001b[39mTrialPruned \u001b[39mas\u001b[39;00m e:\n\u001b[0;32m    199\u001b[0m         \u001b[39m# TODO(mamu): Handle multi-objective cases.\u001b[39;00m\n\u001b[0;32m    200\u001b[0m         state \u001b[39m=\u001b[39m TrialState\u001b[39m.\u001b[39mPRUNED\n",
      "Cell \u001b[1;32mIn[1480], line 29\u001b[0m, in \u001b[0;36mobjective\u001b[1;34m(trial)\u001b[0m\n\u001b[0;32m     26\u001b[0m val_pool \u001b[39m=\u001b[39m Pool(X_val, y_val, cat_features\u001b[39m=\u001b[39mcat_features)\n\u001b[0;32m     28\u001b[0m model \u001b[39m=\u001b[39m CatBoostRegressor(\u001b[39m*\u001b[39m\u001b[39m*\u001b[39mparams)\n\u001b[1;32m---> 29\u001b[0m model\u001b[39m.\u001b[39;49mfit(train_pool, eval_set\u001b[39m=\u001b[39;49mval_pool, use_best_model\u001b[39m=\u001b[39;49m\u001b[39mTrue\u001b[39;49;00m, verbose\u001b[39m=\u001b[39;49m\u001b[39mFalse\u001b[39;49;00m)\n\u001b[0;32m     31\u001b[0m val_pred \u001b[39m=\u001b[39m model\u001b[39m.\u001b[39mpredict(X_val)\n\u001b[0;32m     32\u001b[0m val_rmse \u001b[39m=\u001b[39m np\u001b[39m.\u001b[39msqrt(((y_val \u001b[39m-\u001b[39m val_pred) \u001b[39m*\u001b[39m\u001b[39m*\u001b[39m \u001b[39m2\u001b[39m)\u001b[39m.\u001b[39mmean())\n",
      "File \u001b[1;32m~\\AppData\\Local\\Packages\\PythonSoftwareFoundation.Python.3.10_qbz5n2kfra8p0\\LocalCache\\local-packages\\Python310\\site-packages\\catboost\\core.py:5873\u001b[0m, in \u001b[0;36mCatBoostRegressor.fit\u001b[1;34m(self, X, y, cat_features, text_features, embedding_features, graph, sample_weight, baseline, use_best_model, eval_set, verbose, logging_level, plot, plot_file, column_description, verbose_eval, metric_period, silent, early_stopping_rounds, save_snapshot, snapshot_file, snapshot_interval, init_model, callbacks, log_cout, log_cerr)\u001b[0m\n\u001b[0;32m   5871\u001b[0m \u001b[39mif\u001b[39;00m \u001b[39m'\u001b[39m\u001b[39mloss_function\u001b[39m\u001b[39m'\u001b[39m \u001b[39min\u001b[39;00m params:\n\u001b[0;32m   5872\u001b[0m     CatBoostRegressor\u001b[39m.\u001b[39m_check_is_compatible_loss(params[\u001b[39m'\u001b[39m\u001b[39mloss_function\u001b[39m\u001b[39m'\u001b[39m])\n\u001b[1;32m-> 5873\u001b[0m \u001b[39mreturn\u001b[39;00m \u001b[39mself\u001b[39;49m\u001b[39m.\u001b[39;49m_fit(X, y, cat_features, text_features, embedding_features, \u001b[39mNone\u001b[39;49;00m, graph, sample_weight, \u001b[39mNone\u001b[39;49;00m, \u001b[39mNone\u001b[39;49;00m, \u001b[39mNone\u001b[39;49;00m, \u001b[39mNone\u001b[39;49;00m, baseline,\n\u001b[0;32m   5874\u001b[0m                  use_best_model, eval_set, verbose, logging_level, plot, plot_file, column_description,\n\u001b[0;32m   5875\u001b[0m                  verbose_eval, metric_period, silent, early_stopping_rounds,\n\u001b[0;32m   5876\u001b[0m                  save_snapshot, snapshot_file, snapshot_interval, init_model, callbacks, log_cout, log_cerr)\n",
      "File \u001b[1;32m~\\AppData\\Local\\Packages\\PythonSoftwareFoundation.Python.3.10_qbz5n2kfra8p0\\LocalCache\\local-packages\\Python310\\site-packages\\catboost\\core.py:2410\u001b[0m, in \u001b[0;36mCatBoost._fit\u001b[1;34m(self, X, y, cat_features, text_features, embedding_features, pairs, graph, sample_weight, group_id, group_weight, subgroup_id, pairs_weight, baseline, use_best_model, eval_set, verbose, logging_level, plot, plot_file, column_description, verbose_eval, metric_period, silent, early_stopping_rounds, save_snapshot, snapshot_file, snapshot_interval, init_model, callbacks, log_cout, log_cerr)\u001b[0m\n\u001b[0;32m   2407\u001b[0m allow_clear_pool \u001b[39m=\u001b[39m train_params[\u001b[39m\"\u001b[39m\u001b[39mallow_clear_pool\u001b[39m\u001b[39m\"\u001b[39m]\n\u001b[0;32m   2409\u001b[0m \u001b[39mwith\u001b[39;00m plot_wrapper(plot, plot_file, \u001b[39m'\u001b[39m\u001b[39mTraining plots\u001b[39m\u001b[39m'\u001b[39m, [_get_train_dir(\u001b[39mself\u001b[39m\u001b[39m.\u001b[39mget_params())]):\n\u001b[1;32m-> 2410\u001b[0m     \u001b[39mself\u001b[39;49m\u001b[39m.\u001b[39;49m_train(\n\u001b[0;32m   2411\u001b[0m         train_pool,\n\u001b[0;32m   2412\u001b[0m         train_params[\u001b[39m\"\u001b[39;49m\u001b[39meval_sets\u001b[39;49m\u001b[39m\"\u001b[39;49m],\n\u001b[0;32m   2413\u001b[0m         params,\n\u001b[0;32m   2414\u001b[0m         allow_clear_pool,\n\u001b[0;32m   2415\u001b[0m         train_params[\u001b[39m\"\u001b[39;49m\u001b[39minit_model\u001b[39;49m\u001b[39m\"\u001b[39;49m]\n\u001b[0;32m   2416\u001b[0m     )\n\u001b[0;32m   2418\u001b[0m \u001b[39m# Have property feature_importance possibly set\u001b[39;00m\n\u001b[0;32m   2419\u001b[0m loss \u001b[39m=\u001b[39m \u001b[39mself\u001b[39m\u001b[39m.\u001b[39m_object\u001b[39m.\u001b[39m_get_loss_function_name()\n",
      "File \u001b[1;32m~\\AppData\\Local\\Packages\\PythonSoftwareFoundation.Python.3.10_qbz5n2kfra8p0\\LocalCache\\local-packages\\Python310\\site-packages\\catboost\\core.py:1790\u001b[0m, in \u001b[0;36m_CatBoostBase._train\u001b[1;34m(self, train_pool, test_pool, params, allow_clear_pool, init_model)\u001b[0m\n\u001b[0;32m   1789\u001b[0m \u001b[39mdef\u001b[39;00m \u001b[39m_train\u001b[39m(\u001b[39mself\u001b[39m, train_pool, test_pool, params, allow_clear_pool, init_model):\n\u001b[1;32m-> 1790\u001b[0m     \u001b[39mself\u001b[39;49m\u001b[39m.\u001b[39;49m_object\u001b[39m.\u001b[39;49m_train(train_pool, test_pool, params, allow_clear_pool, init_model\u001b[39m.\u001b[39;49m_object \u001b[39mif\u001b[39;49;00m init_model \u001b[39melse\u001b[39;49;00m \u001b[39mNone\u001b[39;49;00m)\n\u001b[0;32m   1791\u001b[0m     \u001b[39mself\u001b[39m\u001b[39m.\u001b[39m_set_trained_model_attributes()\n",
      "File \u001b[1;32m_catboost.pyx:5017\u001b[0m, in \u001b[0;36m_catboost._CatBoost._train\u001b[1;34m()\u001b[0m\n",
      "File \u001b[1;32m_catboost.pyx:5066\u001b[0m, in \u001b[0;36m_catboost._CatBoost._train\u001b[1;34m()\u001b[0m\n",
      "\u001b[1;31mKeyboardInterrupt\u001b[0m: "
     ]
    }
   ],
   "source": [
    "def objective(trial):\n",
    "    \n",
    "    # Suggest hyperparameters\n",
    "    params = {\n",
    "        'iterations': trial.suggest_int('iterations', 50, 500),\n",
    "        'learning_rate': trial.suggest_float('learning_rate', 0.01, 0.3, log=True),\n",
    "        'depth': trial.suggest_int('depth', 4, 7),\n",
    "        'l2_leaf_reg': trial.suggest_float('l2_leaf_reg', 1e-5, 100.0, log=True),\n",
    "        'bagging_temperature': trial.suggest_float('bagging_temperature', 0.0, 1.0),\n",
    "        'random_strength': trial.suggest_float('random_strength', 1e-5, 10.0, log=True),\n",
    "        'grow_policy': trial.suggest_categorical('grow_policy', ['SymmetricTree', 'Depthwise', 'Lossguide']),\n",
    "        'eval_metric': 'RMSE',\n",
    "        'verbose': False,\n",
    "        'random_seed': 42,\n",
    "    }\n",
    "    cat_features = ['Resort', 'week_num', 'Price']\n",
    "\n",
    "    cv = KFold(n_splits=5, shuffle=True, random_state=42)\n",
    "    rmse_scores = []\n",
    "    \n",
    "    for train_idx, val_idx in cv.split(X):\n",
    "        X_train, X_val = X.iloc[train_idx], X.iloc[val_idx]  \n",
    "        y_train, y_val = y.iloc[train_idx], y.iloc[val_idx]\n",
    "\n",
    "        train_pool = Pool(X_train, y_train, cat_features=cat_features)\n",
    "        val_pool = Pool(X_val, y_val, cat_features=cat_features)\n",
    "\n",
    "        model = CatBoostRegressor(**params)\n",
    "        model.fit(train_pool, eval_set=val_pool, use_best_model=True, verbose=False)\n",
    "\n",
    "        val_pred = model.predict(X_val)\n",
    "        val_rmse = np.sqrt(((y_val - val_pred) ** 2).mean())\n",
    "        rmse_scores.append(val_rmse)\n",
    "    \n",
    "    rmse_mean = sum(rmse_scores)/len(rmse_scores)\n",
    "    return rmse_mean  \n",
    "\n",
    "study = optuna.create_study(\n",
    "    direction='minimize',\n",
    "    pruner = MedianPruner()\n",
    ")\n",
    "\n",
    "study.optimize(objective, n_trials=50)  "
   ]
  },
  {
   "cell_type": "markdown",
   "metadata": {},
   "source": [
    "# Final Prediction"
   ]
  },
  {
   "cell_type": "code",
   "execution_count": 1565,
   "metadata": {},
   "outputs": [],
   "source": [
    "params = study.best_params\n",
    "model = CatBoostRegressor(**params)\n",
    "test_df = pd.read_csv('test_ratings.csv')\n",
    "test_df = test_df.drop(columns=['Unnamed: 0'], axis=1)\n",
    "test_df[['Resort', 'week_num', 'Price']] = test_df[[ 'Resort', 'week_num', 'Price']].astype('category')"
   ]
  },
  {
   "cell_type": "code",
   "execution_count": 1566,
   "metadata": {},
   "outputs": [
    {
     "data": {
      "text/html": [
       "<div>\n",
       "<style scoped>\n",
       "    .dataframe tbody tr th:only-of-type {\n",
       "        vertical-align: middle;\n",
       "    }\n",
       "\n",
       "    .dataframe tbody tr th {\n",
       "        vertical-align: top;\n",
       "    }\n",
       "\n",
       "    .dataframe thead th {\n",
       "        text-align: right;\n",
       "    }\n",
       "</style>\n",
       "<table border=\"1\" class=\"dataframe\">\n",
       "  <thead>\n",
       "    <tr style=\"text-align: right;\">\n",
       "      <th></th>\n",
       "      <th>week_num</th>\n",
       "      <th>Resort</th>\n",
       "      <th>n_visits</th>\n",
       "      <th>Year</th>\n",
       "      <th>Price</th>\n",
       "    </tr>\n",
       "  </thead>\n",
       "  <tbody>\n",
       "    <tr>\n",
       "      <th>0</th>\n",
       "      <td>1</td>\n",
       "      <td>Mt. Baw Baw</td>\n",
       "      <td>5707</td>\n",
       "      <td>2026</td>\n",
       "      <td>302</td>\n",
       "    </tr>\n",
       "    <tr>\n",
       "      <th>1</th>\n",
       "      <td>2</td>\n",
       "      <td>Mt. Baw Baw</td>\n",
       "      <td>3371</td>\n",
       "      <td>2026</td>\n",
       "      <td>302</td>\n",
       "    </tr>\n",
       "    <tr>\n",
       "      <th>2</th>\n",
       "      <td>3</td>\n",
       "      <td>Mt. Baw Baw</td>\n",
       "      <td>7585</td>\n",
       "      <td>2026</td>\n",
       "      <td>302</td>\n",
       "    </tr>\n",
       "    <tr>\n",
       "      <th>3</th>\n",
       "      <td>4</td>\n",
       "      <td>Mt. Baw Baw</td>\n",
       "      <td>16836</td>\n",
       "      <td>2026</td>\n",
       "      <td>302</td>\n",
       "    </tr>\n",
       "    <tr>\n",
       "      <th>4</th>\n",
       "      <td>5</td>\n",
       "      <td>Mt. Baw Baw</td>\n",
       "      <td>14058</td>\n",
       "      <td>2026</td>\n",
       "      <td>302</td>\n",
       "    </tr>\n",
       "    <tr>\n",
       "      <th>...</th>\n",
       "      <td>...</td>\n",
       "      <td>...</td>\n",
       "      <td>...</td>\n",
       "      <td>...</td>\n",
       "      <td>...</td>\n",
       "    </tr>\n",
       "    <tr>\n",
       "      <th>130</th>\n",
       "      <td>11</td>\n",
       "      <td>Charlotte Pass</td>\n",
       "      <td>3226</td>\n",
       "      <td>2026</td>\n",
       "      <td>927</td>\n",
       "    </tr>\n",
       "    <tr>\n",
       "      <th>131</th>\n",
       "      <td>12</td>\n",
       "      <td>Charlotte Pass</td>\n",
       "      <td>3725</td>\n",
       "      <td>2026</td>\n",
       "      <td>927</td>\n",
       "    </tr>\n",
       "    <tr>\n",
       "      <th>132</th>\n",
       "      <td>13</td>\n",
       "      <td>Charlotte Pass</td>\n",
       "      <td>2989</td>\n",
       "      <td>2026</td>\n",
       "      <td>927</td>\n",
       "    </tr>\n",
       "    <tr>\n",
       "      <th>133</th>\n",
       "      <td>14</td>\n",
       "      <td>Charlotte Pass</td>\n",
       "      <td>2444</td>\n",
       "      <td>2026</td>\n",
       "      <td>927</td>\n",
       "    </tr>\n",
       "    <tr>\n",
       "      <th>134</th>\n",
       "      <td>15</td>\n",
       "      <td>Charlotte Pass</td>\n",
       "      <td>1803</td>\n",
       "      <td>2026</td>\n",
       "      <td>927</td>\n",
       "    </tr>\n",
       "  </tbody>\n",
       "</table>\n",
       "<p>135 rows × 5 columns</p>\n",
       "</div>"
      ],
      "text/plain": [
       "    week_num          Resort  n_visits  Year Price\n",
       "0          1     Mt. Baw Baw      5707  2026   302\n",
       "1          2     Mt. Baw Baw      3371  2026   302\n",
       "2          3     Mt. Baw Baw      7585  2026   302\n",
       "3          4     Mt. Baw Baw     16836  2026   302\n",
       "4          5     Mt. Baw Baw     14058  2026   302\n",
       "..       ...             ...       ...   ...   ...\n",
       "130       11  Charlotte Pass      3226  2026   927\n",
       "131       12  Charlotte Pass      3725  2026   927\n",
       "132       13  Charlotte Pass      2989  2026   927\n",
       "133       14  Charlotte Pass      2444  2026   927\n",
       "134       15  Charlotte Pass      1803  2026   927\n",
       "\n",
       "[135 rows x 5 columns]"
      ]
     },
     "execution_count": 1566,
     "metadata": {},
     "output_type": "execute_result"
    }
   ],
   "source": [
    "test_df"
   ]
  },
  {
   "cell_type": "code",
   "execution_count": 1568,
   "metadata": {},
   "outputs": [],
   "source": [
    "test_df = pd.DataFrame({\n",
    "    X.columns[i] : test_df[X.columns[i]].values for i in range(len(X.columns))\n",
    "})"
   ]
  },
  {
   "cell_type": "code",
   "execution_count": 1569,
   "metadata": {},
   "outputs": [
    {
     "name": "stdout",
     "output_type": "stream",
     "text": [
      "0:\tlearn: 0.9090608\ttotal: 51.1ms\tremaining: 3.17s\n",
      "1:\tlearn: 0.8987536\ttotal: 101ms\tremaining: 3.09s\n",
      "2:\tlearn: 0.8876375\ttotal: 159ms\tremaining: 3.17s\n",
      "3:\tlearn: 0.8800143\ttotal: 205ms\tremaining: 3.02s\n",
      "4:\tlearn: 0.8731433\ttotal: 253ms\tremaining: 2.94s\n",
      "5:\tlearn: 0.8658683\ttotal: 310ms\tremaining: 2.94s\n",
      "6:\tlearn: 0.8603416\ttotal: 369ms\tremaining: 2.95s\n",
      "7:\tlearn: 0.8565783\ttotal: 419ms\tremaining: 2.88s\n",
      "8:\tlearn: 0.8529656\ttotal: 466ms\tremaining: 2.79s\n",
      "9:\tlearn: 0.8484574\ttotal: 514ms\tremaining: 2.73s\n",
      "10:\tlearn: 0.8415502\ttotal: 568ms\tremaining: 2.68s\n",
      "11:\tlearn: 0.8386611\ttotal: 628ms\tremaining: 2.67s\n",
      "12:\tlearn: 0.8366054\ttotal: 683ms\tremaining: 2.63s\n",
      "13:\tlearn: 0.8335502\ttotal: 748ms\tremaining: 2.62s\n",
      "14:\tlearn: 0.8316954\ttotal: 815ms\tremaining: 2.61s\n",
      "15:\tlearn: 0.8304509\ttotal: 875ms\tremaining: 2.57s\n",
      "16:\tlearn: 0.8293142\ttotal: 931ms\tremaining: 2.52s\n",
      "17:\tlearn: 0.8277746\ttotal: 1000ms\tremaining: 2.5s\n",
      "18:\tlearn: 0.8259140\ttotal: 1.07s\tremaining: 2.49s\n",
      "19:\tlearn: 0.8234543\ttotal: 1.26s\tremaining: 2.71s\n",
      "20:\tlearn: 0.8208769\ttotal: 1.33s\tremaining: 2.66s\n",
      "21:\tlearn: 0.8201658\ttotal: 1.4s\tremaining: 2.61s\n",
      "22:\tlearn: 0.8191726\ttotal: 1.45s\tremaining: 2.53s\n",
      "23:\tlearn: 0.8179069\ttotal: 1.5s\tremaining: 2.44s\n",
      "24:\tlearn: 0.8166387\ttotal: 1.56s\tremaining: 2.37s\n",
      "25:\tlearn: 0.8147227\ttotal: 1.63s\tremaining: 2.31s\n",
      "26:\tlearn: 0.8121661\ttotal: 1.69s\tremaining: 2.25s\n",
      "27:\tlearn: 0.8107432\ttotal: 1.75s\tremaining: 2.19s\n",
      "28:\tlearn: 0.8094047\ttotal: 1.81s\tremaining: 2.12s\n",
      "29:\tlearn: 0.8069805\ttotal: 1.86s\tremaining: 2.05s\n",
      "30:\tlearn: 0.8047172\ttotal: 1.91s\tremaining: 1.97s\n",
      "31:\tlearn: 0.8041918\ttotal: 1.96s\tremaining: 1.9s\n",
      "32:\tlearn: 0.8035424\ttotal: 2.03s\tremaining: 1.85s\n",
      "33:\tlearn: 0.8029613\ttotal: 2.12s\tremaining: 1.81s\n",
      "34:\tlearn: 0.8017437\ttotal: 2.21s\tremaining: 1.77s\n",
      "35:\tlearn: 0.8004215\ttotal: 2.29s\tremaining: 1.72s\n",
      "36:\tlearn: 0.7997339\ttotal: 2.46s\tremaining: 1.73s\n",
      "37:\tlearn: 0.7978943\ttotal: 2.55s\tremaining: 1.68s\n",
      "38:\tlearn: 0.7965249\ttotal: 2.89s\tremaining: 1.78s\n",
      "39:\tlearn: 0.7954836\ttotal: 3.16s\tremaining: 1.82s\n",
      "40:\tlearn: 0.7949234\ttotal: 3.21s\tremaining: 1.73s\n",
      "41:\tlearn: 0.7935966\ttotal: 3.28s\tremaining: 1.64s\n",
      "42:\tlearn: 0.7929263\ttotal: 3.33s\tremaining: 1.55s\n",
      "43:\tlearn: 0.7921096\ttotal: 3.38s\tremaining: 1.46s\n",
      "44:\tlearn: 0.7913369\ttotal: 3.43s\tremaining: 1.37s\n",
      "45:\tlearn: 0.7911773\ttotal: 3.48s\tremaining: 1.28s\n",
      "46:\tlearn: 0.7905358\ttotal: 3.53s\tremaining: 1.2s\n",
      "47:\tlearn: 0.7899097\ttotal: 3.58s\tremaining: 1.12s\n",
      "48:\tlearn: 0.7892074\ttotal: 3.63s\tremaining: 1.04s\n",
      "49:\tlearn: 0.7885514\ttotal: 3.69s\tremaining: 960ms\n",
      "50:\tlearn: 0.7861340\ttotal: 3.74s\tremaining: 881ms\n",
      "51:\tlearn: 0.7857519\ttotal: 3.8s\tremaining: 805ms\n",
      "52:\tlearn: 0.7837285\ttotal: 3.88s\tremaining: 732ms\n",
      "53:\tlearn: 0.7832391\ttotal: 3.94s\tremaining: 657ms\n",
      "54:\tlearn: 0.7827780\ttotal: 3.99s\tremaining: 581ms\n",
      "55:\tlearn: 0.7812541\ttotal: 4.04s\tremaining: 506ms\n",
      "56:\tlearn: 0.7798992\ttotal: 4.1s\tremaining: 431ms\n",
      "57:\tlearn: 0.7793744\ttotal: 4.16s\tremaining: 358ms\n",
      "58:\tlearn: 0.7784976\ttotal: 4.21s\tremaining: 285ms\n",
      "59:\tlearn: 0.7776421\ttotal: 4.26s\tremaining: 213ms\n",
      "60:\tlearn: 0.7772943\ttotal: 4.3s\tremaining: 141ms\n",
      "61:\tlearn: 0.7768755\ttotal: 4.35s\tremaining: 70.2ms\n",
      "62:\tlearn: 0.7763746\ttotal: 4.4s\tremaining: 0us\n"
     ]
    }
   ],
   "source": [
    "test_pool = Pool(test_df, cat_features=['Resort', 'week_num', 'Price'])\n",
    "train_pool = Pool(X, y, cat_features=['Resort', 'week_num', 'Price'])\n",
    "model.fit(train_pool)\n",
    "y = model.predict(test_pool)"
   ]
  },
  {
   "cell_type": "code",
   "execution_count": 1571,
   "metadata": {},
   "outputs": [],
   "source": [
    "pd.DataFrame({'Rating': y}).to_csv('predicted_rating.csv')"
   ]
  },
  {
   "cell_type": "code",
   "execution_count": 1572,
   "metadata": {},
   "outputs": [
    {
     "data": {
      "text/html": [
       "<div>\n",
       "<style scoped>\n",
       "    .dataframe tbody tr th:only-of-type {\n",
       "        vertical-align: middle;\n",
       "    }\n",
       "\n",
       "    .dataframe tbody tr th {\n",
       "        vertical-align: top;\n",
       "    }\n",
       "\n",
       "    .dataframe thead th {\n",
       "        text-align: right;\n",
       "    }\n",
       "</style>\n",
       "<table border=\"1\" class=\"dataframe\">\n",
       "  <thead>\n",
       "    <tr style=\"text-align: right;\">\n",
       "      <th></th>\n",
       "      <th>week_num</th>\n",
       "      <th>Resort</th>\n",
       "      <th>n_visits</th>\n",
       "      <th>Year</th>\n",
       "      <th>Price</th>\n",
       "    </tr>\n",
       "  </thead>\n",
       "  <tbody>\n",
       "    <tr>\n",
       "      <th>0</th>\n",
       "      <td>1</td>\n",
       "      <td>Mt. Baw Baw</td>\n",
       "      <td>5707</td>\n",
       "      <td>2026</td>\n",
       "      <td>302</td>\n",
       "    </tr>\n",
       "    <tr>\n",
       "      <th>1</th>\n",
       "      <td>2</td>\n",
       "      <td>Mt. Baw Baw</td>\n",
       "      <td>3371</td>\n",
       "      <td>2026</td>\n",
       "      <td>302</td>\n",
       "    </tr>\n",
       "    <tr>\n",
       "      <th>2</th>\n",
       "      <td>3</td>\n",
       "      <td>Mt. Baw Baw</td>\n",
       "      <td>7585</td>\n",
       "      <td>2026</td>\n",
       "      <td>302</td>\n",
       "    </tr>\n",
       "    <tr>\n",
       "      <th>3</th>\n",
       "      <td>4</td>\n",
       "      <td>Mt. Baw Baw</td>\n",
       "      <td>16836</td>\n",
       "      <td>2026</td>\n",
       "      <td>302</td>\n",
       "    </tr>\n",
       "    <tr>\n",
       "      <th>4</th>\n",
       "      <td>5</td>\n",
       "      <td>Mt. Baw Baw</td>\n",
       "      <td>14058</td>\n",
       "      <td>2026</td>\n",
       "      <td>302</td>\n",
       "    </tr>\n",
       "    <tr>\n",
       "      <th>...</th>\n",
       "      <td>...</td>\n",
       "      <td>...</td>\n",
       "      <td>...</td>\n",
       "      <td>...</td>\n",
       "      <td>...</td>\n",
       "    </tr>\n",
       "    <tr>\n",
       "      <th>130</th>\n",
       "      <td>11</td>\n",
       "      <td>Charlotte Pass</td>\n",
       "      <td>3226</td>\n",
       "      <td>2026</td>\n",
       "      <td>927</td>\n",
       "    </tr>\n",
       "    <tr>\n",
       "      <th>131</th>\n",
       "      <td>12</td>\n",
       "      <td>Charlotte Pass</td>\n",
       "      <td>3725</td>\n",
       "      <td>2026</td>\n",
       "      <td>927</td>\n",
       "    </tr>\n",
       "    <tr>\n",
       "      <th>132</th>\n",
       "      <td>13</td>\n",
       "      <td>Charlotte Pass</td>\n",
       "      <td>2989</td>\n",
       "      <td>2026</td>\n",
       "      <td>927</td>\n",
       "    </tr>\n",
       "    <tr>\n",
       "      <th>133</th>\n",
       "      <td>14</td>\n",
       "      <td>Charlotte Pass</td>\n",
       "      <td>2444</td>\n",
       "      <td>2026</td>\n",
       "      <td>927</td>\n",
       "    </tr>\n",
       "    <tr>\n",
       "      <th>134</th>\n",
       "      <td>15</td>\n",
       "      <td>Charlotte Pass</td>\n",
       "      <td>1803</td>\n",
       "      <td>2026</td>\n",
       "      <td>927</td>\n",
       "    </tr>\n",
       "  </tbody>\n",
       "</table>\n",
       "<p>135 rows × 5 columns</p>\n",
       "</div>"
      ],
      "text/plain": [
       "    week_num          Resort  n_visits  Year Price\n",
       "0          1     Mt. Baw Baw      5707  2026   302\n",
       "1          2     Mt. Baw Baw      3371  2026   302\n",
       "2          3     Mt. Baw Baw      7585  2026   302\n",
       "3          4     Mt. Baw Baw     16836  2026   302\n",
       "4          5     Mt. Baw Baw     14058  2026   302\n",
       "..       ...             ...       ...   ...   ...\n",
       "130       11  Charlotte Pass      3226  2026   927\n",
       "131       12  Charlotte Pass      3725  2026   927\n",
       "132       13  Charlotte Pass      2989  2026   927\n",
       "133       14  Charlotte Pass      2444  2026   927\n",
       "134       15  Charlotte Pass      1803  2026   927\n",
       "\n",
       "[135 rows x 5 columns]"
      ]
     },
     "execution_count": 1572,
     "metadata": {},
     "output_type": "execute_result"
    }
   ],
   "source": [
    "test_df"
   ]
  },
  {
   "cell_type": "code",
   "execution_count": 1575,
   "metadata": {},
   "outputs": [],
   "source": [
    "test_df.to_csv('my_test_dataset.csv')"
   ]
  },
  {
   "cell_type": "code",
   "execution_count": 1577,
   "metadata": {},
   "outputs": [],
   "source": [
    "test_df['Rating'] = y"
   ]
  },
  {
   "cell_type": "code",
   "execution_count": 1579,
   "metadata": {},
   "outputs": [
    {
     "data": {
      "text/html": [
       "<div>\n",
       "<style scoped>\n",
       "    .dataframe tbody tr th:only-of-type {\n",
       "        vertical-align: middle;\n",
       "    }\n",
       "\n",
       "    .dataframe tbody tr th {\n",
       "        vertical-align: top;\n",
       "    }\n",
       "\n",
       "    .dataframe thead th {\n",
       "        text-align: right;\n",
       "    }\n",
       "</style>\n",
       "<table border=\"1\" class=\"dataframe\">\n",
       "  <thead>\n",
       "    <tr style=\"text-align: right;\">\n",
       "      <th></th>\n",
       "      <th>week_num</th>\n",
       "      <th>Resort</th>\n",
       "      <th>n_visits</th>\n",
       "      <th>Year</th>\n",
       "      <th>Price</th>\n",
       "      <th>Rating</th>\n",
       "    </tr>\n",
       "  </thead>\n",
       "  <tbody>\n",
       "    <tr>\n",
       "      <th>0</th>\n",
       "      <td>1</td>\n",
       "      <td>Mt. Baw Baw</td>\n",
       "      <td>5707</td>\n",
       "      <td>2026</td>\n",
       "      <td>302</td>\n",
       "      <td>3.964415</td>\n",
       "    </tr>\n",
       "    <tr>\n",
       "      <th>1</th>\n",
       "      <td>2</td>\n",
       "      <td>Mt. Baw Baw</td>\n",
       "      <td>3371</td>\n",
       "      <td>2026</td>\n",
       "      <td>302</td>\n",
       "      <td>3.979253</td>\n",
       "    </tr>\n",
       "    <tr>\n",
       "      <th>2</th>\n",
       "      <td>3</td>\n",
       "      <td>Mt. Baw Baw</td>\n",
       "      <td>7585</td>\n",
       "      <td>2026</td>\n",
       "      <td>302</td>\n",
       "      <td>3.727099</td>\n",
       "    </tr>\n",
       "    <tr>\n",
       "      <th>3</th>\n",
       "      <td>4</td>\n",
       "      <td>Mt. Baw Baw</td>\n",
       "      <td>16836</td>\n",
       "      <td>2026</td>\n",
       "      <td>302</td>\n",
       "      <td>4.018951</td>\n",
       "    </tr>\n",
       "    <tr>\n",
       "      <th>4</th>\n",
       "      <td>5</td>\n",
       "      <td>Mt. Baw Baw</td>\n",
       "      <td>14058</td>\n",
       "      <td>2026</td>\n",
       "      <td>302</td>\n",
       "      <td>3.949940</td>\n",
       "    </tr>\n",
       "  </tbody>\n",
       "</table>\n",
       "</div>"
      ],
      "text/plain": [
       "  week_num       Resort  n_visits  Year Price    Rating\n",
       "0        1  Mt. Baw Baw      5707  2026   302  3.964415\n",
       "1        2  Mt. Baw Baw      3371  2026   302  3.979253\n",
       "2        3  Mt. Baw Baw      7585  2026   302  3.727099\n",
       "3        4  Mt. Baw Baw     16836  2026   302  4.018951\n",
       "4        5  Mt. Baw Baw     14058  2026   302  3.949940"
      ]
     },
     "execution_count": 1579,
     "metadata": {},
     "output_type": "execute_result"
    }
   ],
   "source": [
    "test_df.head()"
   ]
  },
  {
   "cell_type": "code",
   "execution_count": 1582,
   "metadata": {},
   "outputs": [],
   "source": [
    "ratings = test_df.pivot(index='week_num', columns='Resort', values='Rating')"
   ]
  },
  {
   "cell_type": "code",
   "execution_count": 1583,
   "metadata": {},
   "outputs": [],
   "source": [
    "ratings.to_csv('predicted_rating.csv')"
   ]
  },
  {
   "cell_type": "code",
   "execution_count": 1584,
   "metadata": {},
   "outputs": [
    {
     "data": {
      "text/html": [
       "<div>\n",
       "<style scoped>\n",
       "    .dataframe tbody tr th:only-of-type {\n",
       "        vertical-align: middle;\n",
       "    }\n",
       "\n",
       "    .dataframe tbody tr th {\n",
       "        vertical-align: top;\n",
       "    }\n",
       "\n",
       "    .dataframe thead th {\n",
       "        text-align: right;\n",
       "    }\n",
       "</style>\n",
       "<table border=\"1\" class=\"dataframe\">\n",
       "  <thead>\n",
       "    <tr style=\"text-align: right;\">\n",
       "      <th>Resort</th>\n",
       "      <th>Charlotte Pass</th>\n",
       "      <th>Falls Creek</th>\n",
       "      <th>Mt. Baw Baw</th>\n",
       "      <th>Mt. Buller</th>\n",
       "      <th>Mt. Hotham</th>\n",
       "      <th>Mt. Stirling</th>\n",
       "      <th>Perisher</th>\n",
       "      <th>Selwyn</th>\n",
       "      <th>Thredbo</th>\n",
       "    </tr>\n",
       "    <tr>\n",
       "      <th>week_num</th>\n",
       "      <th></th>\n",
       "      <th></th>\n",
       "      <th></th>\n",
       "      <th></th>\n",
       "      <th></th>\n",
       "      <th></th>\n",
       "      <th></th>\n",
       "      <th></th>\n",
       "      <th></th>\n",
       "    </tr>\n",
       "  </thead>\n",
       "  <tbody>\n",
       "    <tr>\n",
       "      <th>1</th>\n",
       "      <td>4.008976</td>\n",
       "      <td>4.290956</td>\n",
       "      <td>3.964415</td>\n",
       "      <td>4.336619</td>\n",
       "      <td>4.591304</td>\n",
       "      <td>3.567809</td>\n",
       "      <td>4.371869</td>\n",
       "      <td>3.862966</td>\n",
       "      <td>4.491178</td>\n",
       "    </tr>\n",
       "    <tr>\n",
       "      <th>2</th>\n",
       "      <td>4.008976</td>\n",
       "      <td>4.274462</td>\n",
       "      <td>3.979253</td>\n",
       "      <td>4.336619</td>\n",
       "      <td>4.625169</td>\n",
       "      <td>3.648411</td>\n",
       "      <td>4.381793</td>\n",
       "      <td>3.980801</td>\n",
       "      <td>4.389161</td>\n",
       "    </tr>\n",
       "    <tr>\n",
       "      <th>3</th>\n",
       "      <td>3.914512</td>\n",
       "      <td>4.158832</td>\n",
       "      <td>3.727099</td>\n",
       "      <td>4.266982</td>\n",
       "      <td>4.541402</td>\n",
       "      <td>3.249269</td>\n",
       "      <td>4.362742</td>\n",
       "      <td>3.837549</td>\n",
       "      <td>4.459940</td>\n",
       "    </tr>\n",
       "    <tr>\n",
       "      <th>4</th>\n",
       "      <td>3.971782</td>\n",
       "      <td>4.428332</td>\n",
       "      <td>4.018951</td>\n",
       "      <td>4.337821</td>\n",
       "      <td>4.578570</td>\n",
       "      <td>4.203528</td>\n",
       "      <td>4.383768</td>\n",
       "      <td>3.905514</td>\n",
       "      <td>4.439006</td>\n",
       "    </tr>\n",
       "    <tr>\n",
       "      <th>5</th>\n",
       "      <td>3.890395</td>\n",
       "      <td>4.392450</td>\n",
       "      <td>3.949940</td>\n",
       "      <td>4.255858</td>\n",
       "      <td>4.436038</td>\n",
       "      <td>3.543881</td>\n",
       "      <td>4.335076</td>\n",
       "      <td>3.900448</td>\n",
       "      <td>4.396295</td>\n",
       "    </tr>\n",
       "    <tr>\n",
       "      <th>6</th>\n",
       "      <td>3.908830</td>\n",
       "      <td>4.282122</td>\n",
       "      <td>3.948560</td>\n",
       "      <td>4.324507</td>\n",
       "      <td>4.460964</td>\n",
       "      <td>4.241123</td>\n",
       "      <td>4.390238</td>\n",
       "      <td>3.901259</td>\n",
       "      <td>4.445476</td>\n",
       "    </tr>\n",
       "    <tr>\n",
       "      <th>7</th>\n",
       "      <td>3.986192</td>\n",
       "      <td>4.238971</td>\n",
       "      <td>3.990169</td>\n",
       "      <td>4.302033</td>\n",
       "      <td>4.592296</td>\n",
       "      <td>4.100823</td>\n",
       "      <td>4.366956</td>\n",
       "      <td>3.489618</td>\n",
       "      <td>4.428848</td>\n",
       "    </tr>\n",
       "    <tr>\n",
       "      <th>8</th>\n",
       "      <td>3.986192</td>\n",
       "      <td>4.411327</td>\n",
       "      <td>3.990169</td>\n",
       "      <td>4.302033</td>\n",
       "      <td>4.592296</td>\n",
       "      <td>4.031886</td>\n",
       "      <td>4.366956</td>\n",
       "      <td>3.489618</td>\n",
       "      <td>4.428848</td>\n",
       "    </tr>\n",
       "    <tr>\n",
       "      <th>9</th>\n",
       "      <td>3.958467</td>\n",
       "      <td>4.282122</td>\n",
       "      <td>3.998153</td>\n",
       "      <td>4.250987</td>\n",
       "      <td>4.561287</td>\n",
       "      <td>4.137283</td>\n",
       "      <td>4.390238</td>\n",
       "      <td>3.343937</td>\n",
       "      <td>4.445476</td>\n",
       "    </tr>\n",
       "    <tr>\n",
       "      <th>10</th>\n",
       "      <td>3.960583</td>\n",
       "      <td>4.280548</td>\n",
       "      <td>3.775566</td>\n",
       "      <td>4.276408</td>\n",
       "      <td>4.568786</td>\n",
       "      <td>3.773499</td>\n",
       "      <td>4.366956</td>\n",
       "      <td>3.934236</td>\n",
       "      <td>4.428176</td>\n",
       "    </tr>\n",
       "    <tr>\n",
       "      <th>11</th>\n",
       "      <td>4.175018</td>\n",
       "      <td>4.464974</td>\n",
       "      <td>4.167193</td>\n",
       "      <td>4.511605</td>\n",
       "      <td>4.541962</td>\n",
       "      <td>4.188282</td>\n",
       "      <td>4.505402</td>\n",
       "      <td>4.102107</td>\n",
       "      <td>4.547768</td>\n",
       "    </tr>\n",
       "    <tr>\n",
       "      <th>12</th>\n",
       "      <td>4.204857</td>\n",
       "      <td>4.442041</td>\n",
       "      <td>4.027919</td>\n",
       "      <td>4.438086</td>\n",
       "      <td>4.626702</td>\n",
       "      <td>4.213469</td>\n",
       "      <td>4.505402</td>\n",
       "      <td>4.033368</td>\n",
       "      <td>4.547768</td>\n",
       "    </tr>\n",
       "    <tr>\n",
       "      <th>13</th>\n",
       "      <td>4.175018</td>\n",
       "      <td>4.607531</td>\n",
       "      <td>4.095029</td>\n",
       "      <td>4.512574</td>\n",
       "      <td>4.651563</td>\n",
       "      <td>4.243688</td>\n",
       "      <td>4.505402</td>\n",
       "      <td>3.956166</td>\n",
       "      <td>4.451316</td>\n",
       "    </tr>\n",
       "    <tr>\n",
       "      <th>14</th>\n",
       "      <td>4.175018</td>\n",
       "      <td>4.582929</td>\n",
       "      <td>4.149104</td>\n",
       "      <td>4.533193</td>\n",
       "      <td>4.651563</td>\n",
       "      <td>3.932894</td>\n",
       "      <td>4.505402</td>\n",
       "      <td>4.013993</td>\n",
       "      <td>4.591334</td>\n",
       "    </tr>\n",
       "    <tr>\n",
       "      <th>15</th>\n",
       "      <td>4.234888</td>\n",
       "      <td>4.606401</td>\n",
       "      <td>4.148643</td>\n",
       "      <td>4.552653</td>\n",
       "      <td>4.627276</td>\n",
       "      <td>4.062931</td>\n",
       "      <td>4.531843</td>\n",
       "      <td>4.036450</td>\n",
       "      <td>4.631413</td>\n",
       "    </tr>\n",
       "  </tbody>\n",
       "</table>\n",
       "</div>"
      ],
      "text/plain": [
       "Resort    Charlotte Pass  Falls Creek  Mt. Baw Baw  Mt. Buller  Mt. Hotham  \\\n",
       "week_num                                                                     \n",
       "1               4.008976     4.290956     3.964415    4.336619    4.591304   \n",
       "2               4.008976     4.274462     3.979253    4.336619    4.625169   \n",
       "3               3.914512     4.158832     3.727099    4.266982    4.541402   \n",
       "4               3.971782     4.428332     4.018951    4.337821    4.578570   \n",
       "5               3.890395     4.392450     3.949940    4.255858    4.436038   \n",
       "6               3.908830     4.282122     3.948560    4.324507    4.460964   \n",
       "7               3.986192     4.238971     3.990169    4.302033    4.592296   \n",
       "8               3.986192     4.411327     3.990169    4.302033    4.592296   \n",
       "9               3.958467     4.282122     3.998153    4.250987    4.561287   \n",
       "10              3.960583     4.280548     3.775566    4.276408    4.568786   \n",
       "11              4.175018     4.464974     4.167193    4.511605    4.541962   \n",
       "12              4.204857     4.442041     4.027919    4.438086    4.626702   \n",
       "13              4.175018     4.607531     4.095029    4.512574    4.651563   \n",
       "14              4.175018     4.582929     4.149104    4.533193    4.651563   \n",
       "15              4.234888     4.606401     4.148643    4.552653    4.627276   \n",
       "\n",
       "Resort    Mt. Stirling  Perisher    Selwyn   Thredbo  \n",
       "week_num                                              \n",
       "1             3.567809  4.371869  3.862966  4.491178  \n",
       "2             3.648411  4.381793  3.980801  4.389161  \n",
       "3             3.249269  4.362742  3.837549  4.459940  \n",
       "4             4.203528  4.383768  3.905514  4.439006  \n",
       "5             3.543881  4.335076  3.900448  4.396295  \n",
       "6             4.241123  4.390238  3.901259  4.445476  \n",
       "7             4.100823  4.366956  3.489618  4.428848  \n",
       "8             4.031886  4.366956  3.489618  4.428848  \n",
       "9             4.137283  4.390238  3.343937  4.445476  \n",
       "10            3.773499  4.366956  3.934236  4.428176  \n",
       "11            4.188282  4.505402  4.102107  4.547768  \n",
       "12            4.213469  4.505402  4.033368  4.547768  \n",
       "13            4.243688  4.505402  3.956166  4.451316  \n",
       "14            3.932894  4.505402  4.013993  4.591334  \n",
       "15            4.062931  4.531843  4.036450  4.631413  "
      ]
     },
     "execution_count": 1584,
     "metadata": {},
     "output_type": "execute_result"
    }
   ],
   "source": [
    "ratings"
   ]
  },
  {
   "cell_type": "code",
   "execution_count": null,
   "metadata": {},
   "outputs": [],
   "source": []
  }
 ],
 "metadata": {
  "kernelspec": {
   "display_name": "Python 3",
   "language": "python",
   "name": "python3"
  },
  "language_info": {
   "codemirror_mode": {
    "name": "ipython",
    "version": 3
   },
   "file_extension": ".py",
   "mimetype": "text/x-python",
   "name": "python",
   "nbconvert_exporter": "python",
   "pygments_lexer": "ipython3",
   "version": "3.10.11"
  },
  "orig_nbformat": 4
 },
 "nbformat": 4,
 "nbformat_minor": 2
}
