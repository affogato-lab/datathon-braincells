{
 "cells": [
  {
   "cell_type": "markdown",
   "metadata": {},
   "source": [
    "# library imports"
   ]
  },
  {
   "cell_type": "code",
   "execution_count": 551,
   "metadata": {},
   "outputs": [],
   "source": [
    "import pandas as pd \n",
    "import numpy as np\n",
    "import os\n",
    "from datetime import datetime\n",
    "from matplotlib import pyplot as plt\n",
    "from scipy.stats import pearsonr"
   ]
  },
  {
   "cell_type": "markdown",
   "metadata": {},
   "source": [
    "# Load our data"
   ]
  },
  {
   "cell_type": "code",
   "execution_count": 552,
   "metadata": {},
   "outputs": [],
   "source": [
    "ratings = {'Rating': [], 'Date': [], 'Resort': []}\n",
    "for file in os.listdir('comments/'):\n",
    "    filepath = os.path.join('comments/', file)\n",
    "    df = pd.read_csv(filepath)\n",
    "    ratings['Rating'] = ratings['Rating']+df['Rating'].values.tolist()\n",
    "    ratings['Date'] = ratings['Date']+df['Date'].values.tolist()\n",
    "    ratings['Resort'] = ratings['Resort']+[file.split('.')[0] if len(file.split('.'))==2\n",
    "                                           else file.split('.')[0]+'.'+file.split('.')[1] for i in range(df.shape[0])]"
   ]
  },
  {
   "cell_type": "code",
   "execution_count": 553,
   "metadata": {},
   "outputs": [
    {
     "data": {
      "text/html": [
       "<div>\n",
       "<style scoped>\n",
       "    .dataframe tbody tr th:only-of-type {\n",
       "        vertical-align: middle;\n",
       "    }\n",
       "\n",
       "    .dataframe tbody tr th {\n",
       "        vertical-align: top;\n",
       "    }\n",
       "\n",
       "    .dataframe thead th {\n",
       "        text-align: right;\n",
       "    }\n",
       "</style>\n",
       "<table border=\"1\" class=\"dataframe\">\n",
       "  <thead>\n",
       "    <tr style=\"text-align: right;\">\n",
       "      <th></th>\n",
       "      <th>Rating</th>\n",
       "      <th>Date</th>\n",
       "      <th>Resort</th>\n",
       "    </tr>\n",
       "  </thead>\n",
       "  <tbody>\n",
       "    <tr>\n",
       "      <th>0</th>\n",
       "      <td>4</td>\n",
       "      <td>2017-04-22 03:53:09</td>\n",
       "      <td>Charlotte</td>\n",
       "    </tr>\n",
       "    <tr>\n",
       "      <th>1</th>\n",
       "      <td>5</td>\n",
       "      <td>2017-06-11 03:54:51</td>\n",
       "      <td>Charlotte</td>\n",
       "    </tr>\n",
       "    <tr>\n",
       "      <th>2</th>\n",
       "      <td>5</td>\n",
       "      <td>2017-10-18 07:23:51</td>\n",
       "      <td>Charlotte</td>\n",
       "    </tr>\n",
       "    <tr>\n",
       "      <th>3</th>\n",
       "      <td>4</td>\n",
       "      <td>2017-12-04 09:57:32</td>\n",
       "      <td>Charlotte</td>\n",
       "    </tr>\n",
       "    <tr>\n",
       "      <th>4</th>\n",
       "      <td>4</td>\n",
       "      <td>2017-12-08 06:26:21</td>\n",
       "      <td>Charlotte</td>\n",
       "    </tr>\n",
       "  </tbody>\n",
       "</table>\n",
       "</div>"
      ],
      "text/plain": [
       "   Rating                 Date     Resort\n",
       "0       4  2017-04-22 03:53:09  Charlotte\n",
       "1       5  2017-06-11 03:54:51  Charlotte\n",
       "2       5  2017-10-18 07:23:51  Charlotte\n",
       "3       4  2017-12-04 09:57:32  Charlotte\n",
       "4       4  2017-12-08 06:26:21  Charlotte"
      ]
     },
     "execution_count": 553,
     "metadata": {},
     "output_type": "execute_result"
    }
   ],
   "source": [
    "ratings = pd.DataFrame(ratings)\n",
    "ratings.head()"
   ]
  },
  {
   "cell_type": "code",
   "execution_count": 554,
   "metadata": {},
   "outputs": [
    {
     "data": {
      "text/plain": [
       "array(['Charlotte', 'Mt. Buller', 'Mt. Hotham', 'Mt. Stirling',\n",
       "       'Perisher', 'Selwyn', 'Thredbo'], dtype=object)"
      ]
     },
     "execution_count": 554,
     "metadata": {},
     "output_type": "execute_result"
    }
   ],
   "source": [
    "ratings['Resort'].unique()"
   ]
  },
  {
   "cell_type": "code",
   "execution_count": 555,
   "metadata": {},
   "outputs": [],
   "source": [
    "ratings['Resort']=ratings['Resort'].map(lambda x: 'Charlotte Pass' if x=='Charlotte' else x)"
   ]
  },
  {
   "cell_type": "markdown",
   "metadata": {},
   "source": [
    "# Data transformations"
   ]
  },
  {
   "cell_type": "code",
   "execution_count": 556,
   "metadata": {},
   "outputs": [],
   "source": [
    "# These are artificial dates for the ratings\n",
    "# If a rating is made at week1 in a year, it is marked to be on the first date of the week\n",
    "def compute_custom_week(date):\n",
    "    date = datetime.strptime(date,\"%Y-%m-%d %H:%M:%S\")\n",
    "    week1_start = pd.to_datetime(f\"{date.year}-06-09\")\n",
    "    days_diff = (date - week1_start).days\n",
    "\n",
    "    week_num = (days_diff // 7) + 1\n",
    "\n",
    "    return 'week'+str(week_num) if week_num >= 1 and week_num<=15 else None  "
   ]
  },
  {
   "cell_type": "code",
   "execution_count": 557,
   "metadata": {},
   "outputs": [],
   "source": [
    "compute_custom_week(ratings['Date'].values[0])"
   ]
  },
  {
   "cell_type": "code",
   "execution_count": 558,
   "metadata": {},
   "outputs": [],
   "source": [
    "ratings['Week'] = ratings['Date'].apply(lambda x:compute_custom_week(x))"
   ]
  },
  {
   "cell_type": "code",
   "execution_count": 559,
   "metadata": {},
   "outputs": [],
   "source": [
    "ratings = ratings[~ratings['Week'].isnull()]"
   ]
  },
  {
   "cell_type": "code",
   "execution_count": 560,
   "metadata": {},
   "outputs": [
    {
     "data": {
      "text/html": [
       "<div>\n",
       "<style scoped>\n",
       "    .dataframe tbody tr th:only-of-type {\n",
       "        vertical-align: middle;\n",
       "    }\n",
       "\n",
       "    .dataframe tbody tr th {\n",
       "        vertical-align: top;\n",
       "    }\n",
       "\n",
       "    .dataframe thead th {\n",
       "        text-align: right;\n",
       "    }\n",
       "</style>\n",
       "<table border=\"1\" class=\"dataframe\">\n",
       "  <thead>\n",
       "    <tr style=\"text-align: right;\">\n",
       "      <th></th>\n",
       "      <th>Rating</th>\n",
       "      <th>Date</th>\n",
       "      <th>Resort</th>\n",
       "      <th>Week</th>\n",
       "    </tr>\n",
       "  </thead>\n",
       "  <tbody>\n",
       "    <tr>\n",
       "      <th>1</th>\n",
       "      <td>5</td>\n",
       "      <td>2017-06-11 03:54:51</td>\n",
       "      <td>Charlotte Pass</td>\n",
       "      <td>week1</td>\n",
       "    </tr>\n",
       "    <tr>\n",
       "      <th>19</th>\n",
       "      <td>1</td>\n",
       "      <td>2018-08-19 05:10:19</td>\n",
       "      <td>Charlotte Pass</td>\n",
       "      <td>week11</td>\n",
       "    </tr>\n",
       "    <tr>\n",
       "      <th>20</th>\n",
       "      <td>1</td>\n",
       "      <td>2018-08-26 00:55:01</td>\n",
       "      <td>Charlotte Pass</td>\n",
       "      <td>week12</td>\n",
       "    </tr>\n",
       "    <tr>\n",
       "      <th>35</th>\n",
       "      <td>5</td>\n",
       "      <td>2019-06-09 11:49:33</td>\n",
       "      <td>Charlotte Pass</td>\n",
       "      <td>week1</td>\n",
       "    </tr>\n",
       "    <tr>\n",
       "      <th>36</th>\n",
       "      <td>5</td>\n",
       "      <td>2019-06-20 11:50:03</td>\n",
       "      <td>Charlotte Pass</td>\n",
       "      <td>week2</td>\n",
       "    </tr>\n",
       "    <tr>\n",
       "      <th>...</th>\n",
       "      <td>...</td>\n",
       "      <td>...</td>\n",
       "      <td>...</td>\n",
       "      <td>...</td>\n",
       "    </tr>\n",
       "    <tr>\n",
       "      <th>9559</th>\n",
       "      <td>2</td>\n",
       "      <td>2025-08-27 11:34:04</td>\n",
       "      <td>Thredbo</td>\n",
       "      <td>week12</td>\n",
       "    </tr>\n",
       "    <tr>\n",
       "      <th>9560</th>\n",
       "      <td>4</td>\n",
       "      <td>2025-08-27 12:16:21</td>\n",
       "      <td>Thredbo</td>\n",
       "      <td>week12</td>\n",
       "    </tr>\n",
       "    <tr>\n",
       "      <th>9561</th>\n",
       "      <td>5</td>\n",
       "      <td>2025-08-29 04:46:27</td>\n",
       "      <td>Thredbo</td>\n",
       "      <td>week12</td>\n",
       "    </tr>\n",
       "    <tr>\n",
       "      <th>9562</th>\n",
       "      <td>5</td>\n",
       "      <td>2025-08-29 12:18:15</td>\n",
       "      <td>Thredbo</td>\n",
       "      <td>week12</td>\n",
       "    </tr>\n",
       "    <tr>\n",
       "      <th>9563</th>\n",
       "      <td>1</td>\n",
       "      <td>2025-08-30 01:19:21</td>\n",
       "      <td>Thredbo</td>\n",
       "      <td>week12</td>\n",
       "    </tr>\n",
       "  </tbody>\n",
       "</table>\n",
       "<p>7042 rows × 4 columns</p>\n",
       "</div>"
      ],
      "text/plain": [
       "      Rating                 Date          Resort    Week\n",
       "1          5  2017-06-11 03:54:51  Charlotte Pass   week1\n",
       "19         1  2018-08-19 05:10:19  Charlotte Pass  week11\n",
       "20         1  2018-08-26 00:55:01  Charlotte Pass  week12\n",
       "35         5  2019-06-09 11:49:33  Charlotte Pass   week1\n",
       "36         5  2019-06-20 11:50:03  Charlotte Pass   week2\n",
       "...      ...                  ...             ...     ...\n",
       "9559       2  2025-08-27 11:34:04         Thredbo  week12\n",
       "9560       4  2025-08-27 12:16:21         Thredbo  week12\n",
       "9561       5  2025-08-29 04:46:27         Thredbo  week12\n",
       "9562       5  2025-08-29 12:18:15         Thredbo  week12\n",
       "9563       1  2025-08-30 01:19:21         Thredbo  week12\n",
       "\n",
       "[7042 rows x 4 columns]"
      ]
     },
     "execution_count": 560,
     "metadata": {},
     "output_type": "execute_result"
    }
   ],
   "source": [
    "ratings"
   ]
  },
  {
   "cell_type": "code",
   "execution_count": 561,
   "metadata": {},
   "outputs": [],
   "source": [
    "# Make Year as a feature for the ease of data processing later\n",
    "ratings['Year'] = ratings['Date'].apply(lambda x: datetime.strptime(x,\"%Y-%m-%d %H:%M:%S\").year)"
   ]
  },
  {
   "cell_type": "code",
   "execution_count": 562,
   "metadata": {},
   "outputs": [],
   "source": [
    "ratings = ratings.groupby(['Resort','Week', 'Year'])['Rating'].mean()"
   ]
  },
  {
   "cell_type": "code",
   "execution_count": 563,
   "metadata": {},
   "outputs": [],
   "source": [
    "# Generate the dataset\n",
    "ratings.reset_index().to_csv('ratings.csv')"
   ]
  },
  {
   "cell_type": "markdown",
   "metadata": {},
   "source": [
    "# More Analysis on the ratings\n",
    "## Visualization on ratings changement"
   ]
  },
  {
   "cell_type": "code",
   "execution_count": 564,
   "metadata": {},
   "outputs": [],
   "source": [
    "ratings = pd.DataFrame(ratings.reset_index())\n",
    "ratings['week_num'] = ratings['Week'].apply(lambda x: int(x[-1]))\n",
    "ratings = ratings.sort_values(['Resort', 'week_num', 'Year'])"
   ]
  },
  {
   "cell_type": "code",
   "execution_count": 565,
   "metadata": {},
   "outputs": [
    {
     "data": {
      "text/plain": [
       "Resort      0\n",
       "Week        0\n",
       "Year        0\n",
       "Rating      0\n",
       "week_num    0\n",
       "dtype: int64"
      ]
     },
     "execution_count": 565,
     "metadata": {},
     "output_type": "execute_result"
    }
   ],
   "source": [
    "ratings.isnull().sum()"
   ]
  },
  {
   "cell_type": "code",
   "execution_count": 566,
   "metadata": {},
   "outputs": [
    {
     "data": {
      "text/html": [
       "<div>\n",
       "<style scoped>\n",
       "    .dataframe tbody tr th:only-of-type {\n",
       "        vertical-align: middle;\n",
       "    }\n",
       "\n",
       "    .dataframe tbody tr th {\n",
       "        vertical-align: top;\n",
       "    }\n",
       "\n",
       "    .dataframe thead th {\n",
       "        text-align: right;\n",
       "    }\n",
       "</style>\n",
       "<table border=\"1\" class=\"dataframe\">\n",
       "  <thead>\n",
       "    <tr style=\"text-align: right;\">\n",
       "      <th></th>\n",
       "      <th>Resort</th>\n",
       "      <th>Week</th>\n",
       "      <th>Year</th>\n",
       "      <th>Rating</th>\n",
       "      <th>week_num</th>\n",
       "    </tr>\n",
       "  </thead>\n",
       "  <tbody>\n",
       "    <tr>\n",
       "      <th>3</th>\n",
       "      <td>Charlotte Pass</td>\n",
       "      <td>week10</td>\n",
       "      <td>2020</td>\n",
       "      <td>5.000000</td>\n",
       "      <td>0</td>\n",
       "    </tr>\n",
       "    <tr>\n",
       "      <th>4</th>\n",
       "      <td>Charlotte Pass</td>\n",
       "      <td>week10</td>\n",
       "      <td>2021</td>\n",
       "      <td>5.000000</td>\n",
       "      <td>0</td>\n",
       "    </tr>\n",
       "    <tr>\n",
       "      <th>5</th>\n",
       "      <td>Charlotte Pass</td>\n",
       "      <td>week10</td>\n",
       "      <td>2022</td>\n",
       "      <td>3.500000</td>\n",
       "      <td>0</td>\n",
       "    </tr>\n",
       "    <tr>\n",
       "      <th>6</th>\n",
       "      <td>Charlotte Pass</td>\n",
       "      <td>week10</td>\n",
       "      <td>2025</td>\n",
       "      <td>5.000000</td>\n",
       "      <td>0</td>\n",
       "    </tr>\n",
       "    <tr>\n",
       "      <th>0</th>\n",
       "      <td>Charlotte Pass</td>\n",
       "      <td>week1</td>\n",
       "      <td>2017</td>\n",
       "      <td>5.000000</td>\n",
       "      <td>1</td>\n",
       "    </tr>\n",
       "    <tr>\n",
       "      <th>...</th>\n",
       "      <td>...</td>\n",
       "      <td>...</td>\n",
       "      <td>...</td>\n",
       "      <td>...</td>\n",
       "      <td>...</td>\n",
       "    </tr>\n",
       "    <tr>\n",
       "      <th>504</th>\n",
       "      <td>Thredbo</td>\n",
       "      <td>week9</td>\n",
       "      <td>2021</td>\n",
       "      <td>3.800000</td>\n",
       "      <td>9</td>\n",
       "    </tr>\n",
       "    <tr>\n",
       "      <th>505</th>\n",
       "      <td>Thredbo</td>\n",
       "      <td>week9</td>\n",
       "      <td>2022</td>\n",
       "      <td>4.692308</td>\n",
       "      <td>9</td>\n",
       "    </tr>\n",
       "    <tr>\n",
       "      <th>506</th>\n",
       "      <td>Thredbo</td>\n",
       "      <td>week9</td>\n",
       "      <td>2023</td>\n",
       "      <td>4.625000</td>\n",
       "      <td>9</td>\n",
       "    </tr>\n",
       "    <tr>\n",
       "      <th>507</th>\n",
       "      <td>Thredbo</td>\n",
       "      <td>week9</td>\n",
       "      <td>2024</td>\n",
       "      <td>4.600000</td>\n",
       "      <td>9</td>\n",
       "    </tr>\n",
       "    <tr>\n",
       "      <th>508</th>\n",
       "      <td>Thredbo</td>\n",
       "      <td>week9</td>\n",
       "      <td>2025</td>\n",
       "      <td>4.000000</td>\n",
       "      <td>9</td>\n",
       "    </tr>\n",
       "  </tbody>\n",
       "</table>\n",
       "<p>509 rows × 5 columns</p>\n",
       "</div>"
      ],
      "text/plain": [
       "             Resort    Week  Year    Rating  week_num\n",
       "3    Charlotte Pass  week10  2020  5.000000         0\n",
       "4    Charlotte Pass  week10  2021  5.000000         0\n",
       "5    Charlotte Pass  week10  2022  3.500000         0\n",
       "6    Charlotte Pass  week10  2025  5.000000         0\n",
       "0    Charlotte Pass   week1  2017  5.000000         1\n",
       "..              ...     ...   ...       ...       ...\n",
       "504         Thredbo   week9  2021  3.800000         9\n",
       "505         Thredbo   week9  2022  4.692308         9\n",
       "506         Thredbo   week9  2023  4.625000         9\n",
       "507         Thredbo   week9  2024  4.600000         9\n",
       "508         Thredbo   week9  2025  4.000000         9\n",
       "\n",
       "[509 rows x 5 columns]"
      ]
     },
     "execution_count": 566,
     "metadata": {},
     "output_type": "execute_result"
    }
   ],
   "source": [
    "ratings"
   ]
  },
  {
   "cell_type": "code",
   "execution_count": 567,
   "metadata": {},
   "outputs": [
    {
     "data": {
      "text/plain": [
       "Resort       object\n",
       "Week         object\n",
       "Year          int64\n",
       "Rating      float64\n",
       "week_num      int64\n",
       "dtype: object"
      ]
     },
     "execution_count": 567,
     "metadata": {},
     "output_type": "execute_result"
    }
   ],
   "source": [
    "ratings.dtypes"
   ]
  },
  {
   "cell_type": "code",
   "execution_count": 568,
   "metadata": {},
   "outputs": [],
   "source": [
    "ratings = ratings[ratings['Year']>2013]"
   ]
  },
  {
   "cell_type": "code",
   "execution_count": 569,
   "metadata": {},
   "outputs": [
    {
     "data": {
      "text/html": [
       "<div>\n",
       "<style scoped>\n",
       "    .dataframe tbody tr th:only-of-type {\n",
       "        vertical-align: middle;\n",
       "    }\n",
       "\n",
       "    .dataframe tbody tr th {\n",
       "        vertical-align: top;\n",
       "    }\n",
       "\n",
       "    .dataframe thead th {\n",
       "        text-align: right;\n",
       "    }\n",
       "</style>\n",
       "<table border=\"1\" class=\"dataframe\">\n",
       "  <thead>\n",
       "    <tr style=\"text-align: right;\">\n",
       "      <th></th>\n",
       "      <th>Resort</th>\n",
       "      <th>Week</th>\n",
       "      <th>Year</th>\n",
       "      <th>Rating</th>\n",
       "      <th>week_num</th>\n",
       "    </tr>\n",
       "  </thead>\n",
       "  <tbody>\n",
       "    <tr>\n",
       "      <th>3</th>\n",
       "      <td>Charlotte Pass</td>\n",
       "      <td>week10</td>\n",
       "      <td>2020</td>\n",
       "      <td>5.0</td>\n",
       "      <td>0</td>\n",
       "    </tr>\n",
       "    <tr>\n",
       "      <th>4</th>\n",
       "      <td>Charlotte Pass</td>\n",
       "      <td>week10</td>\n",
       "      <td>2021</td>\n",
       "      <td>5.0</td>\n",
       "      <td>0</td>\n",
       "    </tr>\n",
       "    <tr>\n",
       "      <th>5</th>\n",
       "      <td>Charlotte Pass</td>\n",
       "      <td>week10</td>\n",
       "      <td>2022</td>\n",
       "      <td>3.5</td>\n",
       "      <td>0</td>\n",
       "    </tr>\n",
       "    <tr>\n",
       "      <th>6</th>\n",
       "      <td>Charlotte Pass</td>\n",
       "      <td>week10</td>\n",
       "      <td>2025</td>\n",
       "      <td>5.0</td>\n",
       "      <td>0</td>\n",
       "    </tr>\n",
       "    <tr>\n",
       "      <th>0</th>\n",
       "      <td>Charlotte Pass</td>\n",
       "      <td>week1</td>\n",
       "      <td>2017</td>\n",
       "      <td>5.0</td>\n",
       "      <td>1</td>\n",
       "    </tr>\n",
       "  </tbody>\n",
       "</table>\n",
       "</div>"
      ],
      "text/plain": [
       "           Resort    Week  Year  Rating  week_num\n",
       "3  Charlotte Pass  week10  2020     5.0         0\n",
       "4  Charlotte Pass  week10  2021     5.0         0\n",
       "5  Charlotte Pass  week10  2022     3.5         0\n",
       "6  Charlotte Pass  week10  2025     5.0         0\n",
       "0  Charlotte Pass   week1  2017     5.0         1"
      ]
     },
     "execution_count": 569,
     "metadata": {},
     "output_type": "execute_result"
    }
   ],
   "source": [
    "ratings.head()"
   ]
  },
  {
   "cell_type": "code",
   "execution_count": 570,
   "metadata": {},
   "outputs": [
    {
     "name": "stderr",
     "output_type": "stream",
     "text": [
      "C:\\Users\\Huawei\\AppData\\Local\\Temp\\ipykernel_74076\\2824894695.py:1: SettingWithCopyWarning: \n",
      "A value is trying to be set on a copy of a slice from a DataFrame.\n",
      "Try using .loc[row_indexer,col_indexer] = value instead\n",
      "\n",
      "See the caveats in the documentation: https://pandas.pydata.org/pandas-docs/stable/user_guide/indexing.html#returning-a-view-versus-a-copy\n",
      "  ratings['Date'] = pd.to_datetime(ratings['Year'].astype(str) + '-06-09') + pd.to_timedelta((ratings['week_num']) * 7, unit='D')\n"
     ]
    }
   ],
   "source": [
    "ratings['Date'] = pd.to_datetime(ratings['Year'].astype(str) + '-06-09') + pd.to_timedelta((ratings['week_num']) * 7, unit='D')"
   ]
  },
  {
   "cell_type": "code",
   "execution_count": 571,
   "metadata": {},
   "outputs": [
    {
     "data": {
      "text/html": [
       "<div>\n",
       "<style scoped>\n",
       "    .dataframe tbody tr th:only-of-type {\n",
       "        vertical-align: middle;\n",
       "    }\n",
       "\n",
       "    .dataframe tbody tr th {\n",
       "        vertical-align: top;\n",
       "    }\n",
       "\n",
       "    .dataframe thead th {\n",
       "        text-align: right;\n",
       "    }\n",
       "</style>\n",
       "<table border=\"1\" class=\"dataframe\">\n",
       "  <thead>\n",
       "    <tr style=\"text-align: right;\">\n",
       "      <th></th>\n",
       "      <th>Resort</th>\n",
       "      <th>Week</th>\n",
       "      <th>Year</th>\n",
       "      <th>Rating</th>\n",
       "      <th>week_num</th>\n",
       "      <th>Date</th>\n",
       "    </tr>\n",
       "  </thead>\n",
       "  <tbody>\n",
       "    <tr>\n",
       "      <th>504</th>\n",
       "      <td>Thredbo</td>\n",
       "      <td>week9</td>\n",
       "      <td>2021</td>\n",
       "      <td>3.800000</td>\n",
       "      <td>9</td>\n",
       "      <td>2021-08-11</td>\n",
       "    </tr>\n",
       "    <tr>\n",
       "      <th>505</th>\n",
       "      <td>Thredbo</td>\n",
       "      <td>week9</td>\n",
       "      <td>2022</td>\n",
       "      <td>4.692308</td>\n",
       "      <td>9</td>\n",
       "      <td>2022-08-11</td>\n",
       "    </tr>\n",
       "    <tr>\n",
       "      <th>506</th>\n",
       "      <td>Thredbo</td>\n",
       "      <td>week9</td>\n",
       "      <td>2023</td>\n",
       "      <td>4.625000</td>\n",
       "      <td>9</td>\n",
       "      <td>2023-08-11</td>\n",
       "    </tr>\n",
       "    <tr>\n",
       "      <th>507</th>\n",
       "      <td>Thredbo</td>\n",
       "      <td>week9</td>\n",
       "      <td>2024</td>\n",
       "      <td>4.600000</td>\n",
       "      <td>9</td>\n",
       "      <td>2024-08-11</td>\n",
       "    </tr>\n",
       "    <tr>\n",
       "      <th>508</th>\n",
       "      <td>Thredbo</td>\n",
       "      <td>week9</td>\n",
       "      <td>2025</td>\n",
       "      <td>4.000000</td>\n",
       "      <td>9</td>\n",
       "      <td>2025-08-11</td>\n",
       "    </tr>\n",
       "  </tbody>\n",
       "</table>\n",
       "</div>"
      ],
      "text/plain": [
       "      Resort   Week  Year    Rating  week_num       Date\n",
       "504  Thredbo  week9  2021  3.800000         9 2021-08-11\n",
       "505  Thredbo  week9  2022  4.692308         9 2022-08-11\n",
       "506  Thredbo  week9  2023  4.625000         9 2023-08-11\n",
       "507  Thredbo  week9  2024  4.600000         9 2024-08-11\n",
       "508  Thredbo  week9  2025  4.000000         9 2025-08-11"
      ]
     },
     "execution_count": 571,
     "metadata": {},
     "output_type": "execute_result"
    }
   ],
   "source": [
    "ratings.tail()"
   ]
  },
  {
   "cell_type": "code",
   "execution_count": 572,
   "metadata": {},
   "outputs": [
    {
     "data": {
      "text/plain": [
       "<matplotlib.legend.Legend at 0x247eb1e4c40>"
      ]
     },
     "execution_count": 572,
     "metadata": {},
     "output_type": "execute_result"
    },
    {
     "data": {
      "image/png": "[encoded data removed]",
      "text/plain": [
       "<Figure size 640x480 with 1 Axes>"
      ]
     },
     "metadata": {},
     "output_type": "display_data"
    }
   ],
   "source": [
    "fig, ax= plt.subplots(1,1)\n",
    "for x in ratings.Resort.unique():\n",
    "    data = ratings.loc[ratings['Resort']==x]\n",
    "    data = data.sort_values('Date')\n",
    "    data = data.sort_values(['week_num', 'Year'])\n",
    "    ax.scatter(data['Date'], data['Rating'], label = x)\n",
    "plt.xticks(rotation=90)\n",
    "plt.legend()"
   ]
  },
  {
   "cell_type": "markdown",
   "metadata": {},
   "source": [
    "## Aggregate ratings with visitation dataset"
   ]
  },
  {
   "cell_type": "code",
   "execution_count": 573,
   "metadata": {},
   "outputs": [],
   "source": [
    "visit_aus = pd.read_excel('2025 Allianz Datathon Dataset.xlsx', sheet_name='Visitation Data')"
   ]
  },
  {
   "cell_type": "code",
   "execution_count": 574,
   "metadata": {},
   "outputs": [],
   "source": [
    "visit_aus = visit_aus.melt(value_vars=['Mt. Baw Baw', 'Mt. Stirling', 'Mt. Hotham', 'Falls Creek', \t'Mt. Buller',  'Selwyn',\n",
    "\t                       'Thredbo', 'Perisher',  'Charlotte Pass'], id_vars=['Year', 'Week'])"
   ]
  },
  {
   "cell_type": "code",
   "execution_count": 575,
   "metadata": {},
   "outputs": [],
   "source": [
    "visit_aus_mu = visit_aus.groupby(['variable', 'Week', 'Year']).value.mean().reset_index()"
   ]
  },
  {
   "cell_type": "code",
   "execution_count": 576,
   "metadata": {},
   "outputs": [
    {
     "data": {
      "text/html": [
       "<div>\n",
       "<style scoped>\n",
       "    .dataframe tbody tr th:only-of-type {\n",
       "        vertical-align: middle;\n",
       "    }\n",
       "\n",
       "    .dataframe tbody tr th {\n",
       "        vertical-align: top;\n",
       "    }\n",
       "\n",
       "    .dataframe thead th {\n",
       "        text-align: right;\n",
       "    }\n",
       "</style>\n",
       "<table border=\"1\" class=\"dataframe\">\n",
       "  <thead>\n",
       "    <tr style=\"text-align: right;\">\n",
       "      <th></th>\n",
       "      <th>variable</th>\n",
       "      <th>Week</th>\n",
       "      <th>Year</th>\n",
       "      <th>value</th>\n",
       "    </tr>\n",
       "  </thead>\n",
       "  <tbody>\n",
       "    <tr>\n",
       "      <th>22</th>\n",
       "      <td>Charlotte Pass</td>\n",
       "      <td>3</td>\n",
       "      <td>2014</td>\n",
       "      <td>230.0</td>\n",
       "    </tr>\n",
       "    <tr>\n",
       "      <th>23</th>\n",
       "      <td>Charlotte Pass</td>\n",
       "      <td>3</td>\n",
       "      <td>2015</td>\n",
       "      <td>501.0</td>\n",
       "    </tr>\n",
       "    <tr>\n",
       "      <th>24</th>\n",
       "      <td>Charlotte Pass</td>\n",
       "      <td>3</td>\n",
       "      <td>2016</td>\n",
       "      <td>1096.0</td>\n",
       "    </tr>\n",
       "    <tr>\n",
       "      <th>25</th>\n",
       "      <td>Charlotte Pass</td>\n",
       "      <td>3</td>\n",
       "      <td>2017</td>\n",
       "      <td>842.0</td>\n",
       "    </tr>\n",
       "    <tr>\n",
       "      <th>26</th>\n",
       "      <td>Charlotte Pass</td>\n",
       "      <td>3</td>\n",
       "      <td>2018</td>\n",
       "      <td>1264.0</td>\n",
       "    </tr>\n",
       "    <tr>\n",
       "      <th>27</th>\n",
       "      <td>Charlotte Pass</td>\n",
       "      <td>3</td>\n",
       "      <td>2019</td>\n",
       "      <td>992.0</td>\n",
       "    </tr>\n",
       "    <tr>\n",
       "      <th>28</th>\n",
       "      <td>Charlotte Pass</td>\n",
       "      <td>3</td>\n",
       "      <td>2020</td>\n",
       "      <td>133.0</td>\n",
       "    </tr>\n",
       "    <tr>\n",
       "      <th>29</th>\n",
       "      <td>Charlotte Pass</td>\n",
       "      <td>3</td>\n",
       "      <td>2021</td>\n",
       "      <td>1307.0</td>\n",
       "    </tr>\n",
       "    <tr>\n",
       "      <th>30</th>\n",
       "      <td>Charlotte Pass</td>\n",
       "      <td>3</td>\n",
       "      <td>2022</td>\n",
       "      <td>2385.0</td>\n",
       "    </tr>\n",
       "    <tr>\n",
       "      <th>31</th>\n",
       "      <td>Charlotte Pass</td>\n",
       "      <td>3</td>\n",
       "      <td>2023</td>\n",
       "      <td>1607.0</td>\n",
       "    </tr>\n",
       "    <tr>\n",
       "      <th>32</th>\n",
       "      <td>Charlotte Pass</td>\n",
       "      <td>3</td>\n",
       "      <td>2024</td>\n",
       "      <td>677.0</td>\n",
       "    </tr>\n",
       "  </tbody>\n",
       "</table>\n",
       "</div>"
      ],
      "text/plain": [
       "          variable  Week  Year   value\n",
       "22  Charlotte Pass     3  2014   230.0\n",
       "23  Charlotte Pass     3  2015   501.0\n",
       "24  Charlotte Pass     3  2016  1096.0\n",
       "25  Charlotte Pass     3  2017   842.0\n",
       "26  Charlotte Pass     3  2018  1264.0\n",
       "27  Charlotte Pass     3  2019   992.0\n",
       "28  Charlotte Pass     3  2020   133.0\n",
       "29  Charlotte Pass     3  2021  1307.0\n",
       "30  Charlotte Pass     3  2022  2385.0\n",
       "31  Charlotte Pass     3  2023  1607.0\n",
       "32  Charlotte Pass     3  2024   677.0"
      ]
     },
     "execution_count": 576,
     "metadata": {},
     "output_type": "execute_result"
    }
   ],
   "source": [
    "visit_aus_mu[(visit_aus_mu['variable']=='Charlotte Pass') & (visit_aus_mu['Week']==3)]"
   ]
  },
  {
   "cell_type": "code",
   "execution_count": 577,
   "metadata": {},
   "outputs": [
    {
     "name": "stderr",
     "output_type": "stream",
     "text": [
      "C:\\Users\\Huawei\\AppData\\Local\\Temp\\ipykernel_74076\\2632842855.py:1: SettingWithCopyWarning: \n",
      "A value is trying to be set on a copy of a slice from a DataFrame.\n",
      "Try using .loc[row_indexer,col_indexer] = value instead\n",
      "\n",
      "See the caveats in the documentation: https://pandas.pydata.org/pandas-docs/stable/user_guide/indexing.html#returning-a-view-versus-a-copy\n",
      "  ratings['week_num'] = ratings['week_num']+1\n"
     ]
    }
   ],
   "source": [
    "ratings['week_num'] = ratings['week_num']+1\n",
    "combined_visit_ratings = visit_aus_mu.merge(ratings, left_on=['variable', 'Week', 'Year'], right_on=['Resort', 'week_num', 'Year'])"
   ]
  },
  {
   "cell_type": "code",
   "execution_count": 578,
   "metadata": {},
   "outputs": [
    {
     "name": "stdout",
     "output_type": "stream",
     "text": [
      "Pearson Correlation on n_visits and Ratings at resort Charlotte Pass has a stats of 0.015 with pval of 0.944\n",
      "Pearson Correlation on n_visits and Ratings at resort Mt. Buller has a stats of 0.055 with pval of 0.812\n",
      "Pearson Correlation on n_visits and Ratings at resort Mt. Hotham has a stats of 0.001 with pval of 0.993\n",
      "Pearson Correlation on n_visits and Ratings at resort Mt. Stirling has a stats of -0.097 with pval of 0.731\n",
      "Pearson Correlation on n_visits and Ratings at resort Perisher has a stats of 0.122 with pval of 0.228\n",
      "Pearson Correlation on n_visits and Ratings at resort Selwyn has a stats of -0.18 with pval of 0.094\n",
      "Pearson Correlation on n_visits and Ratings at resort Thredbo has a stats of -0.077 with pval of 0.475\n"
     ]
    }
   ],
   "source": [
    "for x in combined_visit_ratings['Resort'].unique():\n",
    "    data = combined_visit_ratings[combined_visit_ratings['Resort']==x]\n",
    "    data = data.sort_values(by=['Date'])\n",
    "    result = pearsonr(data['value'], data['Rating'])\n",
    "    print(f'Pearson Correlation on n_visits and Ratings at resort {x} has a stats of {round(result.statistic, 3)} with pval of {round(result.pvalue, 3)}')"
   ]
  },
  {
   "cell_type": "markdown",
   "metadata": {},
   "source": [
    "# Web Crawling on Skii information dataset"
   ]
  },
  {
   "cell_type": "code",
   "execution_count": null,
   "metadata": {},
   "outputs": [],
   "source": []
  }
 ],
 "metadata": {
  "kernelspec": {
   "display_name": "Python 3",
   "language": "python",
   "name": "python3"
  },
  "language_info": {
   "codemirror_mode": {
    "name": "ipython",
    "version": 3
   },
   "file_extension": ".py",
   "mimetype": "text/x-python",
   "name": "python",
   "nbconvert_exporter": "python",
   "pygments_lexer": "ipython3",
   "version": "3.10.11"
  },
  "orig_nbformat": 4
 },
 "nbformat": 4,
 "nbformat_minor": 2
}
