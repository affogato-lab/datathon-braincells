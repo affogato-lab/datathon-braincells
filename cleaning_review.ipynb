{
 "cells": [
  {
   "cell_type": "markdown",
   "metadata": {},
   "source": [
    "# library imports"
   ]
  },
  {
   "cell_type": "code",
   "execution_count": 192,
   "metadata": {},
   "outputs": [],
   "source": [
    "import pandas as pd \n",
    "import numpy as np\n",
    "import os\n",
    "from datetime import datetime\n"
   ]
  },
  {
   "cell_type": "code",
   "execution_count": 193,
   "metadata": {},
   "outputs": [],
   "source": [
    "ratings = {'Rating': [], 'Date': [], 'Resort': []}\n",
    "for file in os.listdir('comments/'):\n",
    "    filepath = os.path.join('comments/', file)\n",
    "    df = pd.read_csv(filepath)\n",
    "    ratings['Rating'] = ratings['Rating']+df['Rating'].values.tolist()\n",
    "    ratings['Date'] = ratings['Date']+df['Date'].values.tolist()\n",
    "    ratings['Resort'] = ratings['Resort']+[file.split('.')[0] for i in range(df.shape[0])]"
   ]
  },
  {
   "cell_type": "code",
   "execution_count": 194,
   "metadata": {},
   "outputs": [
    {
     "data": {
      "text/html": [
       "<div>\n",
       "<style scoped>\n",
       "    .dataframe tbody tr th:only-of-type {\n",
       "        vertical-align: middle;\n",
       "    }\n",
       "\n",
       "    .dataframe tbody tr th {\n",
       "        vertical-align: top;\n",
       "    }\n",
       "\n",
       "    .dataframe thead th {\n",
       "        text-align: right;\n",
       "    }\n",
       "</style>\n",
       "<table border=\"1\" class=\"dataframe\">\n",
       "  <thead>\n",
       "    <tr style=\"text-align: right;\">\n",
       "      <th></th>\n",
       "      <th>Rating</th>\n",
       "      <th>Date</th>\n",
       "      <th>Resort</th>\n",
       "    </tr>\n",
       "  </thead>\n",
       "  <tbody>\n",
       "    <tr>\n",
       "      <th>0</th>\n",
       "      <td>4</td>\n",
       "      <td>2017-04-22 03:53:09</td>\n",
       "      <td>Charlotte</td>\n",
       "    </tr>\n",
       "    <tr>\n",
       "      <th>1</th>\n",
       "      <td>5</td>\n",
       "      <td>2017-06-11 03:54:51</td>\n",
       "      <td>Charlotte</td>\n",
       "    </tr>\n",
       "    <tr>\n",
       "      <th>2</th>\n",
       "      <td>5</td>\n",
       "      <td>2017-10-18 07:23:51</td>\n",
       "      <td>Charlotte</td>\n",
       "    </tr>\n",
       "    <tr>\n",
       "      <th>3</th>\n",
       "      <td>4</td>\n",
       "      <td>2017-12-04 09:57:32</td>\n",
       "      <td>Charlotte</td>\n",
       "    </tr>\n",
       "    <tr>\n",
       "      <th>4</th>\n",
       "      <td>4</td>\n",
       "      <td>2017-12-08 06:26:21</td>\n",
       "      <td>Charlotte</td>\n",
       "    </tr>\n",
       "  </tbody>\n",
       "</table>\n",
       "</div>"
      ],
      "text/plain": [
       "   Rating                 Date     Resort\n",
       "0       4  2017-04-22 03:53:09  Charlotte\n",
       "1       5  2017-06-11 03:54:51  Charlotte\n",
       "2       5  2017-10-18 07:23:51  Charlotte\n",
       "3       4  2017-12-04 09:57:32  Charlotte\n",
       "4       4  2017-12-08 06:26:21  Charlotte"
      ]
     },
     "execution_count": 194,
     "metadata": {},
     "output_type": "execute_result"
    }
   ],
   "source": [
    "ratings = pd.DataFrame(ratings)\n",
    "ratings.head()"
   ]
  },
  {
   "cell_type": "code",
   "execution_count": 195,
   "metadata": {},
   "outputs": [],
   "source": [
    "ratings['Resort']=ratings['Resort'].map(lambda x: 'Charlotte Pass' if x=='Charlotte' else x)"
   ]
  },
  {
   "cell_type": "code",
   "execution_count": 196,
   "metadata": {},
   "outputs": [],
   "source": [
    "def compute_custom_week(date):\n",
    "    date = datetime.strptime(date,\"%Y-%m-%d %H:%M:%S\")\n",
    "    week1_start = pd.to_datetime(f\"{date.year}-06-09\")\n",
    "    days_diff = (date - week1_start).days\n",
    "\n",
    "    week_num = (days_diff // 7) + 1\n",
    "\n",
    "    return 'week'+str(week_num) if week_num >= 1 and week_num<=15 else None  "
   ]
  },
  {
   "cell_type": "code",
   "execution_count": 197,
   "metadata": {},
   "outputs": [],
   "source": [
    "compute_custom_week(ratings['Date'].values[0])"
   ]
  },
  {
   "cell_type": "code",
   "execution_count": 198,
   "metadata": {},
   "outputs": [],
   "source": [
    "ratings['Week'] = ratings['Date'].apply(lambda x:compute_custom_week(x))"
   ]
  },
  {
   "cell_type": "code",
   "execution_count": 199,
   "metadata": {},
   "outputs": [],
   "source": [
    "ratings = ratings[~ratings['Week'].isnull()]"
   ]
  },
  {
   "cell_type": "code",
   "execution_count": 200,
   "metadata": {},
   "outputs": [
    {
     "data": {
      "text/html": [
       "<div>\n",
       "<style scoped>\n",
       "    .dataframe tbody tr th:only-of-type {\n",
       "        vertical-align: middle;\n",
       "    }\n",
       "\n",
       "    .dataframe tbody tr th {\n",
       "        vertical-align: top;\n",
       "    }\n",
       "\n",
       "    .dataframe thead th {\n",
       "        text-align: right;\n",
       "    }\n",
       "</style>\n",
       "<table border=\"1\" class=\"dataframe\">\n",
       "  <thead>\n",
       "    <tr style=\"text-align: right;\">\n",
       "      <th></th>\n",
       "      <th>Rating</th>\n",
       "      <th>Date</th>\n",
       "      <th>Resort</th>\n",
       "      <th>Week</th>\n",
       "    </tr>\n",
       "  </thead>\n",
       "  <tbody>\n",
       "    <tr>\n",
       "      <th>1</th>\n",
       "      <td>5</td>\n",
       "      <td>2017-06-11 03:54:51</td>\n",
       "      <td>Charlotte Pass</td>\n",
       "      <td>week1</td>\n",
       "    </tr>\n",
       "    <tr>\n",
       "      <th>19</th>\n",
       "      <td>1</td>\n",
       "      <td>2018-08-19 05:10:19</td>\n",
       "      <td>Charlotte Pass</td>\n",
       "      <td>week11</td>\n",
       "    </tr>\n",
       "    <tr>\n",
       "      <th>20</th>\n",
       "      <td>1</td>\n",
       "      <td>2018-08-26 00:55:01</td>\n",
       "      <td>Charlotte Pass</td>\n",
       "      <td>week12</td>\n",
       "    </tr>\n",
       "    <tr>\n",
       "      <th>35</th>\n",
       "      <td>5</td>\n",
       "      <td>2019-06-09 11:49:33</td>\n",
       "      <td>Charlotte Pass</td>\n",
       "      <td>week1</td>\n",
       "    </tr>\n",
       "    <tr>\n",
       "      <th>36</th>\n",
       "      <td>5</td>\n",
       "      <td>2019-06-20 11:50:03</td>\n",
       "      <td>Charlotte Pass</td>\n",
       "      <td>week2</td>\n",
       "    </tr>\n",
       "    <tr>\n",
       "      <th>...</th>\n",
       "      <td>...</td>\n",
       "      <td>...</td>\n",
       "      <td>...</td>\n",
       "      <td>...</td>\n",
       "    </tr>\n",
       "    <tr>\n",
       "      <th>9559</th>\n",
       "      <td>2</td>\n",
       "      <td>2025-08-27 11:34:04</td>\n",
       "      <td>Thredbo</td>\n",
       "      <td>week12</td>\n",
       "    </tr>\n",
       "    <tr>\n",
       "      <th>9560</th>\n",
       "      <td>4</td>\n",
       "      <td>2025-08-27 12:16:21</td>\n",
       "      <td>Thredbo</td>\n",
       "      <td>week12</td>\n",
       "    </tr>\n",
       "    <tr>\n",
       "      <th>9561</th>\n",
       "      <td>5</td>\n",
       "      <td>2025-08-29 04:46:27</td>\n",
       "      <td>Thredbo</td>\n",
       "      <td>week12</td>\n",
       "    </tr>\n",
       "    <tr>\n",
       "      <th>9562</th>\n",
       "      <td>5</td>\n",
       "      <td>2025-08-29 12:18:15</td>\n",
       "      <td>Thredbo</td>\n",
       "      <td>week12</td>\n",
       "    </tr>\n",
       "    <tr>\n",
       "      <th>9563</th>\n",
       "      <td>1</td>\n",
       "      <td>2025-08-30 01:19:21</td>\n",
       "      <td>Thredbo</td>\n",
       "      <td>week12</td>\n",
       "    </tr>\n",
       "  </tbody>\n",
       "</table>\n",
       "<p>7042 rows × 4 columns</p>\n",
       "</div>"
      ],
      "text/plain": [
       "      Rating                 Date          Resort    Week\n",
       "1          5  2017-06-11 03:54:51  Charlotte Pass   week1\n",
       "19         1  2018-08-19 05:10:19  Charlotte Pass  week11\n",
       "20         1  2018-08-26 00:55:01  Charlotte Pass  week12\n",
       "35         5  2019-06-09 11:49:33  Charlotte Pass   week1\n",
       "36         5  2019-06-20 11:50:03  Charlotte Pass   week2\n",
       "...      ...                  ...             ...     ...\n",
       "9559       2  2025-08-27 11:34:04         Thredbo  week12\n",
       "9560       4  2025-08-27 12:16:21         Thredbo  week12\n",
       "9561       5  2025-08-29 04:46:27         Thredbo  week12\n",
       "9562       5  2025-08-29 12:18:15         Thredbo  week12\n",
       "9563       1  2025-08-30 01:19:21         Thredbo  week12\n",
       "\n",
       "[7042 rows x 4 columns]"
      ]
     },
     "execution_count": 200,
     "metadata": {},
     "output_type": "execute_result"
    }
   ],
   "source": [
    "ratings"
   ]
  },
  {
   "cell_type": "code",
   "execution_count": 202,
   "metadata": {},
   "outputs": [],
   "source": [
    "ratings['Year'] = ratings['Date'].apply(lambda x: datetime.strptime(x,\"%Y-%m-%d %H:%M:%S\").year)"
   ]
  },
  {
   "cell_type": "code",
   "execution_count": 213,
   "metadata": {},
   "outputs": [],
   "source": [
    "ratings = ratings.groupby(['Resort','Week', 'Year'])['Rating'].mean()"
   ]
  },
  {
   "cell_type": "code",
   "execution_count": 214,
   "metadata": {},
   "outputs": [],
   "source": [
    "ratings.to_csv('ratings.csv')"
   ]
  },
  {
   "cell_type": "code",
   "execution_count": null,
   "metadata": {},
   "outputs": [],
   "source": []
  }
 ],
 "metadata": {
  "kernelspec": {
   "display_name": "Python 3",
   "language": "python",
   "name": "python3"
  },
  "language_info": {
   "codemirror_mode": {
    "name": "ipython",
    "version": 3
   },
   "file_extension": ".py",
   "mimetype": "text/x-python",
   "name": "python",
   "nbconvert_exporter": "python",
   "pygments_lexer": "ipython3",
   "version": "3.10.11"
  },
  "orig_nbformat": 4
 },
 "nbformat": 4,
 "nbformat_minor": 2
}
